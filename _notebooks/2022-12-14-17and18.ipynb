{
 "cells": [
  {
   "cell_type": "markdown",
   "metadata": {},
   "source": [
    "# Section 3.17 ~ 3.18\n",
    "- toc: true\n",
    "- badges: true\n",
    "- categories: [Hacks_from_other_lesson]\n",
    "- tags: [Lesson_Project]"
   ]
  },
  {
   "cell_type": "code",
   "execution_count": null,
   "metadata": {},
   "outputs": [],
   "source": []
  }
 ],
 "metadata": {
  "kernelspec": {
   "display_name": "Python 3.9.12 ('base')",
   "language": "python",
   "name": "python3"
  },
  "language_info": {
   "name": "python",
   "version": "3.9.12 (main, Apr  5 2022, 06:56:58) \n[GCC 7.5.0]"
  },
  "orig_nbformat": 4,
  "vscode": {
   "interpreter": {
    "hash": "c7f0eff47e976ffd278432ca58e86309fa0a3c18b8fa2d8345190506f8a63e10"
   }
  }
 },
 "nbformat": 4,
 "nbformat_minor": 2
}
