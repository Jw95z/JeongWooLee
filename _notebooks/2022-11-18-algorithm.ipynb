{
 "cells": [
  {
   "cell_type": "code",
   "execution_count": 1,
   "metadata": {},
   "outputs": [
    {
     "name": "stdout",
     "output_type": "stream",
     "text": [
      "***** Method 2 *****\n",
      "and 1 & 1: 1\n",
      "and 1 & 0: 0\n",
      "and 0 & 1: 0\n",
      "and 0 & 0: 0\n",
      "nand ~(1 & 1): 0\n",
      "nand ~(1 & 0): 1\n",
      "nand ~(0 & 1): 1\n",
      "nand ~(0 & 0): 1\n",
      "or 1 | 1: 1\n",
      "or 1 | 0: 1\n",
      "or 0 | 1: 1\n",
      "or 0 | 0: 0\n",
      "nor ~(1 | 1): 0\n",
      "nor ~(1 | 0): 0\n",
      "nor ~(0 | 1): 0\n",
      "nor ~(0 | 0): 1\n",
      "xor 1 ^ 1: 0\n",
      "xor 1 ^ 0: 1\n",
      "xor 0 ^ 1: 1\n",
      "xor 0 ^ 0: 0\n"
     ]
    }
   ],
   "source": [
    "def method2():\n",
    "    truth_table = [[1,1], [1,0], [0,1], [0,0]]\n",
    "    for a, b in truth_table:\n",
    "        print(f\"and {a} & {b}: {a & b}\")\n",
    "    for a, b in truth_table:\n",
    "        print(f\"nand ~({a} & {b}): {((a & b) + 1) % 2}\") # warning: ~ negates entire integer without modulo\n",
    "    for a, b in truth_table:\n",
    "        print(f\"or {a} | {b}: {a | b}\")\n",
    "    for a, b in truth_table:\n",
    "        print(f\"nor ~({a} | {b}): {((a | b) + 1) % 2}\")  # warning: see above\n",
    "    for a, b in truth_table:\n",
    "        print(f\"xor {a} ^ {b}: {a ^ b}\")\n",
    "\n",
    "\n",
    "# call bitwise evaluation of truth table\n",
    "if __name__ == \"__main__\":\n",
    "    print(\"***** Method 2 *****\")\n",
    "    method2()"
   ]
  },
  {
   "cell_type": "code",
   "execution_count": 2,
   "metadata": {},
   "outputs": [
    {
     "name": "stdout",
     "output_type": "stream",
     "text": [
      "0\n"
     ]
    }
   ],
   "source": [
    "a=1\n",
    "b=0\n",
    "print(a & b)"
   ]
  }
 ],
 "metadata": {
  "kernelspec": {
   "display_name": "Python 3.9.12 ('base')",
   "language": "python",
   "name": "python3"
  },
  "language_info": {
   "codemirror_mode": {
    "name": "ipython",
    "version": 3
   },
   "file_extension": ".py",
   "mimetype": "text/x-python",
   "name": "python",
   "nbconvert_exporter": "python",
   "pygments_lexer": "ipython3",
   "version": "3.9.12"
  },
  "orig_nbformat": 4,
  "vscode": {
   "interpreter": {
    "hash": "c7f0eff47e976ffd278432ca58e86309fa0a3c18b8fa2d8345190506f8a63e10"
   }
  }
 },
 "nbformat": 4,
 "nbformat_minor": 2
}
