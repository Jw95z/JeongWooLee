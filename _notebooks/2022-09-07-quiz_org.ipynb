{
 "cells": [
  {
   "cell_type": "markdown",
   "metadata": {},
   "source": [
    "# Quiz in code.org\n",
    "\n",
    "- toc: true\n",
    "- badges: true\n",
    "- comments: true\n",
    "- categories: [week 3]"
   ]
  },
  {
   "cell_type": "markdown",
   "metadata": {},
   "source": [
    "<pre>\n",
    "Fruit_quiz\n",
    "question1: what color the apple have? \n",
    "answer: red \n",
    "wrong: blue\n",
    "wrong: purple\n",
    "wrong: orange\n",
    "when were bananas discovered?\n",
    "answer: 327 BC\n",
    "wrong: 1997\n",
    "wrong: 1792\n",
    "wrong 2020 BC\n",
    "what one is a fruit? \n",
    "answer: strawberries\n",
    "wrong: melon\n",
    "wrong: tomato\n",
    "wrong: strawberries\n",
    "\n",
    "If answer is wrong, there is one chance to redo and if there is two incorrect, the player cannot take the quiz. If player solve the question with at least one incorrect, they can retake the quiz.\n",
    "</pre>"
   ]
  }
 ],
 "metadata": {
  "kernelspec": {
   "display_name": "Python 3.8.10 64-bit",
   "language": "python",
   "name": "python3"
  },
  "language_info": {
   "name": "python",
   "version": "3.8.10"
  },
  "orig_nbformat": 4,
  "vscode": {
   "interpreter": {
    "hash": "916dbcbb3f70747c44a77c7bcd40155683ae19c65e1c03b4aa3499c5328201f1"
   }
  }
 },
 "nbformat": 4,
 "nbformat_minor": 2
}
