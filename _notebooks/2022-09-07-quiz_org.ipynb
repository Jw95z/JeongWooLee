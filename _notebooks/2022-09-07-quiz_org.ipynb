{
 "cells": [
  {
   "cell_type": "markdown",
   "metadata": {},
   "source": [
    "# Quiz in code.org\n",
    "\n",
    "- toc: true\n",
    "- badges: true\n",
    "- comments: true\n",
    "- categories: [week 3]"
   ]
  },
  {
   "cell_type": "markdown",
   "metadata": {},
   "source": [
    "Fruit_quiz\n",
    "question1: what color the apple have? \n",
    "answer: red\n",
    "wrong: blue, orange, purple\n",
    "when were bananas discovered?\n",
    "answer: 327 BC\n",
    "wrong: 1997, 1998, 2020\n",
    "what one is a fruit? \n",
    "answer: strawberries\n",
    "wrong: melon, tomato, mushroom\n"
   ]
  }
 ],
 "metadata": {
  "kernelspec": {
   "display_name": "Python 3.8.10 64-bit",
   "language": "python",
   "name": "python3"
  },
  "language_info": {
   "name": "python",
   "version": "3.8.10"
  },
  "orig_nbformat": 4,
  "vscode": {
   "interpreter": {
    "hash": "916dbcbb3f70747c44a77c7bcd40155683ae19c65e1c03b4aa3499c5328201f1"
   }
  }
 },
 "nbformat": 4,
 "nbformat_minor": 2
}
