{
 "cells": [
  {
   "cell_type": "code",
   "execution_count": 11,
   "metadata": {},
   "outputs": [
    {
     "name": "stdout",
     "output_type": "stream",
     "text": [
      "['afa', 'end']\n"
     ]
    }
   ],
   "source": [
    "dic_list = []\n",
    "while True:\n",
    "    sel = int(input(\"press 1 to continue and press 2 to stop\"))\n",
    "    if sel == 1:\n",
    "        print(\"adding in dictionary\")\n",
    "        my_dict = {}\n",
    "        while True:\n",
    "            key = int(input(\"key: \"))\n",
    "            val = input(\"value: \")\n",
    "            my_dict[key] = val\n",
    "            con = int(input(\"press 1 to continue and press 2 to stop\"))\n",
    "            if con ==2:\n",
    "                print(\" The End \")\n",
    "                break\n",
    "            dic_list.append(my_dict)\n",
    "    elif sel == 2:\n",
    "        print(\"end\")\n",
    "        break\n",
    "    else:\n",
    "        print(\"you pick the wrong one\")\n",
    "        break\n",
    "print(\"This is the list you made: \",dic_list)"
   ]
  },
  {
   "cell_type": "markdown",
   "metadata": {},
   "source": [
    "# List of dictionaries\n",
    "> A Post for Hacks of Jupyter notebooks.\n",
    "\n",
    "- toc: true\n",
    "- badges: true\n",
    "- comments: true\n",
    "- catergories: [jupyter]"
   ]
  }
 ],
 "metadata": {
  "kernelspec": {
   "display_name": "Python 3.8.10 64-bit",
   "language": "python",
   "name": "python3"
  },
  "language_info": {
   "codemirror_mode": {
    "name": "ipython",
    "version": 3
   },
   "file_extension": ".py",
   "mimetype": "text/x-python",
   "name": "python",
   "nbconvert_exporter": "python",
   "pygments_lexer": "ipython3",
   "version": "3.8.10"
  },
  "orig_nbformat": 4,
  "vscode": {
   "interpreter": {
    "hash": "916dbcbb3f70747c44a77c7bcd40155683ae19c65e1c03b4aa3499c5328201f1"
   }
  }
 },
 "nbformat": 4,
 "nbformat_minor": 2
}
