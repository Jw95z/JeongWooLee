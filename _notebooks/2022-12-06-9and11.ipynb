{
 "cells": [
  {
   "cell_type": "markdown",
   "metadata": {},
   "source": [
    "# Section 3.9 and 3.11\n",
    "- toc: true\n",
    "- badges: true\n",
    "- categories: [Hacks]\n",
    "- tags: [Lesson_Project]"
   ]
  },
  {
   "cell_type": "markdown",
   "metadata": {},
   "source": [
    "## Notes\n",
    "### components of Algorithms\n",
    "* selection\n",
    "* Sequence\n",
    "* Iteration\n",
    "- Algorithms can be written differently but it still go same thing. Some Algorithms look similar, but it work in different way.   \n",
    "- !!!Know that the code can be similar but sometime they goes different!!!!\n",
    "### So, why is this important? Why are we even doing this?\n",
    "- When 2 algorithms look extremely similar, it is easy to assume they do the same thing. However, that is not the case and we have learn how to notice small differences in code and pretty much debug.\n",
    "    - just know that codes that look similar don't always produce the same things :)\n",
    "### Why is this important?\n",
    "- When collaborating or working on group projects, two people might come up with two different ways to solve a problem, and that happens a lot.\n",
    "    - know that same goal can be achieved in many ways (the possibilities are endless)\n",
    "    - make notes in you code! (explain how it works to others or you future self)\n",
    "### Binary Search:\n",
    "\n",
    "repeatedly dividing a search interval in half\n",
    "\n",
    "### Binary Search Steps:\n",
    "\n",
    "- first put the numbers in order\n",
    "    - ascending\n",
    "    - descending\n",
    "- find the middle number first\n",
    "    - this is found by taking the highest index number plus the lowest index number and divide by 2\n",
    "    - the numbers on the right will be greater and the numbers on the left will be smaller\n",
    "    - this can be represented with a binary tree\n",
    "        - middle number with the smaller number branched off on the left and bigger numbers branched off on the right\n",
    "\n",
    "- these lists are not always numbers\n",
    "    - lists can be made with strings\n",
    "    - ex. [\"apple\", \"banana\", \"cherry\", \"peach\", \"watermelon\"]\n",
    "    - alphabetical order\n",
    "        - a-z"
   ]
  },
  {
   "cell_type": "markdown",
   "metadata": {},
   "source": [
    "## Vocab\n",
    "- Binary search: a searching algorithm used in a sorted array by repeatedly dividing the search interval in half"
   ]
  },
  {
   "cell_type": "code",
   "execution_count": 46,
   "metadata": {},
   "outputs": [
    {
     "name": "stdout",
     "output_type": "stream",
     "text": [
      "60\n"
     ]
    }
   ],
   "source": [
    "l = [7, 13, 96, 111, 33, 84, 60]\n",
    "for j in range(len(l)):\n",
    "    k = len(l) - j\n",
    "    for i in range(1, k):\n",
    "        if l[i-1] >= l[i]:\n",
    "            temp = l[i-1]\n",
    "            l[i-1] = l[i]\n",
    "            l[i] = temp\n",
    "def finding(x):\n",
    "    n=len(x)\n",
    "    if n%2==1:\n",
    "        result=x[int((n-1)/2)]\n",
    "\n",
    "    else:\n",
    "        result=(x[int(n/2)-1]+x[int(n/2)])/2\n",
    "\n",
    "    return result\n",
    "print(finding(l))"
   ]
  },
  {
   "cell_type": "markdown",
   "metadata": {},
   "source": [
    "## Hack 1\n",
    "### Why it is important to know algorithms that look different?\n",
    "- It is important to know algorithms that look different can do the same thing because if we know many codes, it will comfortable to us to write. There are many ways in coding to make same result. But, if the code is shorter, it will be more easy to understand or can teach to other people. If you know different kind of code that lead to same result, you can write each codes in proper situation.  Code is not just made by one person and codes are being complicated these days. \n",
    "\n",
    "### Wht it is important to aware algorithms that look same but different result?\n",
    "- It is also important to learn same algorithms that lead to different result. It will make you prevent mistake in your code. Most of elective devices are composed by several codes. But, if there is one mistake in just one code. The devices will not work well. The code is like a gear. If one gear in the clock is broken, the clock will stop. This is also same as codes.\n",
    "\n",
    "### Boolean conversion"
   ]
  },
  {
   "cell_type": "code",
   "execution_count": 15,
   "metadata": {},
   "outputs": [
    {
     "name": "stdout",
     "output_type": "stream",
     "text": [
      "Need to take Umbrella\n"
     ]
    }
   ],
   "source": [
    "Raining = True\n",
    "IsWeekend = False\n",
    "\n",
    "if IsWeekend == True:\n",
    "    print(\"Don't have to go school\")\n",
    "else:\n",
    "    if Raining == True:\n",
    "        print(\"Need to take Umbrella\")\n",
    "    else:\n",
    "        print(\"Don't need to take Umbrella\")"
   ]
  },
  {
   "cell_type": "code",
   "execution_count": 16,
   "metadata": {},
   "outputs": [
    {
     "name": "stdout",
     "output_type": "stream",
     "text": [
      "Take Umbrella\n"
     ]
    }
   ],
   "source": [
    "Raining = True\n",
    "IsWeekend = False\n",
    "\n",
    "SchoolForUmbrella = not(IsWeekend) and Raining\n",
    "if SchoolForUmbrella == True:\n",
    "    print(\"Take Umbrella\")\n",
    "if SchoolForUmbrella == False:\n",
    "    print(\"Don't have to take it\")"
   ]
  },
  {
   "cell_type": "markdown",
   "metadata": {},
   "source": [
    "### other example\n",
    "- I made a code that indicates the time. We can know the season and exact time by this code"
   ]
  },
  {
   "cell_type": "code",
   "execution_count": 17,
   "metadata": {},
   "outputs": [
    {
     "name": "stdout",
     "output_type": "stream",
     "text": [
      "2022 year\n",
      "12 month\n",
      "8 day\n",
      "22 hour\n",
      "20 minute\n",
      "54 second\n",
      "2022year 12month 8day 22hour 20minute 54second\n",
      "The current time is 22:20, so it is PM!\n",
      "This month is winter!\n"
     ]
    }
   ],
   "source": [
    "import datetime\n",
    "\n",
    "now = datetime.datetime.now()\n",
    "\n",
    "print(now.year, 'year')\n",
    "print(now.month, 'month')\n",
    "print(now.day, 'day')\n",
    "print(now.hour, 'hour')\n",
    "print(now.minute, 'minute')\n",
    "print(now.second, 'second')\n",
    "\n",
    "print('{}year {}month {}day {}hour {}minute {}second'.format(\n",
    "    now.year,\n",
    "    now.month,\n",
    "    now.day,\n",
    "    now.hour,\n",
    "    now.minute,\n",
    "    now.second\n",
    "))\n",
    "\n",
    "\n",
    "if now.hour < 12:\n",
    "    print('The current time is {}:{}, so it is AM!'.format(now.hour, now.minute))\n",
    "if now.hour >=12:\n",
    "    print('The current time is {}:{}, so it is PM!'.format(now.hour, now.minute))\n",
    "    \n",
    "\n",
    "if 3 <= now.month <= 5:\n",
    "    print('This month is spring!'.format(now.month))\n",
    "    \n",
    "elif 6 <= now.month <= 8:\n",
    "    print('This month is summer!'.format(now.month))\n",
    "\n",
    "elif 9 <= now.month <= 11:\n",
    "    print('This month is fall!'.format(now.month))\n",
    "\n",
    "elif now.month ==12 or 1<= now.month <= 2:\n",
    "    print('This month is winter!'.format(now.month))"
   ]
  },
  {
   "cell_type": "markdown",
   "metadata": {},
   "source": [
    "## Hack 2\n",
    "### Flow chart\n",
    "- I made a code about rock, scissor, papaer\n",
    "![otherchart](../images/chart4.png)\n",
    "1. Start\n",
    "2. Player and computer are doing rock, scissor, paper\n",
    "3. compare what they did\n",
    "4. If (player,com) is (rock, scissor) or (paper, rock) or (scissor, paper), player won\n",
    "5. If player and computer did a same thing, it will be draw.\n",
    "6. else, computer won\n",
    "7. End\n"
   ]
  },
  {
   "cell_type": "markdown",
   "metadata": {},
   "source": [
    "### Code"
   ]
  },
  {
   "cell_type": "code",
   "execution_count": 45,
   "metadata": {},
   "outputs": [
    {
     "name": "stdout",
     "output_type": "stream",
     "text": [
      "\n",
      "-------------------------------------------\n",
      "player 1 ( rock vs paper ) com\n",
      "lose.\n",
      "-------------------------------------------\n",
      "\n"
     ]
    }
   ],
   "source": [
    "import random\n",
    "\n",
    "sel = ['scissor', 'rock', 'paper']\n",
    "result = {0: 'win.', 1: 'lose.', 2: 'draw.'}\n",
    "\n",
    "def checkWin(user, com):\n",
    "\n",
    "    if not user in sel:\n",
    "       print('you wrote wrong. type it again')\n",
    "       return False\n",
    "\n",
    "    print(f'player 1 ( {user} vs {com} ) com')\n",
    "    if user == com:\n",
    "        state = 2\n",
    "    elif user == 'scissor' and com == 'rock':\n",
    "        state = 1\n",
    "    elif user == 'rock' and com == 'paper':\n",
    "        state = 1\n",
    "    elif user == 'paper' and com == 'scissor':\n",
    "        state = 1\n",
    "    else:\n",
    "        state = 0\n",
    "    print(result[state])\n",
    "    return True\n",
    "\n",
    "\n",
    "print('\\n-------------------------------------------')\n",
    "while True:\n",
    "    user = input(\"rock, scissor, paper : \")\n",
    "    com = sel[random.randint(0, 2)]\n",
    "    if checkWin(user, com):\n",
    "        break\n",
    "print('-------------------------------------------\\n')"
   ]
  },
  {
   "cell_type": "markdown",
   "metadata": {},
   "source": [
    "## Hack 3\n",
    "### Flow chart\n",
    "![flowchartforgame](../images/chart5.png)\n",
    "### Fixing code"
   ]
  },
  {
   "cell_type": "code",
   "execution_count": 6,
   "metadata": {},
   "outputs": [
    {
     "name": "stdout",
     "output_type": "stream",
     "text": [
      "I'm thinking of a number between 1 and 100.\n",
      "You guessed 1.\n",
      "The random Number is more higher than you guess\n",
      "Guess a number between 1 and 100.\n",
      "You guessed 10.\n",
      "The random Number is more higher than you guess\n",
      "Guess a number between 10 and 100.\n",
      "You guessed 50.\n",
      "The random Number is more higher than you guess\n",
      "Guess a number between 50 and 100.\n",
      "You guessed 60.\n",
      "The random Number is more higher than you guess\n",
      "Guess a number between 60 and 100.\n",
      "You guessed 70.\n",
      "The random Number is more higher than you guess\n",
      "Guess a number between 70 and 100.\n",
      "You guessed 80.\n",
      "The random Number is more higher than you guess\n",
      "Guess a number between 80 and 100.\n",
      "You guessed 90.\n",
      "The random Number is more lower than you guess\n",
      "Guess a number between 80 and 90.\n",
      "You guessed 85.\n",
      "The random Number is more lower than you guess\n",
      "Guess a number between 80 and 85.\n",
      "You guessed 82.\n",
      "The random Number is more lower than you guess\n",
      "Guess a number between 80 and 82.\n",
      "You guessed 81.\n",
      "Guess a number between 80 and 82.\n",
      "You guessed the number in 10 guesses!\n"
     ]
    }
   ],
   "source": [
    "import random\n",
    "\n",
    "#sets variables for the game\n",
    "num_guesses = 0\n",
    "user_guess = 0\n",
    "upper_bound = 100\n",
    "lower_bound = 0\n",
    "\n",
    "#generates a random number\n",
    "number = int(random.randint(1,100))\n",
    "\n",
    "# print(number)     #for testing purposes\n",
    "\n",
    "print(f\"I'm thinking of a number between 1 and 100.\")\n",
    "\n",
    "#Write a function that gets a guess from the user using input()\n",
    "def guess():\n",
    "    guess = int(input(\"Guess the number: \"))#add something here\n",
    "    return guess#add something here \n",
    "\n",
    "#Change the print statements to give feedback on whether the player guessed too high or too low\n",
    "def search(number, guess):\n",
    "    global lower_bound, upper_bound\n",
    "    if guess < number:\n",
    "        print(\"The random Number is more higher than you guess\") #change this\n",
    "        lower_bound = guess\n",
    "    elif guess > number:\n",
    "        print(\"The random Number is more lower than you guess\") #change this\n",
    "        upper_bound = guess\n",
    "    return lower_bound, upper_bound\n",
    "\n",
    "while user_guess != number:\n",
    "    user_guess = guess()\n",
    "    num_guesses += 1\n",
    "    print(f\"You guessed {user_guess}.\")\n",
    "    lower_bound, upper_bound = search(number, user_guess)\n",
    "    print(f\"Guess a number between {lower_bound} and {upper_bound}.\")\n",
    "\n",
    "print(f\"You guessed the number in {num_guesses} guesses!\")"
   ]
  },
  {
   "cell_type": "markdown",
   "metadata": {},
   "source": [
    "### Other way"
   ]
  },
  {
   "cell_type": "code",
   "execution_count": 20,
   "metadata": {},
   "outputs": [
    {
     "name": "stdout",
     "output_type": "stream",
     "text": [
      "guess the number between 1 to 100\n",
      "High\n",
      "High\n",
      "Low\n",
      "Low\n",
      "High\n",
      "Congratulation you tries 7 times\n"
     ]
    }
   ],
   "source": [
    "import random\n",
    "tries = 0\n",
    "guess = 0\n",
    "answer = random.randint(1,100)\n",
    "print(\"guess the number between 1 to 100\")\n",
    "guess = int(input(\"enter the number\"))\n",
    "while True:\n",
    "    tries = int(tries + 1)\n",
    "    if tries > 10: \n",
    "        print(\"Answer is \", answer)\n",
    "        break\n",
    "    elif guess < answer:\n",
    "        print(\"Low\")\n",
    "    elif guess > answer: \n",
    "        print(\"High\")\n",
    "    elif guess == answer:\n",
    "        print(\"Congratulation you tries\", tries +1, \"times\")\n",
    "        break\n",
    "    guess = int(input(\"enter the number\"))"
   ]
  },
  {
   "cell_type": "markdown",
   "metadata": {},
   "source": [
    "## Hack 4\n",
    "### Calculate the binary"
   ]
  },
  {
   "cell_type": "code",
   "execution_count": 32,
   "metadata": {},
   "outputs": [
    {
     "name": "stdout",
     "output_type": "stream",
     "text": [
      "3\n",
      "57\n"
     ]
    }
   ],
   "source": [
    "a = [12, 14, 43, 57, 79, 80, 99]\n",
    "midNumber = round(((len(a)-1)/2))\n",
    "print(midNumber)\n",
    "print(a[midNumber])"
   ]
  },
  {
   "cell_type": "markdown",
   "metadata": {},
   "source": [
    "![mid1](../images/chart6.png)"
   ]
  },
  {
   "cell_type": "code",
   "execution_count": 40,
   "metadata": {},
   "outputs": [
    {
     "name": "stdout",
     "output_type": "stream",
     "text": [
      "3\n",
      "43\n"
     ]
    }
   ],
   "source": [
    "b = [92, 43, 74, 66, 30, 12, 1]\n",
    "b.sort()\n",
    "median = 0\n",
    "idx = 0\n",
    "if len(b) % 2 == 0:\n",
    "    idx = len(b)//2\n",
    "    median = (b[idx-1] + b[idx])/2\n",
    "else: \n",
    "    idx = len(b)//2\n",
    "    median = b[idx]\n",
    "print(idx)\n",
    "print(median)"
   ]
  },
  {
   "cell_type": "markdown",
   "metadata": {},
   "source": [
    "![mid2](../images/chart7.png)"
   ]
  },
  {
   "cell_type": "code",
   "execution_count": 42,
   "metadata": {},
   "outputs": [
    {
     "name": "stdout",
     "output_type": "stream",
     "text": [
      "60\n"
     ]
    }
   ],
   "source": [
    "lst = [7, 13, 96, 111, 33, 84, 60]\n",
    "def median(i):\n",
    "    half = len(i)//2\n",
    "    i.sort()\n",
    "    if not len(i) % 2:\n",
    "        return(i[half-1]+i[half])/2.0\n",
    "    return i[half]\n",
    "print(median(lst))"
   ]
  },
  {
   "cell_type": "markdown",
   "metadata": {},
   "source": [
    "![mid3](../images/chart8.png)"
   ]
  },
  {
   "cell_type": "markdown",
   "metadata": {},
   "source": [
    "### This is the way of not using sort()"
   ]
  },
  {
   "cell_type": "code",
   "execution_count": 41,
   "metadata": {},
   "outputs": [
    {
     "name": "stdout",
     "output_type": "stream",
     "text": [
      "60\n"
     ]
    }
   ],
   "source": [
    "l = [7, 13, 96, 111, 33, 84, 60]\n",
    "for j in range(len(l)):\n",
    "    k = len(l) - j\n",
    "    for i in range(1, k):\n",
    "        if l[i-1] >= l[i]:\n",
    "            temp = l[i-1]\n",
    "            l[i-1] = l[i]\n",
    "            l[i] = temp\n",
    "def finding(x):\n",
    "    n=len(x)\n",
    "    if n%2==1:\n",
    "        result=x[int((n-1)/2)]\n",
    "\n",
    "    else:\n",
    "        result=(x[int(n/2)-1]+x[int(n/2)])/2\n",
    "\n",
    "    return result\n",
    "print(finding(l))"
   ]
  },
  {
   "cell_type": "markdown",
   "metadata": {},
   "source": [
    "### Question 1\n",
    "- Using one of the sets of numbers from the question above, what would be the second number looked at in a binary search if the number is more than the middle number? \n",
    "#### Answer\n",
    "- Set1: 80, Set2: 74, and Set: 96.\n",
    "### Question2\n",
    "- Which of the following lists can NOT a binary search be used in order to find a targeted value?\n",
    "\n",
    "    a. [\"amy\", \"beverly\", \"christian\", \"devin\"]\n",
    "\n",
    "    b. [-1, 2, 6, 9, 19]\n",
    "\n",
    "    c. [3, 2, 8, 12, 99]\n",
    "    \n",
    "    d. [\"xylophone\", \"snowman\", \"snake\", \"doorbell\", \"author\"]\n",
    "#### Answer\n",
    "- The answer is C, because it is not sorted. "
   ]
  },
  {
   "cell_type": "markdown",
   "metadata": {},
   "source": [
    "## Extra thing\n",
    "- I made a bingo game by using iteration and selection"
   ]
  },
  {
   "cell_type": "code",
   "execution_count": 43,
   "metadata": {},
   "outputs": [
    {
     "name": "stdout",
     "output_type": "stream",
     "text": [
      " _ _ _\n",
      "|_|_|_|\n",
      "|_|_|_|\n",
      "|_|_|_|\n",
      "<Play no.1>\n",
      "Currently player: 1\n",
      " _ _ _\n",
      "|O|_|_|\n",
      "|_|_|_|\n",
      "|_|_|_|\n",
      "<Play no.2>\n",
      "Currently player: 2\n",
      " _ _ _\n",
      "|O|_|_|\n",
      "|_|_|_|\n",
      "|X|_|_|\n",
      "<Play no.3>\n",
      "Currently player: 1\n",
      " _ _ _\n",
      "|O|O|_|\n",
      "|_|_|_|\n",
      "|X|_|_|\n",
      "<Play no.4>\n",
      "Currently player: 2\n",
      " _ _ _\n",
      "|O|O|_|\n",
      "|_|X|_|\n",
      "|X|_|_|\n",
      "<Play no.5>\n",
      "Currently player: 1\n",
      " _ _ _\n",
      "|O|O|O|\n",
      "|_|X|_|\n",
      "|X|_|_|\n",
      "Player 1 wins!\n",
      "Finish\n"
     ]
    }
   ],
   "source": [
    "def board(bingo, dimension):\n",
    "    for i in range(dimension):\n",
    "        print(' _', end = '')\n",
    "    for i in range(dimension):\n",
    "        print()\n",
    "        print('|', end = '')\n",
    "        for j in range(dimension):\n",
    "            print(bingo[i][j] + '|', end = '')\n",
    "    print()\n",
    "\n",
    "\n",
    "while True:\n",
    "    dimension = int(input(\"Please input the size of the game board(more than 2): \"))\n",
    "    if dimension <= 2 :\n",
    "        print('[Error] try again')\n",
    "    else:\n",
    "        break\n",
    "\n",
    "bingo = [['_']*dimension for i in range(dimension)]\n",
    "board(bingo, dimension)\n",
    "\n",
    "turn = 1\n",
    "play_count = 0\n",
    "while True:\n",
    "    print('<Play no.{}>'.format(play_count+1))\n",
    "    if turn == 1:\n",
    "        print('Currently player: 1')\n",
    "        row_1 = int(input('Which row?(start with 1)'))\n",
    "        column_1 = int(input('Which column?(start with 1)'))\n",
    "\n",
    "        if bingo[row_1-1][column_1-1] != '_':\n",
    "            print('Space is not empty. Try again')\n",
    "            turn = 1\n",
    "            continue\n",
    "        else:\n",
    "            bingo[row_1-1][column_1-1] = 'O'\n",
    "            board(bingo,dimension)\n",
    "            turn = 2\n",
    "\n",
    "    elif turn == 2:\n",
    "        print('Currently player: 2')\n",
    "        row_2 = int(input('Which row?(start with 1) '))\n",
    "        column_2 = int(input('Which column?(start with 1) '))\n",
    "\n",
    "        if bingo[row_2-1][column_2-1] != '_':\n",
    "            print('Space is not empty. Try again')\n",
    "            turn = 2\n",
    "            continue\n",
    "        else:\n",
    "            bingo[row_2-1][column_2-1] = 'X'\n",
    "            board(bingo,dimension)\n",
    "            turn = 1\n",
    "\n",
    "    check_diag = []\n",
    "    check_reverse = []\n",
    "    check_row = []\n",
    "    check_column =[]\n",
    "            \n",
    "    for i in range(dimension):\n",
    "        check_diag.append(bingo[i][i])\n",
    "        check_reverse.append(bingo[dimension-i-1][i])\n",
    "        \n",
    "\n",
    "        for j in range(dimension):\n",
    "            check_row.append(bingo[i][j])\n",
    "            check_column.append(bingo[j][i])\n",
    "        \n",
    "        if set(check_row) == {'O'}:\n",
    "            print('Player 1 wins!')\n",
    "            turn = 0\n",
    "        elif set(check_row) == {'X'}:\n",
    "            print('Player 2 wins!')\n",
    "            turn = 0\n",
    "\n",
    "        check_row = []\n",
    "\n",
    "        if set(check_column) == {'O'}:\n",
    "            print('Player 1 wins!')\n",
    "            turn = 0\n",
    "        elif set(check_column) == {'X'}:\n",
    "            print('Player 2 wins!')\n",
    "            turn = 0\n",
    "        check_column = []\n",
    "\n",
    "    check_diag = set(check_diag)\n",
    "    check_reverse = set(check_reverse)\n",
    "\n",
    "    if check_diag == {'O'} or check_reverse == {'O'}:\n",
    "        print('Player 1 wins!')\n",
    "        turn = 0\n",
    "        \n",
    "    elif check_diag == {'X'} or check_reverse == {'X'}:\n",
    "        print('Player 2 wins!')\n",
    "        turn = 0\n",
    "\n",
    "    play_count += 1\n",
    "\n",
    "\n",
    "    if turn == 0 or play_count == dimension**2:\n",
    "        print('Finish')\n",
    "        break"
   ]
  },
  {
   "cell_type": "markdown",
   "metadata": {},
   "source": [
    "## Please Give me Perfect Score"
   ]
  }
 ],
 "metadata": {
  "kernelspec": {
   "display_name": "Python 3.9.12 ('base')",
   "language": "python",
   "name": "python3"
  },
  "language_info": {
   "codemirror_mode": {
    "name": "ipython",
    "version": 3
   },
   "file_extension": ".py",
   "mimetype": "text/x-python",
   "name": "python",
   "nbconvert_exporter": "python",
   "pygments_lexer": "ipython3",
   "version": "3.9.12"
  },
  "orig_nbformat": 4,
  "vscode": {
   "interpreter": {
    "hash": "c7f0eff47e976ffd278432ca58e86309fa0a3c18b8fa2d8345190506f8a63e10"
   }
  }
 },
 "nbformat": 4,
 "nbformat_minor": 2
}
