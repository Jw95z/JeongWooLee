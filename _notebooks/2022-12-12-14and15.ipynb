{
 "cells": [
  {
   "cell_type": "markdown",
   "metadata": {},
   "source": [
    "# Section 3.14 ~ 3.15\n",
    "- toc: true\n",
    "- badges: true\n",
    "- categories: [Hacks_from_other_lesson]\n",
    "- tags: [Lesson_Project]"
   ]
  },
  {
   "attachments": {},
   "cell_type": "markdown",
   "metadata": {},
   "source": [
    "## Vocab\n",
    "- Library: a collection of code from an external source that can be used to add functionality to a program\n",
    "    - they are very useful, as they can make us save time.\n",
    "    - Libraries includes several special codes and these codes make the function. "
   ]
  },
  {
   "cell_type": "code",
   "execution_count": 7,
   "metadata": {},
   "outputs": [
    {
     "name": "stdout",
     "output_type": "stream",
     "text": [
      "5 of 4 root is 1.4953487812212205\n"
     ]
    }
   ],
   "source": [
    "import math\n",
    "def root():\n",
    "    num1 = int(input(\"write a number: \"))\n",
    "    a = int(input(\"how much did you want to divide\"))\n",
    "    b = float(1/a)\n",
    "    num2 =  float(num1**b)\n",
    "    print(num1, \"of\",a ,\"root is\", num2)\n",
    "root()"
   ]
  },
  {
   "attachments": {},
   "cell_type": "markdown",
   "metadata": {},
   "source": [
    "- Randomization: having a random value between two value\n",
    "    - If there is random(3, 7), the result will be 3 or 4 or 5 or 6 or 7. \n",
    "    - In these days, there is many random things in the world. The most popular thing that use random is gambling."
   ]
  },
  {
   "cell_type": "code",
   "execution_count": 8,
   "metadata": {},
   "outputs": [
    {
     "name": "stdout",
     "output_type": "stream",
     "text": [
      "6\n"
     ]
    }
   ],
   "source": [
    "import random\n",
    "a = random.randint(1,7)\n",
    "print(a)"
   ]
  },
  {
   "attachments": {},
   "cell_type": "markdown",
   "metadata": {},
   "source": [
    "\n",
    "seed()\t          |  Initialize the random number generator\n",
    "\n",
    "getstate()\t      |  Returns the current internal state of the random number generator\n",
    "\n",
    "setstate()\t      |  Restores the internal state of the random number generator\n",
    "\n",
    "getrandbits()\t  |  Returns a number representing the random bits\n",
    "\n",
    "randrange()\t      |  Returns a random number between the given range\n",
    "\n",
    "randint()\t      |  Returns a random number between the given range\n",
    "\n",
    "choice()\t      |  Returns a random element from the given sequence\n",
    "\n",
    "choices()\t      |  Returns a list with a random selection from the given sequence\n",
    "\n",
    "shuffle()\t      |  Takes a sequence and returns the sequence in a random order\n",
    "\n",
    "sample()\t      |  Returns a given sample of a sequence\n",
    "\n",
    "random()\t      |  Returns a random float number between 0 and 1\n",
    "\n",
    "uniform()\t      |  Returns a random float number between two given parameters\n",
    "\n",
    "betavariate()\t  |  Returns a random float number between 0 and 1 based on the Beta distribution (used in statistics)\n",
    "\n",
    "expovariate()\t  |  Returns a random float number based on the Exponential distribution (used in statistics)\n",
    "\n",
    "gammavariate()\t  |  Returns a random float number based on the Gamma distribution (used in statistics)\n",
    "\n",
    "gauss()\t          |  Returns a random float number based on the Gaussian distribution (used in probability theories)\n",
    "\n",
    "lognormvariate()  |  Returns a random float number based on a log-normal distribution (used in probability theories)\n",
    "\n",
    "normalvariate()\t  |  Returns a random float number based on the normal distribution (used in probability theories)\n",
    "\n",
    "vonmisesvariate() |  Returns a random float number based on the von Mises distribution (used in directional statistics)\n",
    "\n",
    "paretovariate()\t  |  Returns a random float number based on the Pareto distribution (used in probability theories)\n",
    "\n",
    "weibullvariate()  |  Returns a random float number based on the Weibull distribution (used in statistics)\n"
   ]
  },
  {
   "attachments": {},
   "cell_type": "markdown",
   "metadata": {},
   "source": [
    "## Notes\n",
    "### Library\n",
    "- Software library contains procedures that can be used in the creation of new programs.\n",
    "- Existing segments of code can come from internal or external sources, ie. libraries or previously written code.\n",
    "- The use of libraries simplifies the task of creating complex programs.\n",
    "- Application program interfaces (APIs) are specifications for how the procedures in a library behave and can be used.\n",
    "- Documentation for a library or API is necessary in understanding the key behaviors provided by the API/library and how to utilize them in your work.\n",
    "### Randomization\n",
    "- Random can also have different methods, in the above examples we only used one example, randint which returns a random number between the given range. Down below I have created a table of all the methods with the description of what it is used for with the random function."
   ]
  },
  {
   "cell_type": "markdown",
   "metadata": {},
   "source": [
    "## Hack 1\n",
    "### Write the code that use libraries"
   ]
  },
  {
   "cell_type": "code",
   "execution_count": 7,
   "metadata": {},
   "outputs": [
    {
     "name": "stdout",
     "output_type": "stream",
     "text": [
      "if you are ready, please press enter to start\n",
      "1 th question: \n",
      "Frog are sleeping in the winter\n",
      "Pass\n",
      "2 th question: \n",
      "Mouse is used to be in computer\n",
      "Pass\n",
      "3 th question: \n",
      "Panda are living in China\n",
      "Pass\n",
      "4 th question: \n",
      "fox is quiet\n",
      "Pass\n",
      "5 th question: \n",
      "Bear is catching the fish\n",
      "Pass\n",
      "You got  37.188412 seconds\n"
     ]
    }
   ],
   "source": [
    "import random\n",
    "## fetching the random function\n",
    "import time\n",
    "## fetching the time\n",
    "a = [\"dogs are cute\", \"cats are small\", \"fox is quiet\", \"Mouse is used to be in computer\", \n",
    "\"Panda are living in China\", \"Frog are sleeping in the winter\", \"Bear is catching the fish\"]\n",
    "## defining the list\n",
    "num = 1\n",
    "## Number for the presenting that it is a first\n",
    "print(\"if you are ready, please press enter to start\")\n",
    "## This code is written because I have to know whether player is ready\n",
    "input()\n",
    "## player put enter or any keys in here\n",
    "start = time.time()\n",
    "## time starts\n",
    "question = random.choice(a)\n",
    "## Making a question from the list\n",
    "while num <= 5:\n",
    "    ## I used loop function to reduce the code. \n",
    "    print(num, \"th question: \")\n",
    "    print(question)\n",
    "    ## printing the question\n",
    "    ans = input()\n",
    "    ## players have to write exact same thing, this is for knowing how fast they can type\n",
    "    if ans == question:\n",
    "        print(\"Pass\")\n",
    "        ## if answer is same as the question, print \"pass\"\n",
    "        num += 1\n",
    "        ## And also add 1 in number\n",
    "        a.remove(question)\n",
    "        ## remove the question which is already used\n",
    "        question = random.choice(a)\n",
    "        ## picking another new question\n",
    "    else: \n",
    "        print(\"try again\")\n",
    "        ## if they are not same, print \"try again\"\n",
    "end = time.time()\n",
    "## having the ending time\n",
    "sec = end - start\n",
    "## defining the second about how much it was taken\n",
    "sec = format(sec, \"2f\")\n",
    "## fix in format\n",
    "print(\"You got \", sec, \"seconds\")\n",
    "## print the second"
   ]
  },
  {
   "attachments": {},
   "cell_type": "markdown",
   "metadata": {},
   "source": [
    "#### Explanation \n",
    "- this code is for practicing how fast you type the letters in the keyboard. Player has to type 5 sentences and if the typing is ended, the time that player spend on writing will be printed in the last."
   ]
  },
  {
   "attachments": {},
   "cell_type": "markdown",
   "metadata": {},
   "source": [
    "## Hack2\n",
    "### Few lines of code that implements the import function\n",
    "#### Poker game"
   ]
  },
  {
   "cell_type": "code",
   "execution_count": 2,
   "metadata": {},
   "outputs": [
    {
     "name": "stdout",
     "output_type": "stream",
     "text": [
      "Money =  1990\n",
      "computer:  [('c', 11), ('c', 10)]\n",
      "player  :  [('d', 10), ('c', 8)]\n",
      "Money =  1980\n",
      "computer:  [('c', 11), ('c', 10), ('h', 10)]\n",
      "player  :  [('d', 10), ('c', 8), ('h', 3)]\n",
      "Money =  1970\n",
      "computer:  [('c', 11), ('c', 10), ('h', 10), ('h', 8)]\n",
      "player  :  [('d', 10), ('c', 8), ('h', 3), ('d', 7)]\n",
      "Money =  1960\n",
      "computer:  [('c', 11), ('c', 10), ('h', 10), ('h', 8)]\n",
      "player  :  [('d', 10), ('c', 8), ('h', 3), ('d', 7), ('s', 11)]\n",
      "computer won\n",
      "Money =  1950\n",
      "computer:  [('c', 11), ('c', 10), ('h', 10), ('h', 8), ('s', 7)]\n",
      "player  :  [('d', 10), ('c', 8), ('h', 3), ('d', 7), ('s', 11)]\n"
     ]
    }
   ],
   "source": [
    "import random\n",
    "\n",
    "def CardRank(cards):\n",
    "    paircount = 0\n",
    "    for n1 in range(0, 4):\n",
    "        for n2 in range(n1+1, 5):\n",
    "            if cards[n1][1] == cards[n2][1] :\n",
    "                paircount = paircount+1\n",
    "    num = [cards[k][1] for k in range(5)]\n",
    "    num.sort()\n",
    "    straightox = False\n",
    "    if paircount == 0:\n",
    "        if (num[4]-num[0]) == 4:\n",
    "            straightox = True\n",
    "        if num[0] == 1 and num[1] == 10:\n",
    "            straightox = True\n",
    "    suit = [cards[k][0] for k in range(5)]\n",
    "    suit.sort()\n",
    "    flushox = False\n",
    "    if suit[0] == suit[4]:\n",
    "        flushox = True\n",
    "    if straightox and flushox:\n",
    "        rank = 1\n",
    "    elif paircount == 6:\n",
    "        rank = 2\n",
    "    elif paircount == 4:\n",
    "        rank = 3\n",
    "    elif flushox:\n",
    "        rank = 4\n",
    "    elif straightox:\n",
    "        rank = 5\n",
    "    elif paircount == 3:\n",
    "        rank = 6\n",
    "    elif paircount == 2:\n",
    "        rank = 7\n",
    "    elif paircount == 1:\n",
    "        rank = 8\n",
    "    else:\n",
    "        rank = 9\n",
    "    return rank\n",
    "\n",
    "\n",
    "Money = 2000\n",
    "\n",
    "deck = [(suit, k) for  suit in [\"s\", \"h\", \"d\", \"c\"] for k in range(1,14)]\n",
    "\n",
    "while True:\n",
    "\n",
    "    random.shuffle(deck)\n",
    "    \n",
    "    for n in [1,2,3,4,5]:\n",
    "        answer = input(\"Do you want to bet? (y/n)\")\n",
    "        if answer == 'n' or answer == 'N':\n",
    "            break #\n",
    "        Money = Money-10\n",
    "        if n == 1:\n",
    "            cards_A = [ deck[k] for k in range(0, 2)]  \n",
    "            cards_B = [ deck[k] for k in range(2, 4)]  \n",
    "        elif n < 4:\n",
    "            cards_A.append(deck[n*2])\n",
    "            cards_B.append(deck[n*2+1])\n",
    "        elif n == 4:\n",
    "            hiddencard = deck[n*2]\n",
    "            cards_B.append(deck[n*2+1])\n",
    "        else:\n",
    "            cards_A.append(hiddencard)\n",
    "            rank_A = CardRank(cards_A)\n",
    "            rank_B = CardRank(cards_B)\n",
    "            if rank_B < rank_A:\n",
    "                Money = Money+100\n",
    "                print('You won')\n",
    "            elif rank_B == rank_A:\n",
    "                print('draw')\n",
    "            else:\n",
    "                print('computer won')\n",
    "        print(\"Money = \", Money)\n",
    "        print(\"computer: \", cards_A)\n",
    "        print(\"player  : \", cards_B)\n",
    "    \n",
    "    answer = input(\"Are you playing the game? (y/n)\")\n",
    "    if answer == 'n' or answer == 'N':\n",
    "        break"
   ]
  },
  {
   "attachments": {},
   "cell_type": "markdown",
   "metadata": {},
   "source": [
    "#### ROCK, SCISSOR, PAPER"
   ]
  },
  {
   "cell_type": "code",
   "execution_count": 3,
   "metadata": {},
   "outputs": [
    {
     "name": "stdout",
     "output_type": "stream",
     "text": [
      "\n",
      "-------------------------------------------\n",
      "player 1 ( rock vs rock ) com\n",
      "draw.\n",
      "-------------------------------------------\n",
      "\n"
     ]
    }
   ],
   "source": [
    "import random\n",
    "\n",
    "sel = ['scissor', 'rock', 'paper']\n",
    "result = {0: 'win.', 1: 'lose.', 2: 'draw.'}\n",
    "\n",
    "def checkWin(user, com):\n",
    "\n",
    "    if not user in sel:\n",
    "       print('you wrote wrong. type it again')\n",
    "       return False\n",
    "\n",
    "    print(f'player 1 ( {user} vs {com} ) com')\n",
    "    if user == com:\n",
    "        state = 2\n",
    "    elif user == 'scissor' and com == 'rock':\n",
    "        state = 1\n",
    "    elif user == 'rock' and com == 'paper':\n",
    "        state = 1\n",
    "    elif user == 'paper' and com == 'scissor':\n",
    "        state = 1\n",
    "    else:\n",
    "        state = 0\n",
    "    print(result[state])\n",
    "    return True\n",
    "\n",
    "\n",
    "print('\\n-------------------------------------------')\n",
    "while True:\n",
    "    user = input(\"rock, scissor, paper : \")\n",
    "    com = sel[random.randint(0, 2)]\n",
    "    if checkWin(user, com):\n",
    "        break\n",
    "print('-------------------------------------------\\n')"
   ]
  },
  {
   "cell_type": "markdown",
   "metadata": {},
   "source": [
    "### About the random function\n",
    "- This module generates random numbers for various distributions. When using various functions (functions, variables) in the random module, input them in the form of random.().\n",
    " - A function that returns a random integer within a specified range."
   ]
  },
  {
   "attachments": {},
   "cell_type": "markdown",
   "metadata": {},
   "source": [
    "### Types of libraries\n",
    "- import pygame\n",
    "    - It is a library for multimedia expression such as games that can be written in Python. It is based on SDL. It is an open source and free tool, and can be run on any platform that can run Python.\n",
    "- import math\n",
    "    - Various functions and constants related to mathematics are predefined, and these mathematical problems can be easily solved through Python programming. The math module is a basic module provided by Python.\n",
    "- import request\n",
    "    - The requests package uses the corresponding package when extracting API data similar to Ajax, and is mainly used when writing a program that calls HTTP in Python.\n",
    "- import time\n",
    "    - It is a function that obtains the current time of the computer, and the return value is a real number indicating how many seconds have passed since the standard time (depending on the operating system). For example, if you call this function once and call it again exactly 1 second later, the two return values ​​will differ by 1.\n",
    "- import sys\n",
    "    - This module provides access to some variables used or maintained by the interpreter, as well as functions that interact strongly with the interpreter. Always available.\n",
    "- import os\n",
    "    - As an abbreviation of Operating System, it allows you to perform various functions provided by the operating system in Python. For example, you can use the os module to copy files or create directories using Python and get a list of files in a specific directory.\n",
    "- import pickle\n",
    "    - It refers to saving the Python object itself as a file, not the textual data. At this time, the desired object itself is stored in binary, and it has the advantage of being fast because it only needs to be called when needed.\n",
    "- import turtle\n",
    "    - It is a graphics module available in Python. You can draw a picture on the screen using the trail of the turtle-shaped cursor."
   ]
  },
  {
   "attachments": {},
   "cell_type": "markdown",
   "metadata": {},
   "source": [
    "## Hack 3\n",
    "### Make Code "
   ]
  },
  {
   "cell_type": "code",
   "execution_count": 6,
   "metadata": {},
   "outputs": [
    {
     "name": "stdout",
     "output_type": "stream",
     "text": [
      "green\n"
     ]
    }
   ],
   "source": [
    "import random\n",
    "import math\n",
    "num = random.randint(1,8)\n",
    "if num <= 3:\n",
    "    print(\"green\")\n",
    "elif num > 3 and num <6:\n",
    "    print(\"blue\")\n",
    "elif num ==6:\n",
    "    print(\"purple\")\n",
    "elif num==7:\n",
    "    print(\"orange\")\n",
    "elif num==8:\n",
    "    print(\"red\")"
   ]
  },
  {
   "cell_type": "code",
   "execution_count": 5,
   "metadata": {},
   "outputs": [
    {
     "name": "stdout",
     "output_type": "stream",
     "text": [
      "first :  green\n",
      "second :  green\n",
      "third :  blue\n",
      "fourth :  red\n",
      "fifth :  orange\n",
      "sixth :  purple\n",
      "seventh :  green\n",
      "eighth :  orange\n"
     ]
    }
   ],
   "source": [
    "import random\n",
    "import math\n",
    "\n",
    "a = [\"first\", \"second\", \"third\", \"fourth\", \"fifth\", \"sixth\", \"seventh\", \"eighth\"]\n",
    "b = []\n",
    "for i in range(3):\n",
    "    b.append(\"green\")\n",
    "    b.append(\"blue\")\n",
    "    b.append(\"purple\")\n",
    "    b.append(\"red\")\n",
    "    b.append(\"orange\")\n",
    "    if i >= 2:\n",
    "        b.remove(\"blue\")\n",
    "    elif i >= 1:\n",
    "        b.remove(\"red\")\n",
    "        b.remove(\"purple\")\n",
    "        b.remove(\"orange\")\n",
    "random.shuffle(b)\n",
    "for i in range(8):\n",
    "    print(a[i],\": \",b[i])"
   ]
  },
  {
   "attachments": {},
   "cell_type": "markdown",
   "metadata": {},
   "source": [
    "### Question: what can be outputted from RANDOM(12,20) and what number are excluded?\n",
    "- The number will be outputted between 12 and 20 including 12 and 20. The number will be excluded in this range will be number > 20 and number < 12, so the number can only be the number such as 13, 15, and 16."
   ]
  }
 ],
 "metadata": {
  "kernelspec": {
   "display_name": "Python 3.9.12 ('base')",
   "language": "python",
   "name": "python3"
  },
  "language_info": {
   "codemirror_mode": {
    "name": "ipython",
    "version": 3
   },
   "file_extension": ".py",
   "mimetype": "text/x-python",
   "name": "python",
   "nbconvert_exporter": "python",
   "pygments_lexer": "ipython3",
   "version": "3.9.12 (main, Apr  5 2022, 06:56:58) \n[GCC 7.5.0]"
  },
  "orig_nbformat": 4,
  "vscode": {
   "interpreter": {
    "hash": "c7f0eff47e976ffd278432ca58e86309fa0a3c18b8fa2d8345190506f8a63e10"
   }
  }
 },
 "nbformat": 4,
 "nbformat_minor": 2
}
