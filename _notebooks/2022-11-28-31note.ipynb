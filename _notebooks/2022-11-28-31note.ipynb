{
 "cells": [
  {
   "cell_type": "markdown",
   "metadata": {},
   "source": [
    "# Monday hack\n",
    "> Practice with identifying and correcting code blocks\n",
    "\n",
    "- toc: true\n",
    "- badges: true\n",
    "- categories: [markdown]\n"
   ]
  },
  {
   "cell_type": "markdown",
   "metadata": {},
   "source": [
    "\n",
    "\n",
    "## First Hack\n",
    "- What is the assginment operator? The assignment operator is to put the value that is already calculated in the left side.\n",
    "- In Collegeboard pseudocode, what symbol is used to assign values to variables? <--- is kind of sign in presudo code\n",
    "- A variable, x, is initially given a value of 15. Later on, the value for x is changed to 22. If you print x, would the command display 15 or 22? x value will be printed as 22. If the programmer put print before change the output will be 15.\n",
    "\n",
    "## Second Hack\n",
    "![]({{site.baseurl}}/images/secondhack.png)\n",
    "\n",
    "## Third Hack\n",
    "- what is the list? List = sequences of elements with each element being a variable\n",
    "- what is the elements? Elements is the values that make up the lists\n",
    "- What is an easy way to reference the elements in a list or string? put the list name and put [index] in the next of list name\n",
    "- What is an example of a string? Example of string is the letter. ex) \"hello world\", \"Hi my name is\""
   ]
  },
  {
   "cell_type": "code",
   "execution_count": 3,
   "metadata": {},
   "outputs": [
    {
     "name": "stdout",
     "output_type": "stream",
     "text": [
      "chicken\n",
      "pizza\n",
      "chocolate\n",
      "icecream\n",
      "cola\n"
     ]
    }
   ],
   "source": [
    "a = [\"chicken\",\"pizza\",\"chocolate\",\"icecream\",\"cola\"]\n",
    "for i in range(len(a)):\n",
    "    print(a[i])"
   ]
  },
  {
   "cell_type": "code",
   "execution_count": 8,
   "metadata": {},
   "outputs": [
    {
     "name": "stdout",
     "output_type": "stream",
     "text": [
      "[7, 8, 9]\n"
     ]
    }
   ],
   "source": [
    "num1 = int(input(\"Input a number. \"))\n",
    "num2=int(input(\"Input a number. \"))\n",
    "num3=int(input(\"Input a number. \"))\n",
    "add=input(\"How much would you like to add? \")\n",
    "numlist = []\n",
    "# Add code in the space below\n",
    "numlist.append(num1)\n",
    "numlist.append(num2)\n",
    "numlist.append(num3)\n",
    "\n",
    "# The following is the code that adds the inputted addend to the other numbers. It is hidden from the user.\n",
    "\n",
    "for i in range(len(numlist)):\n",
    "    numlist[i] += int(add)\n",
    "\n",
    "print(numlist)"
   ]
  },
  {
   "cell_type": "code",
   "execution_count": 9,
   "metadata": {},
   "outputs": [
    {
     "name": "stdout",
     "output_type": "stream",
     "text": [
      "Hello, james running /home/james/anaconda3/bin/python\n",
      "You will be asked 4 questions.\n",
      "Question: Are you ready to take a test?\n",
      "Question: The purpose of lists and dictionaries are to manage the ____ of a program\n",
      "complexity is correct!\n",
      "Question: Lists are a form of data ______\n",
      "abstruction is incorrect!\n",
      "Question: Which brackets are used to assign values to a variable to make a list?\n",
      "abstruction is incorrect!\n",
      "james you scored 1/4\n"
     ]
    }
   ],
   "source": [
    "import getpass, sys\n",
    "\n",
    "def question_with_response(prompt):\n",
    "    print(\"Question: \" + prompt)\n",
    "    msg = input()\n",
    "    return msg\n",
    "\n",
    "questions = 4\n",
    "correct = 0\n",
    "\n",
    "print('Hello, ' + getpass.getuser() + \" running \" + sys.executable)\n",
    "print(\"You will be asked \" + str(questions) + \" questions.\")\n",
    "question_with_response(\"Are you ready to take a test?\")\n",
    "\n",
    "rsp = question_with_response(\"The purpose of lists and dictionaries are to manage the ____ of a program\")\n",
    "if rsp == \"complexity\":\n",
    "    print(rsp + \" is correct!\")\n",
    "    correct += 1\n",
    "else:\n",
    "    print(rsp + \" is incorrect!\")\n",
    "\n",
    "rsp = question_with_response(\"Lists are a form of data ______\")\n",
    "if rsp == \"abstraction\":\n",
    "    print(rsp + \" is correct!\")\n",
    "    correct += 1\n",
    "else:\n",
    "    print(rsp + \" is incorrect!\")\n",
    "\n",
    "rsp = question_with_response(\"Which brackets are used to assign values to a variable to make a list?\")\n",
    "if rsp == \"[]\":\n",
    "    print(rsp + \" is correct!\")\n",
    "    correct += 1\n",
    "else:\n",
    "    print(rsp + \" is incorrect!\") \n",
    "\n",
    "print(getpass.getuser() + \" you scored \" + str(correct) +\"/\" + str(questions))"
   ]
  },
  {
   "cell_type": "markdown",
   "metadata": {},
   "source": [
    "## Why is more good to use a list?\n",
    "List is the single tool in Python. If we use the list, we can easily use the value in the code. "
   ]
  },
  {
   "cell_type": "code",
   "execution_count": 11,
   "metadata": {},
   "outputs": [
    {
     "name": "stdout",
     "output_type": "stream",
     "text": [
      "['dog', 'cat', 'frog', 'bird', 'fish']\n",
      "cat\n"
     ]
    }
   ],
   "source": [
    "Mylist = [\"dog\", \"cat\", \"frog\", \"bird\", \"fish\"]\n",
    "\n",
    "print(Mylist)\n",
    "print(Mylist[1])"
   ]
  }
 ],
 "metadata": {
  "kernelspec": {
   "display_name": "Python 3.9.12 ('base')",
   "language": "python",
   "name": "python3"
  },
  "language_info": {
   "codemirror_mode": {
    "name": "ipython",
    "version": 3
   },
   "file_extension": ".py",
   "mimetype": "text/x-python",
   "name": "python",
   "nbconvert_exporter": "python",
   "pygments_lexer": "ipython3",
   "version": "3.9.12"
  },
  "orig_nbformat": 4,
  "vscode": {
   "interpreter": {
    "hash": "c7f0eff47e976ffd278432ca58e86309fa0a3c18b8fa2d8345190506f8a63e10"
   }
  }
 },
 "nbformat": 4,
 "nbformat_minor": 2
}
