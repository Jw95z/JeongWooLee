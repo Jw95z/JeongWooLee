{
 "cells": [
  {
   "cell_type": "markdown",
   "metadata": {},
   "source": [
    "# Monday hack\n",
    "\n",
    "\n",
    "- toc: true\n",
    "- badges: true\n",
    "- categories: [Hacks]\n"
   ]
  },
  {
   "cell_type": "markdown",
   "metadata": {},
   "source": [
    "## Key Words\n",
    "- Variable: abstraction that holds the value\n",
    "- integer: number\n",
    "- string: letters\n",
    "- Boolean : True or false\n",
    "\n",
    "## Notes\n",
    "- The assignment operator looks different for different types of coding languages\n",
    "A variable will take the most recent value assigned"
   ]
  },
  {
   "cell_type": "markdown",
   "metadata": {},
   "source": [
    "\n",
    "\n",
    "## First Hack\n",
    "- What is the assignment operator? The assignment operator is the operator that can make the value change. It used to put the new value in the variable. For example *= or += or -=\n",
    "- In Collegeboard pseudocode, what symbol is used to assign values to variables? In the collegeboard, teacher use this <--- to put the value in variables. \n",
    "- A variable, x, is initially given a value of 15. Later on, the value for x is changed to 22. If you print x, would the command display 15 or 22? x value will be printed as 22. If the programmer put print before changing the output will be 15.\n",
    "\n",
    "## Second Hack\n",
    "[code](https://jw95z.github.io/JeongWooLee/2022/11/28/copyhtml.html)\n",
    "\n"
   ]
  },
  {
   "cell_type": "markdown",
   "metadata": {},
   "source": [
    "## This is the code of Second Hack"
   ]
  },
  {
   "cell_type": "code",
   "execution_count": null,
   "metadata": {},
   "outputs": [],
   "source": [
    "<html>\n",
    "    <body>\n",
    "        <div class=\"container\">\n",
    "            <div class=\"calendar\">\n",
    "                <div class=\"month\">\n",
    "                    <button id=\"prev\" onclick=\"prev()\">Prev</button>\n",
    "                    <button id=\"next\" onclick=\"next()\">Next</button>\n",
    "​\n",
    "                    <p id=\"month\">Month Here</p>\n",
    "                </div>\n",
    "            </div>\n",
    "        </div>\n",
    "​\n",
    "        <script>\n",
    "            let months = [\"January\", \"February\", \"March\", \"April\", \"May\", \"June\", \"July\", \"August\", \"September\", \"October\", \"November\", \"December\"];\n",
    "            let index = 0;\n",
    "            function next() {\n",
    "                if (index > 11) {\n",
    "                    index = 0;\n",
    "                }\n",
    "                else {\n",
    "                    index += 1;\n",
    "                }\n",
    "                document.getElementById(\"month\").innerHTML = months[index]\n",
    "            }\n",
    "            function prev() {\n",
    "                if (index < 0) {\n",
    "                    index = 11;\n",
    "                }\n",
    "                else {\n",
    "                    index -= 1;\n",
    "                }\n",
    "                document.getElementById(\"month\").innerHTML = months[index]\n",
    "            }\n",
    "        </script>\n",
    "    </body>\n",
    "</html>"
   ]
  },
  {
   "cell_type": "markdown",
   "metadata": {},
   "source": [
    "## Third Hack\n",
    "- what is the list? List = group of several variables, variable in the list can also be the list.\n",
    "- what is the elements? Elements is the values that make up the lists\n",
    "- What is an easy way to reference the elements in a list or string? put the list name and put [index] in the next of list name. Then use print command like this   (print(Listname[index])). Make sure that index starts with 0 not 1.\n",
    "- What is an example of a string? Example of string is the letter. ex) \"hello world\", \"Hi my name is\""
   ]
  },
  {
   "cell_type": "code",
   "execution_count": 3,
   "metadata": {},
   "outputs": [
    {
     "name": "stdout",
     "output_type": "stream",
     "text": [
      "chicken\n",
      "pizza\n",
      "chocolate\n",
      "icecream\n",
      "cola\n"
     ]
    }
   ],
   "source": [
    "a = [\"chicken\",\"pizza\",\"chocolate\",\"icecream\",\"cola\"]\n",
    "for i in range(len(a)):\n",
    "    print(a[i])"
   ]
  },
  {
   "cell_type": "code",
   "execution_count": 1,
   "metadata": {},
   "outputs": [
    {
     "name": "stdout",
     "output_type": "stream",
     "text": [
      "chocolate\n",
      "cola\n"
     ]
    }
   ],
   "source": [
    "a = [\"chicken\",\"pizza\",\"chocolate\",\"icecream\",\"cola\"]\n",
    "print(a[2])\n",
    "print(a[-1])"
   ]
  },
  {
   "cell_type": "code",
   "execution_count": 8,
   "metadata": {},
   "outputs": [
    {
     "name": "stdout",
     "output_type": "stream",
     "text": [
      "[7, 8, 9]\n"
     ]
    }
   ],
   "source": [
    "num1 = int(input(\"Input a number. \"))\n",
    "num2=int(input(\"Input a number. \"))\n",
    "num3=int(input(\"Input a number. \"))\n",
    "add=input(\"How much would you like to add? \")\n",
    "numlist = []\n",
    "# Add code in the space below\n",
    "numlist.append(num1)\n",
    "numlist.append(num2)\n",
    "numlist.append(num3)\n",
    "\n",
    "# The following is the code that adds the inputted addend to the other numbers. It is hidden from the user.\n",
    "\n",
    "for i in range(len(numlist)):\n",
    "    numlist[i] += int(add)\n",
    "\n",
    "print(numlist)"
   ]
  },
  {
   "cell_type": "code",
   "execution_count": 4,
   "metadata": {},
   "outputs": [
    {
     "name": "stdout",
     "output_type": "stream",
     "text": [
      "Hello, james running /home/james/anaconda3/bin/python\n",
      "You will be asked 4 questions.\n",
      "Question: Are you ready to take a test?\n",
      "Question: The purpose of lists and dictionaries are to manage the ____ of a program\n",
      "complexity is correct!\n",
      "Question: Lists are a form of data ______\n",
      "abstraction is correct!\n",
      "Question: Which brackets are used to assign values to a variable to make a list?\n",
      "[] is correct!\n",
      "james you scored 3/4\n"
     ]
    }
   ],
   "source": [
    "import getpass, sys\n",
    "\n",
    "def question_with_response(prompt):\n",
    "    print(\"Question: \" + prompt)\n",
    "    msg = input()\n",
    "    return msg\n",
    "\n",
    "questions = 4\n",
    "correct = 0\n",
    "\n",
    "print('Hello, ' + getpass.getuser() + \" running \" + sys.executable)\n",
    "print(\"You will be asked \" + str(questions) + \" questions.\")\n",
    "question_with_response(\"Are you ready to take a test?\")\n",
    "\n",
    "rsp = question_with_response(\"The purpose of lists and dictionaries are to manage the ____ of a program\")\n",
    "if rsp == \"complexity\":\n",
    "    print(rsp + \" is correct!\")\n",
    "    correct += 1\n",
    "else:\n",
    "    print(rsp + \" is incorrect!\")\n",
    "\n",
    "rsp = question_with_response(\"Lists are a form of data ______\")\n",
    "if rsp == \"abstraction\":\n",
    "    print(rsp + \" is correct!\")\n",
    "    correct += 1\n",
    "else:\n",
    "    print(rsp + \" is incorrect!\")\n",
    "\n",
    "rsp = question_with_response(\"Which brackets are used to assign values to a variable to make a list?\")\n",
    "if rsp == \"[]\":\n",
    "    print(rsp + \" is correct!\")\n",
    "    correct += 1\n",
    "else:\n",
    "    print(rsp + \" is incorrect!\") \n",
    "\n",
    "print(getpass.getuser() + \" you scored \" + str(correct) +\"/\" + str(questions))"
   ]
  },
  {
   "cell_type": "markdown",
   "metadata": {},
   "source": [
    "## Good things to use List\n",
    "A List is a data structure that allows you to efficiently manage a large number of data by grouping them. The main characteristic of list is that they have indexes. If you know the index, you can use the index to fetch data. Data lookups using indexes are processed very quickly."
   ]
  },
  {
   "cell_type": "code",
   "execution_count": 11,
   "metadata": {},
   "outputs": [
    {
     "name": "stdout",
     "output_type": "stream",
     "text": [
      "['dog', 'cat', 'frog', 'bird', 'fish']\n",
      "cat\n"
     ]
    }
   ],
   "source": [
    "Mylist = [\"dog\", \"cat\", \"frog\", \"bird\", \"fish\"]\n",
    "\n",
    "print(Mylist)\n",
    "print(Mylist[1])"
   ]
  }
 ],
 "metadata": {
  "kernelspec": {
   "display_name": "Python 3.9.12 ('base')",
   "language": "python",
   "name": "python3"
  },
  "language_info": {
   "codemirror_mode": {
    "name": "ipython",
    "version": 3
   },
   "file_extension": ".py",
   "mimetype": "text/x-python",
   "name": "python",
   "nbconvert_exporter": "python",
   "pygments_lexer": "ipython3",
   "version": "3.9.12"
  },
  "orig_nbformat": 4,
  "vscode": {
   "interpreter": {
    "hash": "c7f0eff47e976ffd278432ca58e86309fa0a3c18b8fa2d8345190506f8a63e10"
   }
  }
 },
 "nbformat": 4,
 "nbformat_minor": 2
}
