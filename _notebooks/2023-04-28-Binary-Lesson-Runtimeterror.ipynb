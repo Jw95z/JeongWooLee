{
 "cells": [
  {
   "attachments": {},
   "cell_type": "markdown",
   "metadata": {},
   "source": [
    "#  P4-M 4/28 Binary Lesson HACKS\n",
    "> Learn the basics of binary including truth tables, boolean expressions, binary conversions, and binary searches.\n",
    "- toc: true\n",
    "- permalink: /binary/lesson\n",
    "- comments: true\n",
    "- categories: [week 31, binary, lesson]"
   ]
  },
  {
   "attachments": {},
   "cell_type": "markdown",
   "metadata": {},
   "source": [
    "# Lesson Note Taker\n",
    "> Fill in the blanks below during the binary presentation. You can visit our [website here!](https://theoh32.github.io/Runtime_Terror/2023-3-30-mainlesson.html)\n",
    "^ Due to last minute deployment issues, may need to run a local server\n",
    "\n",
    "1. git clone https://github.com/TheoH32/Runtime_Terror.git\n",
    "2. run: \n",
    "- bundle install\n",
    "- bundle exec jekyll serve"
   ]
  },
  {
   "attachments": {},
   "cell_type": "markdown",
   "metadata": {},
   "source": [
    "## Binary \n",
    "\n",
    "1. Binary is a base 2 number system.\n",
    "2. 0 represents OFF and 1 represents ON.\n",
    "3. A Bit is the minimum unit of binary information stored in a computer system.\n",
    "\n",
    "## Boolean Expressions\n",
    "\n",
    "1. A Boolean Expression is a logical statement that is either TRUE or FALSE and compares data.\n",
    "\n",
    "## Truth Tables\n",
    "\n",
    "1. The logical operations shown in truth tables are AND, OR, NOT, and XOR."
   ]
  },
  {
   "cell_type": "code",
   "execution_count": 1,
   "metadata": {},
   "outputs": [
    {
     "data": {
      "text/plain": [
       "True"
      ]
     },
     "execution_count": 1,
     "metadata": {},
     "output_type": "execute_result"
    }
   ],
   "source": [
    "# Run this code!! See how boolean expressions work and show the outputs of truth tables.\n",
    "\n",
    "# AND\n",
    "5 > 3 and 5 == 3 + 2"
   ]
  },
  {
   "cell_type": "code",
   "execution_count": 2,
   "metadata": {},
   "outputs": [
    {
     "data": {
      "text/plain": [
       "False"
      ]
     },
     "execution_count": 2,
     "metadata": {},
     "output_type": "execute_result"
    }
   ],
   "source": [
    "\n",
    "5 < 3 and 5 == 5"
   ]
  },
  {
   "cell_type": "code",
   "execution_count": 3,
   "metadata": {},
   "outputs": [
    {
     "data": {
      "text/plain": [
       "True"
      ]
     },
     "execution_count": 3,
     "metadata": {},
     "output_type": "execute_result"
    }
   ],
   "source": [
    "# OR\n",
    "5 == 5 or 5 != 5"
   ]
  },
  {
   "cell_type": "code",
   "execution_count": 4,
   "metadata": {},
   "outputs": [
    {
     "data": {
      "text/plain": [
       "False"
      ]
     },
     "execution_count": 4,
     "metadata": {},
     "output_type": "execute_result"
    }
   ],
   "source": [
    "5 < 3 or 5 != 5"
   ]
  },
  {
   "attachments": {},
   "cell_type": "markdown",
   "metadata": {},
   "source": [
    "### Real Life Example using Boolean Expressions\n",
    "\n",
    "Try changing the conditions and/or the logical operation below! Run the code to see if you are eligible to vote."
   ]
  },
  {
   "cell_type": "code",
   "execution_count": 5,
   "metadata": {},
   "outputs": [
    {
     "name": "stdout",
     "output_type": "stream",
     "text": [
      "You are eligible to vote.\n"
     ]
    }
   ],
   "source": [
    "# Real life example\n",
    "age = 18\n",
    "citizen = True\n",
    "\n",
    "if age >= 18 and citizen:\n",
    "    print(\"You are eligible to vote.\")\n",
    "else:\n",
    "    print(\"You are not eligible to vote.\")"
   ]
  },
  {
   "attachments": {},
   "cell_type": "markdown",
   "metadata": {},
   "source": [
    "## Binary Conversions\n",
    "\n",
    "### Binary to Decimal\n",
    "\n",
    "1. We can count in binary by using powers of two.\n",
    "2. In binary, we read from right to left.\n",
    "3. 0111 has a value of 7.\n",
    "\n",
    "\n",
    "### Binary Search\n",
    "\n",
    "1. For a binary search, the list must be sorted. \n",
    "2. In a binary search, computers start at the middle(front,middle,end)/\n",
    "3. The number of steps required in a binary search follows the equation: log2(n)+1.\n",
    "4. Binary searches also work with a list of strings. We can sort them alphabetically.\n",
    "5. Binary searches can be represented in tree diagrams."
   ]
  },
  {
   "attachments": {},
   "cell_type": "markdown",
   "metadata": {},
   "source": [
    "# Hacks\n",
    "> You will NOT be awarded any points for sections that are INCOMPLETE\n",
    "\n",
    "### Note Taker\n",
    "\n",
    "1. Fill in all of the blanks above.\n",
    "\n",
    "### Lesson Quiz\n",
    "\n",
    "1. Complete the lesson quiz\n",
    "2. SCREENSHOT SCORE and paste it here (or paste screenshot with submission)\n",
    "\n",
    "### Binary Game\n",
    "\n",
    "1. Complete the Binary game and reach a minimum score of 10! \n",
    "2. SCREENSHOT SCORE and paste it here (or with submission)"
   ]
  },
  {
   "attachments": {},
   "cell_type": "markdown",
   "metadata": {},
   "source": [
    "### Binary Conversions Practice\n",
    "\n",
    "1. Convert the decimal number \"17\" into binary.\n",
    "2. Convert the binary number 1010 into decimal.\n",
    "3. Convert the decimal number \"122\" into hexadecimal.\n",
    "4. Convert the hexadecimal number \"09\" into binary."
   ]
  },
  {
   "cell_type": "code",
   "execution_count": 2,
   "metadata": {},
   "outputs": [
    {
     "name": "stdout",
     "output_type": "stream",
     "text": [
      "put number\n",
      "17\n",
      "binary\n",
      "10001\n"
     ]
    }
   ],
   "source": [
    "print(\"put number\")\n",
    "x = int(input())\n",
    "print(x)\n",
    "y=\"\"\n",
    "print(\"binary\")\n",
    "while x>0:\n",
    "    y=str(x%2)+y\n",
    "    x//=2\n",
    "print(y)"
   ]
  },
  {
   "cell_type": "code",
   "execution_count": 3,
   "metadata": {},
   "outputs": [
    {
     "name": "stdout",
     "output_type": "stream",
     "text": [
      "1010\n",
      "10\n"
     ]
    }
   ],
   "source": [
    "s = input(\"put the number\")\n",
    "print(s)\n",
    "s = s[::-1]\n",
    "\n",
    "ten = 0\n",
    "\n",
    "for i in range(len(s)):\n",
    "    if i == 0:\n",
    "        x = 1 if s[int(i)] == '1' else 0\n",
    "        ten += x\n",
    "        \n",
    "    else:\n",
    "        if s[i] == '1':\n",
    "            ten = ten + (2 ** i)\n",
    "        \n",
    "print(ten)"
   ]
  },
  {
   "cell_type": "code",
   "execution_count": 5,
   "metadata": {},
   "outputs": [
    {
     "name": "stdout",
     "output_type": "stream",
     "text": [
      "122\n"
     ]
    },
    {
     "data": {
      "text/plain": [
       "'7A'"
      ]
     },
     "execution_count": 5,
     "metadata": {},
     "output_type": "execute_result"
    }
   ],
   "source": [
    "def hexa(decimal):\n",
    "    hex_digits = \"0123456789ABCDEF\"  \n",
    "    hex_string = \"\"  \n",
    "    while decimal > 0:\n",
    "        remainder = decimal % 16  \n",
    "        hex_string += hex_digits[remainder]  \n",
    "        decimal //= 16  \n",
    "    return hex_string[::-1]\n",
    "number = int(input(\"put a number\"))\n",
    "print(number)\n",
    "hexa(number)"
   ]
  },
  {
   "cell_type": "code",
   "execution_count": 7,
   "metadata": {},
   "outputs": [
    {
     "name": "stdout",
     "output_type": "stream",
     "text": [
      "09\n"
     ]
    },
    {
     "data": {
      "text/plain": [
       "'00001001'"
      ]
     },
     "execution_count": 7,
     "metadata": {},
     "output_type": "execute_result"
    }
   ],
   "source": [
    "def hex_to_binary(hex_string):\n",
    "    hex_digits = \"0123456789ABCDEF\"  \n",
    "    binary_string = \"\"  \n",
    "    for hex_digit in hex_string:\n",
    "        decimal_value = hex_digits.index(hex_digit)  \n",
    "        binary_value = bin(decimal_value)[2:].zfill(4)  \n",
    "        binary_string += binary_value  \n",
    "    return binary_string\n",
    "number = input(\"put a number\")\n",
    "print(number)\n",
    "hex_to_binary(number)"
   ]
  },
  {
   "attachments": {},
   "cell_type": "markdown",
   "metadata": {},
   "source": [
    "### Binary Search Questions\n",
    "\n",
    "1. Make a binary search tree of different the list [1,2,4,15,25,30,31]\n",
    "2. Put this list of strings in a order that can be used for binary search [\"Donut”,\"Cake”,\"Soda”,\"Banana”,\"Fruit”]\n",
    "3. Explain why Binary Search is more efficient than Sequential Search."
   ]
  },
  {
   "cell_type": "code",
   "execution_count": 13,
   "metadata": {},
   "outputs": [
    {
     "name": "stdout",
     "output_type": "stream",
     "text": [
      "4\n"
     ]
    }
   ],
   "source": [
    "def binary_search(array=list(), target=int(), left=int(), right=int()):\n",
    "    if left > right:\n",
    "        return None\n",
    "    mid = (left + right) // 2     \n",
    "    if target == array[mid]:\n",
    "        return mid\n",
    "    elif target > array[mid]:\n",
    "        return binary_search(array=array, target=target, left=mid + 1, right=right)\n",
    "    else:\n",
    "        return binary_search(array=array, target=target, left=left, right=mid - 1)\n",
    "\n",
    "array=[1,2,4,15,25,30,31]  \n",
    "\n",
    "result = binary_search(array=array, target=25, left=0, right=len(array) - 1)\n",
    "if result: \n",
    "    print(result)\n",
    "else:\n",
    "    print(\"NO\")"
   ]
  },
  {
   "cell_type": "code",
   "execution_count": 14,
   "metadata": {},
   "outputs": [
    {
     "name": "stdout",
     "output_type": "stream",
     "text": [
      "['Banana', 'Cake', 'Donut', 'Fruit', 'Soda']\n"
     ]
    }
   ],
   "source": [
    "list2 = [\"Donut\", \"Cake\", \"Soda\", \"Banana\", \"Fruit\"]\n",
    "list2.sort()\n",
    "print(list2)"
   ]
  },
  {
   "attachments": {},
   "cell_type": "markdown",
   "metadata": {},
   "source": [
    "### Extra Credit:\n",
    "\n",
    "- Translate the binary number, 1001010, into octal (base 8). <mark>SHOW YOUR WORK AND EXPLAIN YOUR THINKING.</mark>\n",
    "OR\n",
    "- write the best rap line (determined during the lesson by group)\n"
   ]
  },
  {
   "cell_type": "code",
   "execution_count": 18,
   "metadata": {},
   "outputs": [
    {
     "name": "stdout",
     "output_type": "stream",
     "text": [
      "1001010\n"
     ]
    },
    {
     "data": {
      "text/plain": [
       "'112'"
      ]
     },
     "execution_count": 18,
     "metadata": {},
     "output_type": "execute_result"
    }
   ],
   "source": [
    "def decimal_to_octal(decimal):\n",
    "    result = ''  \n",
    "    while decimal > 0:\n",
    "        remainder = decimal % 8  \n",
    "        result = str(remainder) + result \n",
    "        decimal //= 8 \n",
    "    return result or '0'  \n",
    "s = input(\"put the number\")\n",
    "print(s)\n",
    "s = s[::-1]\n",
    "\n",
    "ten = 0\n",
    "\n",
    "for i in range(len(s)):\n",
    "    if i == 0:\n",
    "        x = 1 if s[int(i)] == '1' else 0\n",
    "        ten += x\n",
    "        \n",
    "    else:\n",
    "        if s[i] == '1':\n",
    "            ten = ten + (2 ** i)\n",
    "        \n",
    "decimal_to_octal(ten)"
   ]
  },
  {
   "cell_type": "code",
   "execution_count": 16,
   "metadata": {},
   "outputs": [
    {
     "name": "stdout",
     "output_type": "stream",
     "text": [
      "1111"
     ]
    }
   ],
   "source": [
    "def change(num, first = False):\n",
    "    ret = ''  \n",
    "    while num: \n",
    "        ret += chr(num % 2 + 48) \n",
    "        num //= 2\n",
    "    while len(ret) < 3: \n",
    "        ret += '0'\n",
    "\n",
    "    idx = 3\n",
    "    if first: \n",
    "        while idx > 1 and ret[idx - 1] == '0':\n",
    "            idx -= 1\n",
    "    return ret[:idx][::-1]\n",
    "\n",
    "N = input()\n",
    "isFirst = True \n",
    "for i in range(len(N)):\n",
    "    print(change(int(N[i]), isFirst),end='')\n",
    "    isFirst = False"
   ]
  },
  {
   "attachments": {},
   "cell_type": "markdown",
   "metadata": {},
   "source": [
    "# Hacks Scoring\n",
    "\n",
    "| Hack | Comments | Grade |\n",
    "|---|---|---|\n",
    "| Note Taker | fill in the blanks above | 0.1 |\n",
    "| Lesson Quiz | under 100% = 0.1 only | 0.2 |\n",
    "| Binary Game | must score at least 10 points | 0.2 |\n",
    "| Binary Conversions Practice | if incorrect= 0.2 awarded | 0.2 |\n",
    "| Binary Search Questions | if incorrect= 0.2 awarded | 0.2 |\n",
    "| Extra Credit | MUST SHOW WORK | 0.1 |\n",
    "| Total | expected= 0.9/1 | 1/1 |"
   ]
  },
  {
   "attachments": {},
   "cell_type": "markdown",
   "metadata": {},
   "source": [
    "![quiz](../images/quizscore.png)"
   ]
  },
  {
   "attachments": {},
   "cell_type": "markdown",
   "metadata": {},
   "source": [
    "![binary](../images/binaryquiz.png)"
   ]
  }
 ],
 "metadata": {
  "kernelspec": {
   "display_name": "base",
   "language": "python",
   "name": "python3"
  },
  "language_info": {
   "codemirror_mode": {
    "name": "ipython",
    "version": 3
   },
   "file_extension": ".py",
   "mimetype": "text/x-python",
   "name": "python",
   "nbconvert_exporter": "python",
   "pygments_lexer": "ipython3",
   "version": "3.9.12"
  },
  "orig_nbformat": 4
 },
 "nbformat": 4,
 "nbformat_minor": 2
}
