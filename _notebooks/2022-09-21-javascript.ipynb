{
 "cells": [
  {
   "cell_type": "markdown",
   "metadata": {},
   "source": [
    "# JavaScript\n",
    "- toc: true\n",
    "- badges: true\n",
    "- comments: true\n",
    "- categories: [week5]\n"
   ]
  },
  {
   "cell_type": "code",
   "execution_count": 12,
   "metadata": {},
   "outputs": [
    {
     "ename": "TypeError",
     "evalue": "Identifier 'options' has already been declared",
     "output_type": "error",
     "traceback": [
      "evalmachine.<anonymous>:1",
      "const options = {",
      "^",
      "",
      "TypeError: Identifier 'options' has already been declared",
      "    at evalmachine.<anonymous>:1:1",
      "    at ContextifyScript.Script.runInThisContext (vm.js:25:33)",
      "    at Object.runInThisContext (vm.js:97:38)",
      "    at run ([eval]:1020:15)",
      "    at onRunRequest ([eval]:864:18)",
      "    at onMessage ([eval]:828:13)",
      "    at emitTwo (events.js:106:13)",
      "    at process.emit (events.js:191:7)",
      "    at process.nextTick (internal/child_process.js:758:12)",
      "    at _combinedTickCallback (internal/process/next_tick.js:73:7)"
     ]
    }
   ],
   "source": [
    "const options = {\n",
    "\tmethod: 'POST',\n",
    "\theaders: {\n",
    "\t\t'content-type': 'application/json',\n",
    "\t\t'X-RapidAPI-Key': '56cf0d9c39msh90ab47fd56c02e6p1d2792jsn0f4dfaa46b90',\n",
    "\t\t'X-RapidAPI-Host': 'motivational-quotes1.p.rapidapi.com'\n",
    "\t},\n",
    "\tbody: '{\"key1\":\"value\",\"key2\":\"value\"}'\n",
    "};\n",
    "\n",
    "fetch('https://motivational-quotes1.p.rapidapi.com/motivation', options)\n",
    "\t.then(response => response.json())\n",
    "\t.then(response => console.log(response))\n",
    "\t.catch(err => console.error(err));"
   ]
  },
  {
   "cell_type": "code",
   "execution_count": null,
   "metadata": {},
   "outputs": [
    {
     "name": "stdout",
     "output_type": "stream",
     "text": [
      "Hello, World!\n"
     ]
    }
   ],
   "source": [
    "var msg = \"Hello, World!\";\n",
    "console.log(msg);"
   ]
  },
  {
   "cell_type": "code",
   "execution_count": 12,
   "metadata": {},
   "outputs": [
    {
     "name": "stdout",
     "output_type": "stream",
     "text": [
      "1, 2\n",
      "2, 3\n",
      "3, 4\n",
      "4, 5\n",
      "5, 6\n",
      "== Get index 0, 1 value\n",
      "1, 2\n",
      "2, 3\n",
      "==only values except index 0, 1 remain in the val\n",
      "3, 4\n",
      "4, 5\n",
      "5, 6\n",
      "= change the object which name is 4\n",
      "3, 4\n",
      "change to 100, 5\n",
      "5, 6\n",
      "== remove object which name is changed\n",
      "3, 4\n",
      "5, 6\n"
     ]
    }
   ],
   "source": [
    "test = []\n",
    "test.push({\"num\": 1, \"int\": 2});\n",
    "test.push({\"num\": 2, \"int\": 3});\n",
    "test.push({\"num\": 3, \"int\": 4});\n",
    "test.push({\"num\": 4, \"int\": 5});\n",
    "\n",
    "var obj = new Object()\n",
    "obj.num = 5;\n",
    "obj.int = 6;\n",
    "test.push(obj);\n",
    "\n",
    "test.forEach(function(item) {\n",
    "    console.log(item.num + \", \"+ item.int);\n",
    "});\n",
    "\n",
    "console.log('== Get index 0, 1 value');\n",
    "test.splice(0,2).forEach(function(item) {\n",
    "    console.log(item.num + \", \" + item.int);\n",
    "});\n",
    "\n",
    "console.log(\"==only values except index 0, 1 remain in the val\")\n",
    "test.forEach(function(item) {\n",
    "    console.log(item.num + \", \" + item.int);\n",
    "});\n",
    "\n",
    "console.log(\"= change the object which name is 4\")\n",
    "var test3 = test.find(function(item){\n",
    "    return item.num == \"4\";\n",
    "\n",
    "});\n",
    "\n",
    "test3.num = \"change to 100\";\n",
    "test.forEach(function(item) {\n",
    "    console.log(item.num + \", \" + item.int);\n",
    "});\n",
    "\n",
    "console.log(\"== remove object which name is changed\")\n",
    "var index = test.indexOf(test3)\n",
    "test.splice(index, 1);\n",
    "test.forEach(function(item) {\n",
    "    console.log(item.num + \", \" + item.int);\n",
    "});\n"
   ]
  }
 ],
 "metadata": {
  "kernelspec": {
   "display_name": "JavaScript (Node.js)",
   "language": "javascript",
   "name": "javascript"
  },
  "language_info": {
   "file_extension": ".js",
   "mimetype": "application/javascript",
   "name": "javascript",
   "version": "6.11.2"
  },
  "orig_nbformat": 4,
  "vscode": {
   "interpreter": {
    "hash": "c7f0eff47e976ffd278432ca58e86309fa0a3c18b8fa2d8345190506f8a63e10"
   }
  }
 },
 "nbformat": 4,
 "nbformat_minor": 2
}
