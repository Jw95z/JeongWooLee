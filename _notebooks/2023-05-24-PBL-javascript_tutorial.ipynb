{
 "cells": [
  {
   "attachments": {},
   "cell_type": "markdown",
   "metadata": {},
   "source": [
    "# JavaScript Tutorial\n",
    "> Quick launch into Variables, Functions, Arrays, Classes, HTML.\n",
    "\n",
    "- layout: default\n",
    "- badges: false\n",
    "- permalink: /techtalk/javascript\n",
    "- image: /images/javascript.png\n",
    "- categories: [1.A, 3.B, C4.0]\n",
    "- type: pbl\n",
    "- week: 33"
   ]
  },
  {
   "attachments": {},
   "cell_type": "markdown",
   "metadata": {},
   "source": [
    "{% include nav_frontend.html %}"
   ]
  },
  {
   "attachments": {},
   "cell_type": "markdown",
   "metadata": {},
   "source": [
    "## JavaScript and Jupyter references\n",
    "> JavaScript is the most important language you need to learn as a frontend developer.  Jupyter Notebooks is a convenient way to learn the language without the overhead of creating a full Website.  Jupyter Notebooks had ChatGPT plugins to assist with design and troubleshooting problems.  This Notebook has colors on HTML pages that were designed with a dark mode background.\n",
    "\n",
    "- JavaScript / Jupyter General References\n",
    "    - [W3Schools JS Reference](https://www.w3schools.com/js/)\n",
    "    - ChatGPT AI assistant for [Chrome/Jupyter](https://chrome.google.com/webstore/detail/chatgpt-jupyter-ai-assist/dlipncbkjmjjdpgcnodkbdobkadiejll) \n",
    "    - Theme setup for Jupyter [Article](https://linuxhint.com/change-theme-jupyter-notebook/).  Or do these commands from shell...\n",
    "        - Install pip: pip install jupyterthemes\n",
    "        - Revert to original theme: jt -r \n",
    "        - List themes: jt -l\n",
    "        - Install with Theme, Name, Logo: jt -t onedork -T -N -kl\n",
    "    - [Chrome Dev Tools](https://developer.chrome.com/docs/devtools/)\n",
    "\n",
    "- Coding with jQuery\n",
    "    - Jupyter Notebook [GitHub](https://github.com/nighthawkcoders/APCSP/blob/master/_notebooks/2022-09-19-PBL-javascript_tutorial.ipynb), wget: https://raw.githubusercontent.com/nighthawkcoders/APCSP/master/_notebooks/2022-09-19-PBL-javascript_tutorial.ipynb\n",
    "    - Markdown [Fetch example](https://nighthawkcoders.github.io/APCSP/frontend/jquery) in GitHub project for [APCSP](https://github.com/nighthawkcoders/APCSP/blob/master/_posts/2023-06-01-jquery-sort.md)\n",
    "    - HTML [Static example](https://flask.nighthawkcodingsociety.com/table/) in GitHub project for [flask_portfolio](https://github.com/nighthawkcoders/flask_portfolio/blob/main/templates/table.html)\n",
    " \n"
   ]
  },
  {
   "attachments": {},
   "cell_type": "markdown",
   "metadata": {},
   "source": [
    "### output using HTML and CSS\n",
    " Multiple cells are used to setup HTML in this lesson. Many of the JavaScript cells will use the output tag(s) to write into the HTML that has been setup.  \n",
    "- %%html is used to setup HTML code block\n",
    "- \"style\" tag enables visuals customization\n",
    "- \"div\" tag is setup to receive data"
   ]
  },
  {
   "cell_type": "code",
   "execution_count": 1,
   "metadata": {
    "vscode": {
     "languageId": "javascript"
    }
   },
   "outputs": [
    {
     "data": {
      "text/html": [
       "<html>\n",
       "    <head>\n",
       "        <style>\n",
       "            #output {\n",
       "                background-color: #353b45;\n",
       "                padding: 10px;\n",
       "                border: 3px solid #ccc;\n",
       "            }\n",
       "        </style>\n",
       "    </head>\n",
       "    <body>\n",
       "        <div id=\"output\">\n",
       "            Hello!\n",
       "        </div>\n",
       "    </body>\n",
       "</html>\n"
      ],
      "text/plain": [
       "<IPython.core.display.HTML object>"
      ]
     },
     "metadata": {},
     "output_type": "display_data"
    }
   ],
   "source": [
    "%%html\n",
    "<html>\n",
    "    <head>\n",
    "        <style>\n",
    "            #output {\n",
    "                background-color: #353b45;\n",
    "                padding: 10px;\n",
    "                border: 3px solid #ccc;\n",
    "            }\n",
    "        </style>\n",
    "    </head>\n",
    "    <body>\n",
    "        <div id=\"output\">\n",
    "            Hello!\n",
    "        </div>\n",
    "    </body>\n",
    "</html>"
   ]
  },
  {
   "attachments": {},
   "cell_type": "markdown",
   "metadata": {},
   "source": [
    "### output explored\n",
    "There are several ways to ouput the classic introduction message: \"Hello, World!\" \n",
    "- Before you go further, open Console on your Browser. <mark>JavaScript developer leaves Console open</mark> all the time!!!\n",
    "- The function <mark>console.log()</mark> outputs to Console, this is often used for inspection or debugging.\n",
    "- \"Hello, World\" is a String literal. This is the referred to as <mark>Static text</mark>, as it does not change.  Developer call this a <mark>hard coded string</mark>.\n",
    "- <mark>\"Hello, World\" literal is a parameter</mark> to console.log(), element.txt() and alert().\n",
    "- The element.txt function is part of <mark>Jupyter Notebook %%js magic</mark>.  This is convenient for Notebook and testing.\n",
    "- The <mark>alert command outputs the parameter to a dialog box</mark>, so you can see it in this Jupyter notebook. The alert commands are shown, but are commented out as the stop run all execution of the notebook.\n",
    "- Note, in a Web Application Debugging: An alert is often used for less savy Developers. Console is used by more savy developers; console often requires setting up a lot of outputs. Source level debugging is the most powerful solution for debugging and does not require alert or console commands."
   ]
  },
  {
   "cell_type": "code",
   "execution_count": 2,
   "metadata": {
    "vscode": {
     "languageId": "javascript"
    }
   },
   "outputs": [
    {
     "data": {
      "application/javascript": "console.log(\"JavaScript/Jupyter Output Intro\");\n\n// Browser Console output; debugging or tracing\nconsole.log(\"Hello, World!\");\nconsole.log(\"Hello, World Again!\");\n\n// Document Object Model (DOM) output; output to HTML, CSS which is standard for a Web Page\n// <mark>select element method</mark>: DOM native JavaScript get, document.getElementByID\ndocument.getElementById(\"output\").textContent = \"Hello, World!\";\n// <mark>jQuery CSS-style method</mark>: Tag for DOM selector, $('#output')\n$('#output').append('<br><b>Hello World Again!');  // br is break or new line, b is bold\n\n// Jupyter built in magic element for testing and convenience of development\nelement.text(\"Hello, World!\"); // element is output option as part of %%js magic\nelement.append('<br><b>Hello World Again!');\n\n//alert(\"Hello, World!\");\n",
      "text/plain": [
       "<IPython.core.display.Javascript object>"
      ]
     },
     "metadata": {},
     "output_type": "display_data"
    }
   ],
   "source": [
    "%%js // required to allow cell to be JavaScript enabled\n",
    "console.log(\"JavaScript/Jupyter Output Intro\");\n",
    "\n",
    "// Browser Console output; debugging or tracing\n",
    "console.log(\"Hello, World!\");\n",
    "console.log(\"Hello, World Again!\");\n",
    "\n",
    "// Document Object Model (DOM) output; output to HTML, CSS which is standard for a Web Page\n",
    "// <mark>select element method</mark>: DOM native JavaScript get, document.getElementByID\n",
    "document.getElementById(\"output\").textContent = \"Hello, World!\";\n",
    "// <mark>jQuery CSS-style method</mark>: Tag for DOM selector, $('#output')\n",
    "$('#output').append('<br><b>Hello World Again!');  // br is break or new line, b is bold\n",
    "\n",
    "// Jupyter built in magic element for testing and convenience of development\n",
    "element.text(\"Hello, World!\"); // element is output option as part of %%js magic\n",
    "element.append('<br><b>Hello World Again!');\n",
    "\n",
    "//alert(\"Hello, World!\");"
   ]
  },
  {
   "attachments": {},
   "cell_type": "markdown",
   "metadata": {},
   "source": [
    "### multiple outputs using one variable\n",
    "This second example is a new <mark>sequence of code</mark>, two or more lines of code forms a sequence.  This example defines a variable, thank goodness!!! In the previous example we were typing the string `\"Hello, World\" over and over`.  Observe with the variable `msg=\"Hello, World!\";` we type the string once and now use `msg` over and over.\n",
    "- The variable \"var msg =\" is used to capture the data\n",
    "- The console.log(msg) outputs to console, be sure to Inspect it!\n",
    "- The element.text() is part of Jupyter Notebooks and displays as output blow the code on this page. Until we build up some more interesting data for Web Site, we will not use be using the Python HTML, CSS technique.\n",
    "- The alert(msg) works the same as previous, but as the other commands uses msg as parameter."
   ]
  },
  {
   "cell_type": "code",
   "execution_count": 3,
   "metadata": {
    "vscode": {
     "languageId": "javascript"
    }
   },
   "outputs": [
    {
     "data": {
      "application/javascript": "console.log(\"Variable Definition\");\n\nvar msg = \"Hello, World!\";\n\n// Use msg to output code to Console and Jupyter Notebook\nconsole.log(msg);  //right click browser select Inspect, then select Console to view\nelement.text(msg);\n//alert(msg);\n",
      "text/plain": [
       "<IPython.core.display.Javascript object>"
      ]
     },
     "metadata": {},
     "output_type": "display_data"
    }
   ],
   "source": [
    "%%js\n",
    "console.log(\"Variable Definition\");\n",
    "\n",
    "var msg = \"Hello, World!\";\n",
    "\n",
    "// Use msg to output code to Console and Jupyter Notebook\n",
    "console.log(msg);  //right click browser select Inspect, then select Console to view\n",
    "element.text(msg);\n",
    "//alert(msg);\n"
   ]
  },
  {
   "attachments": {},
   "cell_type": "markdown",
   "metadata": {},
   "source": [
    "### output showing use of a function\n",
    "This example passes the defined variable \"msg\" to the newly defined \"function logIt(output)\".\n",
    "- There are multiple steps in this code..\n",
    "    - The \"definition of the function\": \"function logIt(output) {}\" and everything between curly braces is the definitions of the function. Passing a parameter is required when you call this function.\n",
    "    - The \"call to the function:\"logIt(msg)\" is the call to the function, this actually runs the function.  The variable \"msg\" is used a parameter when calling the logIt function.\n",
    "- Showing reuse of function...\n",
    "    - There are two calls to the logIt function\n",
    "    - This is called Prodedural Abstraction, a term that means reusing the same code"
   ]
  },
  {
   "cell_type": "code",
   "execution_count": 4,
   "metadata": {
    "vscode": {
     "languageId": "javascript"
    }
   },
   "outputs": [
    {
     "data": {
      "application/javascript": "console.log(\"Function Definition\");\n\n/* Function: logIt\n * Parameter: output\n * Description: The parameter is \"output\" to console and jupyter page\n*/\nfunction logIt(output) {\n    console.log(output); \n    element.append(output + \"<br>\");\n    //alert(output);\n}\n\n// First sequence calling logIt function\nvar msg = \"Hello, World!\";\nlogIt(msg);\n\n// Second sequence calling logIt function\nvar msg = \"Hello, <b>Students</b>!\" // replaces content of variable\nvar classOf = \"Welcome CS class of 2023-2024.\"\nlogIt(msg + \"  \" + classOf); // concatenation of strings\n",
      "text/plain": [
       "<IPython.core.display.Javascript object>"
      ]
     },
     "metadata": {},
     "output_type": "display_data"
    }
   ],
   "source": [
    "%%js\n",
    "console.log(\"Function Definition\");\n",
    "\n",
    "/* Function: logIt\n",
    " * Parameter: output\n",
    " * Description: The parameter is \"output\" to console and jupyter page\n",
    "*/\n",
    "function logIt(output) {\n",
    "    console.log(output); \n",
    "    element.append(output + \"<br>\");\n",
    "    //alert(output);\n",
    "}\n",
    "\n",
    "// First sequence calling logIt function\n",
    "var msg = \"Hello, World!\";\n",
    "logIt(msg);\n",
    "\n",
    "// Second sequence calling logIt function\n",
    "var msg = \"Hello, <b>Students</b>!\" // replaces content of variable\n",
    "var classOf = \"Welcome CS class of 2023-2024.\"\n",
    "logIt(msg + \"  \" + classOf); // concatenation of strings"
   ]
  },
  {
   "attachments": {},
   "cell_type": "markdown",
   "metadata": {},
   "source": [
    "### output showing Loosely typed data\n",
    "<mark>JavaScript is a loosely typed language</mark>, meaning you don't have to specify what type of information will be stored in a variable in advance.  \n",
    "- To define a variable you prefix the name with <mark>var or const</mark>.   The variable type is determined by JavaScript at runtime.\n",
    "- Python and many interpretive languages are loosely typed like JavaScript.  This is considered programmer friendly.  \n",
    "- Java which is a compiled language is strongly typed, thus you will see terms like <mark>String, Integer, Double, and Object</mark> in the source code. \n",
    "- In JavaScript, the <mark>typeof keyword</mark> returns the type of the variable.  Become familiar with type as it is valuable in conversation and knowing type help you understand how to modify data.  Each variable type will have built in methods to manage content within the data type."
   ]
  },
  {
   "cell_type": "code",
   "execution_count": 5,
   "metadata": {
    "vscode": {
     "languageId": "javascript"
    }
   },
   "outputs": [
    {
     "data": {
      "application/javascript": "console.log(\"Examine Data Types\");\n\n// Function to add typeof to output\nfunction getType(output) {\n    return typeof output + \": \" + output;\n}\n\n// Function defintion\nfunction logIt(output) {\n    console.log(getType(output));  // logs string\n    console.info(output);          // logs object\n    element.append(getType(output) + \"<br>\");  // adds to Jupyter output\n    //alert(getType(output));\n}\n\n// Common Types\nelement.append(\"Common Types <br>\");\nlogIt(\"Mr M\"); // String\nlogIt(1997);    // Number\nlogIt(true);    // Boolean\nelement.append(\"<br>\");\n\n// Object Type, this definition is often called a array or list\nelement.append(\"Object Type, array <br>\");\nvar scores = [\n    90,\n    80, \n    100\n];  \nlogIt(scores);\nelement.append(\"<br>\");\n\n// Complex Object, this definition is often called hash, map, hashmap, or dictionary\nelement.append(\"Object Type, hash or dictionary <br>\");\nvar person = { // key:value pairs seperated by comma\n    \"name\": \"Mr M\", \n    \"role\": \"Teacher\"\n}; \nlogIt(person);\nlogIt(JSON.stringify(person));  //method used to convert this object into readable format\n",
      "text/plain": [
       "<IPython.core.display.Javascript object>"
      ]
     },
     "metadata": {},
     "output_type": "display_data"
    }
   ],
   "source": [
    "%%js\n",
    "console.log(\"Examine Data Types\");\n",
    "\n",
    "// Function to add typeof to output\n",
    "function getType(output) {\n",
    "    return typeof output + \": \" + output;\n",
    "}\n",
    "\n",
    "// Function defintion\n",
    "function logIt(output) {\n",
    "    console.log(getType(output));  // logs string\n",
    "    console.info(output);          // logs object\n",
    "    element.append(getType(output) + \"<br>\");  // adds to Jupyter output\n",
    "    //alert(getType(output));\n",
    "}\n",
    "\n",
    "// Common Types\n",
    "element.append(\"Common Types <br>\");\n",
    "logIt(\"Mr M\"); // String\n",
    "logIt(1997);    // Number\n",
    "logIt(true);    // Boolean\n",
    "element.append(\"<br>\");\n",
    "\n",
    "// Object Type, this definition is often called a array or list\n",
    "element.append(\"Object Type, array <br>\");\n",
    "var scores = [\n",
    "    90,\n",
    "    80, \n",
    "    100\n",
    "];  \n",
    "logIt(scores);\n",
    "element.append(\"<br>\");\n",
    "\n",
    "// Complex Object, this definition is often called hash, map, hashmap, or dictionary\n",
    "element.append(\"Object Type, hash or dictionary <br>\");\n",
    "var person = { // key:value pairs seperated by comma\n",
    "    \"name\": \"Mr M\", \n",
    "    \"role\": \"Teacher\"\n",
    "}; \n",
    "logIt(person);\n",
    "logIt(JSON.stringify(person));  //method used to convert this object into readable format"
   ]
  },
  {
   "attachments": {},
   "cell_type": "markdown",
   "metadata": {},
   "source": [
    "### Build a Person object and JSON\n",
    "JavaScript and other languages have special properties and syntax to store and represent data.  In fact, a class in JavaScript is a special function.\n",
    "\n",
    "- <mark>Definition of class allows for a collection of data</mark>, the \"class Person\" allows programmer to retain name, github id, and class of a Person.\n",
    "- <mark>Instance of a class</mark>, the \"const teacher = new Person(\"Mr M\", \"jm1021\", 1977)\" makes an object \"teacher\" which is an object representation of \"class Person\".\n",
    "- <mark>Setting and Getting properties</mark> After creating teacher and student objects, observe that properties can be changed/muted or extracted/accessed."
   ]
  },
  {
   "cell_type": "code",
   "execution_count": 6,
   "metadata": {
    "vscode": {
     "languageId": "javascript"
    }
   },
   "outputs": [
    {
     "data": {
      "text/html": [
       "<!-- load jQuery and tablesorter scripts -->\n",
       "<html>\n",
       "    <head>\n",
       "        <!-- load jQuery and tablesorter scripts -->\n",
       "        <script src=\"https://ajax.googleapis.com/ajax/libs/jquery/3.6.0/jquery.min.js\"></script>\n",
       "        <script src=\"https://cdnjs.cloudflare.com/ajax/libs/jquery.tablesorter/2.31.3/js/jquery.tablesorter.min.js\"></script>\n",
       "        <style>\n",
       "            /* CSS-style selector maps to table id or other id's in HTML */\n",
       "            #jsonTable, #flaskTable {\n",
       "                background-color: #353b45;\n",
       "                padding: 10px;\n",
       "                border: 3px solid #ccc;\n",
       "                box-shadow: 0.8em 0.4em 0.4em grey;\n",
       "            }\n",
       "        </style>\n",
       "    </head>\n",
       "\n",
       "    <body>\n",
       "        <!-- Table for writing and extracting jsonText -->\n",
       "        <table id=\"jsonTable\">\n",
       "            <thead>\n",
       "                <tr>\n",
       "                    <th>Classroom JSON Data</th>\n",
       "                </tr>\n",
       "            </thead>\n",
       "            <tbody>\n",
       "                <tr>\n",
       "                    <td id=\"jsonText\">{\"classroom\":[{\"type\":\"object\",\"name\":\"sample\",\"ghID\":\"sample\",\"classOf\":2000,\"role\":\"sample\"}]}</td>\n",
       "                </tr>\n",
       "            </tbody>\n",
       "        </table>\n",
       "\n",
       "    </body>\n",
       "</html>\n"
      ],
      "text/plain": [
       "<IPython.core.display.HTML object>"
      ]
     },
     "metadata": {},
     "output_type": "display_data"
    }
   ],
   "source": [
    "%%html\n",
    "<!-- load jQuery and tablesorter scripts -->\n",
    "<html>\n",
    "    <head>\n",
    "        <!-- load jQuery and tablesorter scripts -->\n",
    "        <script src=\"https://ajax.googleapis.com/ajax/libs/jquery/3.6.0/jquery.min.js\"></script>\n",
    "        <script src=\"https://cdnjs.cloudflare.com/ajax/libs/jquery.tablesorter/2.31.3/js/jquery.tablesorter.min.js\"></script>\n",
    "        <style>\n",
    "            /* CSS-style selector maps to table id or other id's in HTML */\n",
    "            #jsonTable, #flaskTable {\n",
    "                background-color: #353b45;\n",
    "                padding: 10px;\n",
    "                border: 3px solid #ccc;\n",
    "                box-shadow: 0.8em 0.4em 0.4em grey;\n",
    "            }\n",
    "        </style>\n",
    "    </head>\n",
    "\n",
    "    <body>\n",
    "        <!-- Table for writing and extracting jsonText -->\n",
    "        <table id=\"jsonTable\">\n",
    "            <thead>\n",
    "                <tr>\n",
    "                    <th>Classroom JSON Data</th>\n",
    "                </tr>\n",
    "            </thead>\n",
    "            <tbody>\n",
    "                <tr>\n",
    "                    <td id=\"jsonText\">{\"classroom\":[{\"type\":\"object\",\"name\":\"sample\",\"ghID\":\"sample\",\"classOf\":2000,\"role\":\"sample\"}]}</td>\n",
    "                </tr>\n",
    "            </tbody>\n",
    "        </table>\n",
    "\n",
    "    </body>\n",
    "</html>"
   ]
  },
  {
   "cell_type": "code",
   "execution_count": 7,
   "metadata": {
    "vscode": {
     "languageId": "javascript"
    }
   },
   "outputs": [
    {
     "data": {
      "application/javascript": "console.log(\"Person objects\");\n\n/* class: Person\n * Description: A collection of Person data\n*/\nclass Person {\n  /* method: constructor\n   * parameters: name, ghID - GitHub ID, classOf - Graduation Class \n   * description: returns object when \"new Person()\" is called with matching parameters\n   * assignment: this.name, this.ghID, ... are properties retained in the returned object\n   * default: role uses a default property, it is set to \"Student\"\n  */\n  constructor(name, ghID, classOf, role=\"Student\") {\n    this.name = name;\n    this.ghID = ghID;\n    this.classOf = classOf;\n    this.role = role;\n  }\n\n  /* method: setter\n   * parameters: role - role in classroom\n   * description: this.role is updated from default value to value contained in role parameter\n  */\n  setRole(role) {\n    this.role = role;\n  }\n  \n  /* method: getter\n   * description: turns properties of object into JSON object\n   * return value: JSON object\n  */\n  getJSON() {\n    const obj = {type: typeof this, name: this.name, ghID: this.ghID, classOf: this.classOf, role: this.role};\n    const json = JSON.stringify(obj);\n    return json;\n  }\n\n  /* method: logIT\n   * description: \"this\" Person object is logged to console\n  */\n  logIt() {\n    //Person Object\n    console.info(this);\n    //Log to Jupter\n    element.append(\"Person object in JSON <br>\");\n    element.append(this.getJSON() + \"<br>\");  \n    //alert(this.getJSON());\n  }\n    \n}\n\n// make a new Person Object\nconst teacher = new Person(\"Mr M\", \"jm1021\", 1977); // object type is easy to work with in JavaScript\n// update role to Teacher\nteacher.setRole(\"Teacher\"); // set the role\nteacher.logIt();  // log to console\n\n// make a new Person Object\nconst student = new Person(\"Jane Doe\", \"jane\", 2007); // object type is easy to work with in JavaScript\nstudent.logIt(); // log to console\n",
      "text/plain": [
       "<IPython.core.display.Javascript object>"
      ]
     },
     "metadata": {},
     "output_type": "display_data"
    }
   ],
   "source": [
    "%%js\n",
    "console.log(\"Person objects\");\n",
    "\n",
    "/* class: Person\n",
    " * Description: A collection of Person data\n",
    "*/\n",
    "class Person {\n",
    "  /* method: constructor\n",
    "   * parameters: name, ghID - GitHub ID, classOf - Graduation Class \n",
    "   * description: returns object when \"new Person()\" is called with matching parameters\n",
    "   * assignment: this.name, this.ghID, ... are properties retained in the returned object\n",
    "   * default: role uses a default property, it is set to \"Student\"\n",
    "  */\n",
    "  constructor(name, ghID, classOf, role=\"Student\") {\n",
    "    this.name = name;\n",
    "    this.ghID = ghID;\n",
    "    this.classOf = classOf;\n",
    "    this.role = role;\n",
    "  }\n",
    "\n",
    "  /* method: setter\n",
    "   * parameters: role - role in classroom\n",
    "   * description: this.role is updated from default value to value contained in role parameter\n",
    "  */\n",
    "  setRole(role) {\n",
    "    this.role = role;\n",
    "  }\n",
    "  \n",
    "  /* method: getter\n",
    "   * description: turns properties of object into JSON object\n",
    "   * return value: JSON object\n",
    "  */\n",
    "  getJSON() {\n",
    "    const obj = {type: typeof this, name: this.name, ghID: this.ghID, classOf: this.classOf, role: this.role};\n",
    "    const json = JSON.stringify(obj);\n",
    "    return json;\n",
    "  }\n",
    "\n",
    "  /* method: logIT\n",
    "   * description: \"this\" Person object is logged to console\n",
    "  */\n",
    "  logIt() {\n",
    "    //Person Object\n",
    "    console.info(this);\n",
    "    //Log to Jupter\n",
    "    element.append(\"Person object in JSON <br>\");\n",
    "    element.append(this.getJSON() + \"<br>\");  \n",
    "    //alert(this.getJSON());\n",
    "  }\n",
    "    \n",
    "}\n",
    "\n",
    "// make a new Person Object\n",
    "const teacher = new Person(\"Mr M\", \"jm1021\", 1977); // object type is easy to work with in JavaScript\n",
    "// update role to Teacher\n",
    "teacher.setRole(\"Teacher\"); // set the role\n",
    "teacher.logIt();  // log to console\n",
    "\n",
    "// make a new Person Object\n",
    "const student = new Person(\"Jane Doe\", \"jane\", 2007); // object type is easy to work with in JavaScript\n",
    "student.logIt(); // log to console"
   ]
  },
  {
   "attachments": {},
   "cell_type": "markdown",
   "metadata": {},
   "source": [
    "### Build a Classroom Array/List of Persons and JSON\n",
    "Many key elements are shown again.  New elements include...\n",
    "- <mark>Building an Array</mark>, \"var students\" is an array of many persons\n",
    "- Building a Classroom, this show <mark>forEach iteration</mark> through an array and <mark>.push adding</mark> to an array.  These are key concepts in all programming languages."
   ]
  },
  {
   "cell_type": "code",
   "execution_count": 8,
   "metadata": {
    "vscode": {
     "languageId": "javascript"
    }
   },
   "outputs": [
    {
     "data": {
      "application/javascript": "console.log(\"Classroom object\");\n\n/* class: Person\n * Description: A collection of Person data\n*/\nclass Person {\n  /* method: constructor\n   * parameters: name, ghID - GitHub ID, classOf - Graduation Class \n   * description: returns object when \"new Person()\" is called with matching parameters\n   * assignment: this.name, this.ghID, ... are properties retained in the returned object\n   * default: this.role is a default property retained in object, it is set to \"Student\"\n  */\n  constructor(name, ghID, classOf, role=\"Student\") {\n    this.name = name;\n    this.ghID = ghID;\n    this.classOf = classOf;\n    this.role = role;\n  }\n\n  /* method: setter\n   * parameters: role - role in classroom\n   * description: this.role is updated from default value to value contained in role parameter\n  */\n  setRole(role) {\n    this.role = role;\n  }\n  \n  /* method: getter\n   * description: turns properties of object into JSON object\n   * return value: JSON object\n  */\n  getJSON() {\n    const obj = {type: typeof this, name: this.name, ghID: this.ghID, classOf: this.classOf, role: this.role};\n    const json = JSON.stringify(obj);\n    return json;\n  }\n\n  /* method: logIT\n   * description: \"this\" Person object is logged to console\n  */\n  logIt() {\n    //Person Object\n    console.info(this);\n    //Log to Jupter\n    element.append(\"Person json <br>\");\n    element.append(this.getJSON() + \"<br>\");  \n    //alert(this.getJSON());\n  }\n    \n}\n\n/* class: Classroom\n * Description: A collection of Person objects\n*/\nclass Classroom {\n  /* method: constructor\n   * parameters: teacher - a Person object, students - an array of Person objects\n   * description: returns object when \"new Classroom()\" is called containing properties and methods of a Classroom\n   * assignment: this.classroom, this.teacher, ... are properties retained in the returned object\n  */\n  constructor(teacher, students) {\n    /* spread: this.classroom contains Teacher object and all Student objects\n     * map: this.json contains of map of all persons to JSON\n    */\n    this.teacher = teacher;\n    this.students = students;\n    this.classroom = [teacher, ...students]; // ... spread option\n    this.json = '{\"classroom\":[' + this.classroom.map(person => person.getJSON()) + ']}';\n  }\n\n  /* method: logIT\n   * description: \"this\" Classroom object is logged to console\n  */\n  logIt() {\n    //Classroom object\n    console.log(this);\n    \n    //Classroom json\n    element.append(\"Classroom object in JSON<br>\");\n    element.append(this.json + \"<br>\");  \n    //alert(this.json);\n  }\n}\n\n/* function: constructCompSciClassroom\n * Description: Create data for Classroom and Person objects\n * Returns: A Classroom Object\n*/\nfunction constructCompSciClassroom() {\n    // define a Teacher object\n    const teacher = new Person(\"Mr M\", \"jm1021\", 1977, \"Teacher\");  // optional 4th parameter\n\n    // define a student Array of Person objects\n    const students = [ \n        new Person(\"Anthony\", \"tonyhieu\", 2022),\n        new Person(\"Bria\", \"B-G101\", 2023),\n        new Person(\"Allie\", \"xiaoa0\", 2023),\n        new Person(\"Tigran\", \"Tigran7\", 2023),\n        new Person(\"Rebecca\", \"Rebecca-123\", 2023),\n        new Person(\"Vidhi\", \"VidhiKulkarni\", 2024)\n    ];\n\n    // make a CompSci classroom from formerly defined teacher and student objects\n    return new Classroom(teacher, students);  // returns object\n}\n\n// assigns \"compsci\" to the object returned by \"constructCompSciClassroom()\" function\nconst compsci = constructCompSciClassroom();\n// output of Objects and JSON in CompSci classroom\ncompsci.logIt();\n// enable sharing of data across jupyter cells\n$('#jsonText').text(compsci.json);  // posts/embeds/writes compsci.json to HTML DOM element called jsonText\n",
      "text/plain": [
       "<IPython.core.display.Javascript object>"
      ]
     },
     "metadata": {},
     "output_type": "display_data"
    }
   ],
   "source": [
    "%%js\n",
    "console.log(\"Classroom object\");\n",
    "\n",
    "/* class: Person\n",
    " * Description: A collection of Person data\n",
    "*/\n",
    "class Person {\n",
    "  /* method: constructor\n",
    "   * parameters: name, ghID - GitHub ID, classOf - Graduation Class \n",
    "   * description: returns object when \"new Person()\" is called with matching parameters\n",
    "   * assignment: this.name, this.ghID, ... are properties retained in the returned object\n",
    "   * default: this.role is a default property retained in object, it is set to \"Student\"\n",
    "  */\n",
    "  constructor(name, ghID, classOf, role=\"Student\") {\n",
    "    this.name = name;\n",
    "    this.ghID = ghID;\n",
    "    this.classOf = classOf;\n",
    "    this.role = role;\n",
    "  }\n",
    "\n",
    "  /* method: setter\n",
    "   * parameters: role - role in classroom\n",
    "   * description: this.role is updated from default value to value contained in role parameter\n",
    "  */\n",
    "  setRole(role) {\n",
    "    this.role = role;\n",
    "  }\n",
    "  \n",
    "  /* method: getter\n",
    "   * description: turns properties of object into JSON object\n",
    "   * return value: JSON object\n",
    "  */\n",
    "  getJSON() {\n",
    "    const obj = {type: typeof this, name: this.name, ghID: this.ghID, classOf: this.classOf, role: this.role};\n",
    "    const json = JSON.stringify(obj);\n",
    "    return json;\n",
    "  }\n",
    "\n",
    "  /* method: logIT\n",
    "   * description: \"this\" Person object is logged to console\n",
    "  */\n",
    "  logIt() {\n",
    "    //Person Object\n",
    "    console.info(this);\n",
    "    //Log to Jupter\n",
    "    element.append(\"Person json <br>\");\n",
    "    element.append(this.getJSON() + \"<br>\");  \n",
    "    //alert(this.getJSON());\n",
    "  }\n",
    "    \n",
    "}\n",
    "\n",
    "/* class: Classroom\n",
    " * Description: A collection of Person objects\n",
    "*/\n",
    "class Classroom {\n",
    "  /* method: constructor\n",
    "   * parameters: teacher - a Person object, students - an array of Person objects\n",
    "   * description: returns object when \"new Classroom()\" is called containing properties and methods of a Classroom\n",
    "   * assignment: this.classroom, this.teacher, ... are properties retained in the returned object\n",
    "  */\n",
    "  constructor(teacher, students) {\n",
    "    /* spread: this.classroom contains Teacher object and all Student objects\n",
    "     * map: this.json contains of map of all persons to JSON\n",
    "    */\n",
    "    this.teacher = teacher;\n",
    "    this.students = students;\n",
    "    this.classroom = [teacher, ...students]; // ... spread option\n",
    "    this.json = '{\"classroom\":[' + this.classroom.map(person => person.getJSON()) + ']}';\n",
    "  }\n",
    "\n",
    "  /* method: logIT\n",
    "   * description: \"this\" Classroom object is logged to console\n",
    "  */\n",
    "  logIt() {\n",
    "    //Classroom object\n",
    "    console.log(this);\n",
    "    \n",
    "    //Classroom json\n",
    "    element.append(\"Classroom object in JSON<br>\");\n",
    "    element.append(this.json + \"<br>\");  \n",
    "    //alert(this.json);\n",
    "  }\n",
    "}\n",
    "\n",
    "/* function: constructCompSciClassroom\n",
    " * Description: Create data for Classroom and Person objects\n",
    " * Returns: A Classroom Object\n",
    "*/\n",
    "function constructCompSciClassroom() {\n",
    "    // define a Teacher object\n",
    "    const teacher = new Person(\"Mr M\", \"jm1021\", 1977, \"Teacher\");  // optional 4th parameter\n",
    "\n",
    "    // define a student Array of Person objects\n",
    "    const students = [ \n",
    "        new Person(\"Anthony\", \"tonyhieu\", 2022),\n",
    "        new Person(\"Bria\", \"B-G101\", 2023),\n",
    "        new Person(\"Allie\", \"xiaoa0\", 2023),\n",
    "        new Person(\"Tigran\", \"Tigran7\", 2023),\n",
    "        new Person(\"Rebecca\", \"Rebecca-123\", 2023),\n",
    "        new Person(\"Vidhi\", \"VidhiKulkarni\", 2024)\n",
    "    ];\n",
    "\n",
    "    // make a CompSci classroom from formerly defined teacher and student objects\n",
    "    return new Classroom(teacher, students);  // returns object\n",
    "}\n",
    "\n",
    "// assigns \"compsci\" to the object returned by \"constructCompSciClassroom()\" function\n",
    "const compsci = constructCompSciClassroom();\n",
    "// output of Objects and JSON in CompSci classroom\n",
    "compsci.logIt();\n",
    "// enable sharing of data across jupyter cells\n",
    "$('#jsonText').text(compsci.json);  // posts/embeds/writes compsci.json to HTML DOM element called jsonText"
   ]
  },
  {
   "attachments": {},
   "cell_type": "markdown",
   "metadata": {},
   "source": [
    "###  for loop to generate Table Rows in HTML output\n",
    "This code extracts JSON text from HTML, that was placed in DOM in an earlier JavaScript cell, then it parses text into a JavaScript object.  In addition, there is a for loop that iterates over the extracted object generating formated rows and columns in an HTML table.\n",
    "\n",
    "- Table generation is broken into parts...\n",
    "    - table data is obtained from a classroom array inside of the extracted object.  \n",
    "    - the JavaScript for loop allows the construction of a new row of data for each Person hash object inside of the the Array.\n",
    "    - in the loop a table row `<tr> ... </tr>` is created for each Hash object in the Array.\n",
    "    - in the loop table data, a table column, `<td> ... </td>` is created for name, ghID, classOf, and role within the Hash object."
   ]
  },
  {
   "cell_type": "code",
   "execution_count": 1,
   "metadata": {
    "vscode": {
     "languageId": "javascript"
    }
   },
   "outputs": [
    {
     "data": {
      "application/javascript": "console.log(\"Classroom Web Page\");\n\n// extract JSON text from HTML page\nconst jsonText = document.getElementById(\"jsonText\").innerHTML;\nconsole.log(jsonText);\nelement.append(\"Raw jsonText element embedded in HTML<br>\");\nelement.append( jsonText + \"<br>\");\n\n// convert JSON text to Object\nconst classroom = JSON.parse(jsonText).classroom;\nconsole.log(classroom);\n\n// from classroom object creates rows and columns in HTML table\nelement.append(\"<br>Formatted data sample from jsonText <br>\");\nfor (var row of classroom) {\n    element.append(row.ghID + \" \" + row.name + '<br>');\n    // tr for each row, a new line\n    $('#classroom').append('<tr>')\n    // td for each column of data\n    $('#classroom').append('<td>' + row.name + '</td>')\n    $('#classroom').append('<td>' + row.ghID + '</td>')\n    $('#classroom').append('<td>' + row.classOf + '</td>')\n    $('#classroom').append('<td>' + row.role + '</td>')\n    // tr to end row\n    $('#classroom').append('</tr>');\n}\n",
      "text/plain": [
       "<IPython.core.display.Javascript object>"
      ]
     },
     "metadata": {},
     "output_type": "display_data"
    }
   ],
   "source": [
    "%%js\n",
    "console.log(\"Classroom Web Page\");\n",
    "\n",
    "// extract JSON text from HTML page\n",
    "const jsonText = document.getElementById(\"jsonText\").innerHTML;\n",
    "console.log(jsonText);\n",
    "element.append(\"Raw jsonText element embedded in HTML<br>\");\n",
    "element.append( jsonText + \"<br>\");\n",
    "\n",
    "// convert JSON text to Object\n",
    "const classroom = JSON.parse(jsonText).classroom;\n",
    "console.log(classroom);\n",
    "\n",
    "// from classroom object creates rows and columns in HTML table\n",
    "element.append(\"<br>Formatted data sample from jsonText <br>\");\n",
    "for (var row of classroom) {\n",
    "    element.append(row.ghID + \" \" + row.name + '<br>');\n",
    "    // tr for each row, a new line\n",
    "    $('#classroom').append('<tr>')\n",
    "    // td for each column of data\n",
    "    $('#classroom').append('<td>' + row.name + '</td>')\n",
    "    $('#classroom').append('<td>' + row.ghID + '</td>')\n",
    "    $('#classroom').append('<td>' + row.classOf + '</td>')\n",
    "    $('#classroom').append('<td>' + row.role + '</td>')\n",
    "    // tr to end row\n",
    "    $('#classroom').append('</tr>');\n",
    "}"
   ]
  },
  {
   "cell_type": "code",
   "execution_count": 10,
   "metadata": {
    "vscode": {
     "languageId": "javascript"
    }
   },
   "outputs": [
    {
     "data": {
      "text/html": [
       "<head>\n",
       "    <!-- load jQuery and DataTables syle and scripts -->\n",
       "    <link rel=\"stylesheet\" type=\"text/css\" href=\"https://cdn.datatables.net/1.10.25/css/jquery.dataTables.min.css\">\n",
       "    <script type=\"text/javascript\" language=\"javascript\" src=\"https://code.jquery.com/jquery-3.6.0.min.js\"></script>\n",
       "    <script type=\"text/javascript\" language=\"javascript\" src=\"https://cdn.datatables.net/1.10.25/js/jquery.dataTables.min.js\"></script>\n",
       "</head>\n",
       "<table id=\"flaskTable\" class=\"table\" style=\"width:100%\">\n",
       "    <thead id=\"flaskHead\">\n",
       "        <tr>\n",
       "            <th>ID</th>\n",
       "            <th>Name</th>\n",
       "            <th>DOB</th>\n",
       "            <th>Age</th>\n",
       "        </tr>\n",
       "    </thead>\n",
       "    <tbody id=\"flaskBody\"></tbody>\n",
       "</table>\n",
       "\n",
       "<script>\n",
       "  $(document).ready(function() {\n",
       "    fetch('https://flask.nighthawkcodingsociety.com/api/users/', { mode: 'cors' })\n",
       "    .then(response => {\n",
       "      if (!response.ok) {\n",
       "        throw new Error('API response failed');\n",
       "      }\n",
       "      return response.json();\n",
       "    })\n",
       "    .then(data => {\n",
       "      for (const row of data) {\n",
       "        // BUG warning/resolution - DataTable requires row to be single append\n",
       "        $('#flaskBody').append('<tr><td>' + \n",
       "            row.id + '</td><td>' + \n",
       "            row.name + '</td><td>' + \n",
       "            row.dob + '</td><td>' + \n",
       "            row.age + '</td></tr>');\n",
       "      }\n",
       "      // BUG warning - Jupyter does not show Datatable controls, works on deployed GitHub pages\n",
       "      $(\"#flaskTable\").DataTable();\n",
       "    })\n",
       "    .catch(error => {\n",
       "      console.error('Error:', error);\n",
       "    });\n",
       "  });\n",
       "</script>\n"
      ],
      "text/plain": [
       "<IPython.core.display.HTML object>"
      ]
     },
     "metadata": {},
     "output_type": "display_data"
    }
   ],
   "source": [
    "%%html\n",
    "<head>\n",
    "    <!-- load jQuery and DataTables syle and scripts -->\n",
    "    <link rel=\"stylesheet\" type=\"text/css\" href=\"https://cdn.datatables.net/1.10.25/css/jquery.dataTables.min.css\">\n",
    "    <script type=\"text/javascript\" language=\"javascript\" src=\"https://code.jquery.com/jquery-3.6.0.min.js\"></script>\n",
    "    <script type=\"text/javascript\" language=\"javascript\" src=\"https://cdn.datatables.net/1.10.25/js/jquery.dataTables.min.js\"></script>\n",
    "</head>\n",
    "<table id=\"flaskTable\" class=\"table\" style=\"width:100%\">\n",
    "    <thead id=\"flaskHead\">\n",
    "        <tr>\n",
    "            <th>ID</th>\n",
    "            <th>Name</th>\n",
    "            <th>DOB</th>\n",
    "            <th>Age</th>\n",
    "        </tr>\n",
    "    </thead>\n",
    "    <tbody id=\"flaskBody\"></tbody>\n",
    "</table>\n",
    "\n",
    "<script>\n",
    "  $(document).ready(function() {\n",
    "    fetch('https://flask.nighthawkcodingsociety.com/api/users/', { mode: 'cors' })\n",
    "    .then(response => {\n",
    "      if (!response.ok) {\n",
    "        throw new Error('API response failed');\n",
    "      }\n",
    "      return response.json();\n",
    "    })\n",
    "    .then(data => {\n",
    "      for (const row of data) {\n",
    "        // BUG warning/resolution - DataTable requires row to be single append\n",
    "        $('#flaskBody').append('<tr><td>' + \n",
    "            row.id + '</td><td>' + \n",
    "            row.name + '</td><td>' + \n",
    "            row.dob + '</td><td>' + \n",
    "            row.age + '</td></tr>');\n",
    "      }\n",
    "      // BUG warning - Jupyter does not show Datatable controls, works on deployed GitHub pages\n",
    "      $(\"#flaskTable\").DataTable();\n",
    "    })\n",
    "    .catch(error => {\n",
    "      console.error('Error:', error);\n",
    "    });\n",
    "  });\n",
    "</script>"
   ]
  },
  {
   "attachments": {},
   "cell_type": "markdown",
   "metadata": {},
   "source": [
    "## Hacks\n",
    "> One key to these hacks is to build confidence with me going into final grade, I would like to see each student adapt this frontend work in their final project.  Second key is the finished work can serve as review for the course, notes for the future in relationship to frontend.\n",
    "- Adapt this tutorial to your own work\n",
    "- Consider what you need to work on to be stronger developer\n",
    "- Show something creative or unique, no cloning\n",
    "- Be ready to talk to Teacher for 5 to 10 minutes. Individually!!!\n",
    "- Show in Jupyter Notebook during discussion, show Theme and ChatGPT\n",
    "- Have a runtime final in GithHub Pages (or Fastpage)"
   ]
  },
  {
   "attachments": {},
   "cell_type": "markdown",
   "metadata": {
    "vscode": {
     "languageId": "html"
    }
   },
   "source": [
    "<script>\n",
    "    function testButtonClick(city) {\n",
    "        if (!city.trim()) {\n",
    "            alert(\"Enter a city.\");\n",
    "            return;\n",
    "        }  \n",
    "        const resultContainer = document.getElementById(\"astronomy\");\n",
    "        resultContainer.innerHTML = \"\";\n",
    "        const url = \"https://weatherapi-com.p.rapidapi.com/astronomy.json?q=\" + city; \n",
    "        const headers = {\n",
    "            method: 'GET', \n",
    "            mode: 'cors', \n",
    "            cache: 'default', \n",
    "            credentials: 'omit', \n",
    "            headers: {\n",
    "                'Content-Type': 'application/json',\n",
    "                'X-RapidAPI-Key': '0b6ef107f7msh5606de624633ceap17521ejsn27566d20ff5b',\n",
    "                'X-RapidAPI-Host': 'weatherapi-com.p.rapidapi.com'\n",
    "            },\n",
    "        };\n",
    "        fetch(url, headers)\n",
    "        .then(response => {\n",
    "            if (response.status !== 200) {\n",
    "                const errorMsg = 'Database response error: ' + response.status;\n",
    "                console.log(errorMsg);\n",
    "                const tr = document.createElement(\"tr\");\n",
    "                const td = document.createElement(\"td\");\n",
    "                td.innerHTML = errorMsg;\n",
    "                tr.appendChild(td);\n",
    "                resultContainer.appendChild(tr);\n",
    "                return;\n",
    "            }\n",
    "            response.json().then(data => {\n",
    "                console.log(data);\n",
    "                console.log(data.location)\n",
    "                document.getElementById(\"name\").innerHTML = data.location.name;\n",
    "                document.getElementById(\"region\").innerHTML = data.location.region;\n",
    "                document.getElementById(\"country\").innerHTML = data.location.country;\n",
    "                document.getElementById(\"lat\").innerHTML = data.location.lat;\n",
    "                document.getElementById(\"lon\").innerHTML = data.location.lon;\n",
    "                document.getElementById(\"tz_id\").innerHTML = data.location.tz_id;\n",
    "                document.getElementById(\"localtime_epoch\").innerHTML = data.location.localtime_epoch;\n",
    "                document.getElementById(\"localtime\").innerHTML = data.location.localtime;\n",
    "                const tr = document.createElement(\"tr\");\n",
    "                const sunrise = document.createElement(\"td\");\n",
    "                const sunset = document.createElement(\"td\");\n",
    "                const moonrise = document.createElement(\"td\");\n",
    "                const moonset = document.createElement(\"td\");\n",
    "                const moon_phase = document.createElement(\"td\");\n",
    "                const moon_illumination = document.createElement(\"td\");\n",
    "                sunrise.innerHTML = data.astronomy.astro.sunrise;\n",
    "                sunset.innerHTML = data.astronomy.astro.sunset; \n",
    "                moonrise.innerHTML = data.astronomy.astro.moonrise; \n",
    "                moonset.innerHTML = data.astronomy.astro.moonset; \n",
    "                moon_phase.innerHTML = data.astronomy.astro.moon_phase; \n",
    "                moon_illumination.innerHTML = data.astronomy.astro.moon_illumination;\n",
    "                tr.appendChild(sunrise);\n",
    "                tr.appendChild(sunset);\n",
    "                tr.appendChild(moonrise);\n",
    "                tr.appendChild(moonset);\n",
    "                tr.appendChild(moon_phase);\n",
    "                tr.appendChild(moon_illumination);\n",
    "                resultContainer.appendChild(tr);\n",
    "            })\n",
    "        })\n",
    "    }\n",
    "\n",
    "\n",
    "</script>\n",
    "<body>\n",
    "<h1>API Information and Example</h1>\n",
    "\n",
    "<a href=\"#astronomybutton\"><button> Astronomy API </button></a>\n",
    "<div id=\"astronomybutton\">\n",
    "<label for=\"city\">Enter city name:</label>\n",
    "<input type=\"text\" id=\"city\" name=\"city\">&nbsp;&nbsp;<input type=\"button\" value=\"Get Location & Astronomy\" onclick=\"testButtonClick(document.getElementById('city').value)\">\n",
    "<br><br>\n",
    "<table>\n",
    "  <thead>Location Details\n",
    "  <tr>\n",
    "    <th>City</th>\n",
    "    <th>Region</th>\n",
    "    <th>Country</th>\n",
    "    <th>Latitude</th>\n",
    "    <th>Longitude</th>\n",
    "    <th>Time Zone</th>\n",
    "    <th>Local Time Epoch</th>\n",
    "    <th>Local Date and Time</th>\n",
    "  </tr>\n",
    "  </thead>\n",
    "  <tbody>\n",
    "    <td id=\"name\"></td>\n",
    "    <td id=\"region\"></td>\n",
    "    <td id=\"country\"></td>\n",
    "    <td id=\"lat\"></td>\n",
    "    <td id=\"lon\"></td>\n",
    "    <td id=\"tz_id\"></td>\n",
    "    <td id=\"localtime_epoch\"></td>\n",
    "    <td id=\"localtime\"></td>\n",
    "  </tbody>\n",
    "</table>\n",
    "\n",
    "\n",
    "\n",
    "\n",
    "\n",
    "\n",
    "<table>\n",
    "    <thead>Astronomy Details\n",
    "    <tr>\n",
    "        <th>Sunrise</th>\n",
    "        <th>Sunset</th>\n",
    "        <th>Moonrise</th>\n",
    "        <th>Moonset</th>\n",
    "        <th>Moon Phase</th>\n",
    "        <th>Moon Illumination</th>\n",
    "    </tr>\n",
    "    </thead>\n",
    "    <tbody id=\"astronomy\">\n",
    "    </tbody>\n",
    "</table>    \n"
   ]
  },
  {
   "cell_type": "code",
   "execution_count": 4,
   "metadata": {},
   "outputs": [
    {
     "name": "stdout",
     "output_type": "stream",
     "text": [
      "{'albums': {'totalCount': 1000, 'items': [{'data': {'uri': 'spotify:album:1rVhockt4RAiZFaK3M3zPB', 'name': 'No Jacket Required (2016 Remaster)', 'artists': {'items': [{'uri': 'spotify:artist:4lxfqrEsLX6N1N4OCSkILp', 'profile': {'name': 'Phil Collins'}}]}, 'coverArt': {'sources': [{'url': 'https://i.scdn.co/image/ab67616d00001e0279553c4dcec1846d3a5c49ab', 'width': 300, 'height': 300}, {'url': 'https://i.scdn.co/image/ab67616d0000485179553c4dcec1846d3a5c49ab', 'width': 64, 'height': 64}, {'url': 'https://i.scdn.co/image/ab67616d0000b27379553c4dcec1846d3a5c49ab', 'width': 640, 'height': 640}]}, 'date': {'year': 1985}}}, {'data': {'uri': 'spotify:album:4IjRikscB01fLT0BtKT5g5', 'name': 'REQUEST (30th Anniversary Edition)', 'artists': {'items': [{'uri': 'spotify:artist:3WwGRA2o4Ux1RRMYaYDh7N', 'profile': {'name': 'Mariya Takeuchi'}}]}, 'coverArt': {'sources': [{'url': 'https://i.scdn.co/image/ab67616d00001e02676ca4dc8c635709448286ef', 'width': 300, 'height': 300}, {'url': 'https://i.scdn.co/image/ab67616d00004851676ca4dc8c635709448286ef', 'width': 64, 'height': 64}, {'url': 'https://i.scdn.co/image/ab67616d0000b273676ca4dc8c635709448286ef', 'width': 640, 'height': 640}]}, 'date': {'year': 1987}}}, {'data': {'uri': 'spotify:album:6EL41p7LHcGM3ji70lwUus', 'name': 'Required Time', 'artists': {'items': [{'uri': 'spotify:artist:4Opl4VxS2RS9hDyBpKXLPI', 'profile': {'name': 'Boston Hobbs'}}]}, 'coverArt': {'sources': [{'url': 'https://i.scdn.co/image/ab67616d00001e02e97d046c67467cd64a5b24f4', 'width': 300, 'height': 300}, {'url': 'https://i.scdn.co/image/ab67616d00004851e97d046c67467cd64a5b24f4', 'width': 64, 'height': 64}, {'url': 'https://i.scdn.co/image/ab67616d0000b273e97d046c67467cd64a5b24f4', 'width': 640, 'height': 640}]}, 'date': {'year': 2023}}}, {'data': {'uri': 'spotify:album:21Y2KDAvmbyaENzKIeO2Lj', 'name': 'REQUIEM', 'artists': {'items': [{'uri': 'spotify:artist:3Z2tyxT1pjQnZtkwGQngi6', 'profile': {'name': 'ROMANTICA'}}]}, 'coverArt': {'sources': [{'url': 'https://i.scdn.co/image/ab67616d00001e0216b2f50434857bd68a37d7fd', 'width': 300, 'height': 300}, {'url': 'https://i.scdn.co/image/ab67616d0000485116b2f50434857bd68a37d7fd', 'width': 64, 'height': 64}, {'url': 'https://i.scdn.co/image/ab67616d0000b27316b2f50434857bd68a37d7fd', 'width': 640, 'height': 640}]}, 'date': {'year': 2023}}}, {'data': {'uri': 'spotify:album:7avlHipAwnKsxcXwC9Wpin', 'name': 'No Jacket Required (Deluxe Edition)', 'artists': {'items': [{'uri': 'spotify:artist:4lxfqrEsLX6N1N4OCSkILp', 'profile': {'name': 'Phil Collins'}}]}, 'coverArt': {'sources': [{'url': 'https://i.scdn.co/image/ab67616d00001e0257480be4ce4fd7659a25b7d9', 'width': 300, 'height': 300}, {'url': 'https://i.scdn.co/image/ab67616d0000485157480be4ce4fd7659a25b7d9', 'width': 64, 'height': 64}, {'url': 'https://i.scdn.co/image/ab67616d0000b27357480be4ce4fd7659a25b7d9', 'width': 640, 'height': 640}]}, 'date': {'year': 1985}}}, {'data': {'uri': 'spotify:album:1Sdrty8ZkaNRbZqjhrHKYt', 'name': 'REQUIRE (with Olamide)', 'artists': {'items': [{'uri': 'spotify:artist:64oW4P0vsDhlorOxZKQi6a', 'profile': {'name': 'DJ Tunez'}}, {'uri': 'spotify:artist:4ovtyvs7j1jSmwhkBGHqSr', 'profile': {'name': 'Olamide'}}]}, 'coverArt': {'sources': [{'url': 'https://i.scdn.co/image/ab67616d00001e02503bfaa882fd61f34f784d66', 'width': 300, 'height': 300}, {'url': 'https://i.scdn.co/image/ab67616d00004851503bfaa882fd61f34f784d66', 'width': 64, 'height': 64}, {'url': 'https://i.scdn.co/image/ab67616d0000b273503bfaa882fd61f34f784d66', 'width': 640, 'height': 640}]}, 'date': {'year': 2020}}}, {'data': {'uri': 'spotify:album:3SMuZ4d8kDMkIWk0gwbokH', 'name': 'Required Repertoire for The 47th PTNA Piano Competition 2023', 'artists': {'items': [{'uri': 'spotify:artist:0LyfQWJT6nXafLPZqxe9Of', 'profile': {'name': 'Various Artists'}}]}, 'coverArt': {'sources': [{'url': 'https://i.scdn.co/image/ab67616d00001e028e8e9929c8af6845610c8186', 'width': 300, 'height': 300}, {'url': 'https://i.scdn.co/image/ab67616d000048518e8e9929c8af6845610c8186', 'width': 64, 'height': 64}, {'url': 'https://i.scdn.co/image/ab67616d0000b2738e8e9929c8af6845610c8186', 'width': 640, 'height': 640}]}, 'date': {'year': 2023}}}, {'data': {'uri': 'spotify:album:4hqjE4M2FKwKeObRmoTEet', 'name': 'The Question', 'artists': {'items': [{'uri': 'spotify:artist:4feAxLUxIU7G4KXhH0h2ni', 'profile': {'name': 'Emery'}}]}, 'coverArt': {'sources': [{'url': 'https://i.scdn.co/image/ab67616d00001e02c3f775ff365006607d11d8c5', 'width': 300, 'height': 300}, {'url': 'https://i.scdn.co/image/ab67616d00004851c3f775ff365006607d11d8c5', 'width': 64, 'height': 64}, {'url': 'https://i.scdn.co/image/ab67616d0000b273c3f775ff365006607d11d8c5', 'width': 640, 'height': 640}]}, 'date': {'year': 2005}}}, {'data': {'uri': 'spotify:album:0BbeoTXqQv0qKki6CDcznI', 'name': 'Disassembly Required (Teaser Original Soundtrack)', 'artists': {'items': [{'uri': 'spotify:artist:0yXeAQirPMVzAlhxGvux1s', 'profile': {'name': 'Liam Vickers'}}]}, 'coverArt': {'sources': [{'url': 'https://i.scdn.co/image/ab67616d00001e0226cf2e2751ee0aec2cf62479', 'width': 300, 'height': 300}, {'url': 'https://i.scdn.co/image/ab67616d0000485126cf2e2751ee0aec2cf62479', 'width': 64, 'height': 64}, {'url': 'https://i.scdn.co/image/ab67616d0000b27326cf2e2751ee0aec2cf62479', 'width': 640, 'height': 640}]}, 'date': {'year': 2021}}}, {'data': {'uri': 'spotify:album:2qnjP4x2myHntaN7Je5FrR', 'name': 'The Requiem', 'artists': {'items': [{'uri': 'spotify:artist:787mj6iFvEpBBuQQRDdMXB', 'profile': {'name': 'DJ Genki'}}]}, 'coverArt': {'sources': [{'url': 'https://i.scdn.co/image/ab67616d00001e02b43b45cc7ca70ea3c03208c4', 'width': 300, 'height': 300}, {'url': 'https://i.scdn.co/image/ab67616d00004851b43b45cc7ca70ea3c03208c4', 'width': 64, 'height': 64}, {'url': 'https://i.scdn.co/image/ab67616d0000b273b43b45cc7ca70ea3c03208c4', 'width': 640, 'height': 640}]}, 'date': {'year': 2017}}}]}, 'artists': {'totalCount': 131, 'items': [{'data': {'uri': 'spotify:artist:1g05P4Ua1FzC0cQxSlgmyu', 'profile': {'name': 'Required'}, 'visuals': {'avatarImage': {'sources': [{'url': 'https://i.scdn.co/image/ab6761610000e5ebb90e7421a4134ce495ff1a83', 'width': 640, 'height': 640}, {'url': 'https://i.scdn.co/image/ab6761610000f178b90e7421a4134ce495ff1a83', 'width': 160, 'height': 160}, {'url': 'https://i.scdn.co/image/ab67616100005174b90e7421a4134ce495ff1a83', 'width': 320, 'height': 320}]}}}}, {'data': {'uri': 'spotify:artist:1dzhL0wTs2Skw8ZI6IuiMl', 'profile': {'name': 'requi3m'}, 'visuals': {'avatarImage': {'sources': [{'url': 'https://i.scdn.co/image/ab6761610000e5eb7a399d7baf3c58f3b80ce8b8', 'width': 640, 'height': 640}, {'url': 'https://i.scdn.co/image/ab6761610000f1787a399d7baf3c58f3b80ce8b8', 'width': 160, 'height': 160}, {'url': 'https://i.scdn.co/image/ab676161000051747a399d7baf3c58f3b80ce8b8', 'width': 320, 'height': 320}]}}}}, {'data': {'uri': 'spotify:artist:2FikzP9y7jVNqwpMgvyxnk', 'profile': {'name': 'Assembly Required'}, 'visuals': {'avatarImage': {'sources': [{'url': 'https://i.scdn.co/image/ab6761610000e5eb4cbc0b4529e9795a45a7ffe2', 'width': 640, 'height': 640}, {'url': 'https://i.scdn.co/image/ab6761610000f1784cbc0b4529e9795a45a7ffe2', 'width': 160, 'height': 160}, {'url': 'https://i.scdn.co/image/ab676161000051744cbc0b4529e9795a45a7ffe2', 'width': 320, 'height': 320}]}}}}, {'data': {'uri': 'spotify:artist:6Nz5eeIPxluEw9Mb0tLWiR', 'profile': {'name': 'Redeemed Quartet'}, 'visuals': {'avatarImage': {'sources': [{'url': 'https://i.scdn.co/image/ab6761610000e5eb2e63968237ffe9cfcf9a9cd7', 'width': 640, 'height': 640}, {'url': 'https://i.scdn.co/image/ab6761610000f1782e63968237ffe9cfcf9a9cd7', 'width': 160, 'height': 160}, {'url': 'https://i.scdn.co/image/ab676161000051742e63968237ffe9cfcf9a9cd7', 'width': 320, 'height': 320}]}}}}, {'data': {'uri': 'spotify:artist:7xgKgpuyyWMsBCE0g3czip', 'profile': {'name': 'no headphones required'}, 'visuals': {'avatarImage': {'sources': [{'url': 'https://i.scdn.co/image/ab67616d0000b2738d011d8514af7c74f9cdbaea', 'width': 640, 'height': 640}, {'url': 'https://i.scdn.co/image/ab67616d000048518d011d8514af7c74f9cdbaea', 'width': 64, 'height': 64}, {'url': 'https://i.scdn.co/image/ab67616d00001e028d011d8514af7c74f9cdbaea', 'width': 300, 'height': 300}]}}}}, {'data': {'uri': 'spotify:artist:0AVDrFPDLiiQptdtfPevzg', 'profile': {'name': 'Requiem Inc.'}, 'visuals': {'avatarImage': {'sources': [{'url': 'https://i.scdn.co/image/ab67616d0000b273c48336cad98250b35b4412e3', 'width': 640, 'height': 640}, {'url': 'https://i.scdn.co/image/ab67616d00004851c48336cad98250b35b4412e3', 'width': 64, 'height': 64}, {'url': 'https://i.scdn.co/image/ab67616d00001e02c48336cad98250b35b4412e3', 'width': 300, 'height': 300}]}}}}, {'data': {'uri': 'spotify:artist:7npQgtl4CC9gX2uq9voTT2', 'profile': {'name': 'No Assembly Required'}, 'visuals': {'avatarImage': {'sources': [{'url': 'https://i.scdn.co/image/ab6761610000e5ebd0309f42daa0bfd24954bd6e', 'width': 640, 'height': 640}, {'url': 'https://i.scdn.co/image/ab6761610000f178d0309f42daa0bfd24954bd6e', 'width': 160, 'height': 160}, {'url': 'https://i.scdn.co/image/ab67616100005174d0309f42daa0bfd24954bd6e', 'width': 320, 'height': 320}]}}}}, {'data': {'uri': 'spotify:artist:5RmZclxIWvmctw5DNBJyo6', 'profile': {'name': 'Richie Quake'}, 'visuals': {'avatarImage': {'sources': [{'url': 'https://i.scdn.co/image/ab6761610000e5eb159bc0eb21b89e2e342dcc02', 'width': 640, 'height': 640}, {'url': 'https://i.scdn.co/image/ab6761610000f178159bc0eb21b89e2e342dcc02', 'width': 160, 'height': 160}, {'url': 'https://i.scdn.co/image/ab67616100005174159bc0eb21b89e2e342dcc02', 'width': 320, 'height': 320}]}}}}, {'data': {'uri': 'spotify:artist:1q1qCPxxITofbZLotknvyB', 'profile': {'name': 'Some Assembly Required'}, 'visuals': {'avatarImage': {'sources': [{'url': 'https://i.scdn.co/image/ab67616d0000b273783e027a2b93eb73654f71e6', 'width': 640, 'height': 640}, {'url': 'https://i.scdn.co/image/ab67616d00004851783e027a2b93eb73654f71e6', 'width': 64, 'height': 64}, {'url': 'https://i.scdn.co/image/ab67616d00001e02783e027a2b93eb73654f71e6', 'width': 300, 'height': 300}]}}}}, {'data': {'uri': 'spotify:artist:0Azd1miap0hcvpwmA9K3Qr', 'profile': {'name': 'REQUITIR'}, 'visuals': {'avatarImage': {'sources': [{'url': 'https://i.scdn.co/image/ab6761610000e5eb8ca9a44c9ac3dc86b48e7c57', 'width': 640, 'height': 640}, {'url': 'https://i.scdn.co/image/ab6761610000f1788ca9a44c9ac3dc86b48e7c57', 'width': 160, 'height': 160}, {'url': 'https://i.scdn.co/image/ab676161000051748ca9a44c9ac3dc86b48e7c57', 'width': 320, 'height': 320}]}}}}]}, 'episodes': {'totalCount': 1000, 'items': [{'data': {'uri': 'spotify:episode:1GMsuAc2s43cXKbFqUTOwy', 'name': 'Requiem - Death Note the Musical (Demo)', 'coverArt': {'sources': [{'url': 'https://i.scdn.co/image/ab6765630000f68df6f8c7e95f7d4331ee1c6ed1', 'width': 64, 'height': 64}, {'url': 'https://i.scdn.co/image/ab67656300005f1ff6f8c7e95f7d4331ee1c6ed1', 'width': 300, 'height': 300}, {'url': 'https://i.scdn.co/image/ab6765630000ba8af6f8c7e95f7d4331ee1c6ed1', 'width': 640, 'height': 640}]}, 'duration': {'totalMilliseconds': 113475}, 'releaseDate': {'isoString': '2022-07-08T00:09:00Z'}, 'podcast': {'coverArt': {'sources': [{'url': 'https://i.scdn.co/image/ab6765630000f68d18bf593598f9b7e717a5774f', 'width': 64, 'height': 64}, {'url': 'https://i.scdn.co/image/ab67656300005f1f18bf593598f9b7e717a5774f', 'width': 300, 'height': 300}, {'url': 'https://i.scdn.co/image/ab6765630000ba8a18bf593598f9b7e717a5774f', 'width': 640, 'height': 640}]}}, 'description': \"Finale. Hopefully this will stay on Spotify. I don't own this music.\", 'contentRating': {'label': 'NONE'}}}, {'data': {'uri': 'spotify:episode:57XlVJBIb5gBP4jkeGrzWw', 'name': 'The Video Game Required Reading List: 2000-2004 [The Resties]', 'coverArt': {'sources': [{'url': 'https://i.scdn.co/image/ab6765630000f68dad92d0d41e19ed1e35d98237', 'width': 64, 'height': 64}, {'url': 'https://i.scdn.co/image/ab67656300005f1fad92d0d41e19ed1e35d98237', 'width': 300, 'height': 300}, {'url': 'https://i.scdn.co/image/ab6765630000ba8aad92d0d41e19ed1e35d98237', 'width': 640, 'height': 640}]}, 'duration': {'totalMilliseconds': 3105462}, 'releaseDate': {'isoString': '2023-05-02T04:00:00Z'}, 'podcast': {'coverArt': {'sources': [{'url': 'https://i.scdn.co/image/0eac8fed3787b82b1f34f5d4ba7a890764d17e48', 'width': 64, 'height': 64}, {'url': 'https://i.scdn.co/image/7ca66d4bb76706d2a7456813872d08815fe4b9ef', 'width': 300, 'height': 300}, {'url': 'https://i.scdn.co/image/9dcdb02a31e7eb76c0b97e272476db6552838a3a', 'width': 640, 'height': 640}]}}, 'description': 'The Resties Required Reading List is back, baby! Our goal is to curate a \"must-play\" list of 25 games released between 1980 to 2020. Think of it like Video Games 101. This week, we\\'ve selected games from 2000-2004. Join us as we revisit our high school and college days of video games! Previous picks -- 1985-89: Super Mario Bros., The Legend of Zelda, SimCity. 1995-99: Super Mario 64, Pokemon Red and Blue, Final Fantasy 7, Starcraft. 2005-09: Resident Evil 4, Wii Sports, Call of Duty: Modern Warfare; 2010-14: Minecraft, Spelunky HD, Hearthstone.', 'contentRating': {'label': 'EXPLICIT'}}}, {'data': {'uri': 'spotify:episode:1XFGXcaqU74FEfmxhZhGyL', 'name': 'How To Request A Podcast Episode [S2 EP4]', 'coverArt': {'sources': [{'url': 'https://i.scdn.co/image/ab6765630000f68d552a465ddfbc747ec81d18d2', 'width': 64, 'height': 64}, {'url': 'https://i.scdn.co/image/ab67656300005f1f552a465ddfbc747ec81d18d2', 'width': 300, 'height': 300}, {'url': 'https://i.scdn.co/image/ab6765630000ba8a552a465ddfbc747ec81d18d2', 'width': 640, 'height': 640}]}, 'duration': {'totalMilliseconds': 91927}, 'releaseDate': {'isoString': '2023-02-06T06:48:00Z'}, 'podcast': {'coverArt': {'sources': [{'url': 'https://i.scdn.co/image/ab6765630000f68d552a465ddfbc747ec81d18d2', 'width': 64, 'height': 64}, {'url': 'https://i.scdn.co/image/ab67656300005f1f552a465ddfbc747ec81d18d2', 'width': 300, 'height': 300}, {'url': 'https://i.scdn.co/image/ab6765630000ba8a552a465ddfbc747ec81d18d2', 'width': 640, 'height': 640}]}}, 'description': 'Title says it ALL JUST LISTEN TO IT RAAAA  ---   Send in a voice message: https://podcasters.spotify.com/pod/show/jorden-rio-peck/message Support this podcast: https://podcasters.spotify.com/pod/show/jorden-rio-peck/support', 'contentRating': {'label': 'NONE'}}}, {'data': {'uri': 'spotify:episode:5b7S50H9UhDr1iSQHBDxnD', 'name': 'WHATEVER IS REQUIRED', 'coverArt': {'sources': [{'url': 'https://i.scdn.co/image/bcc27befd398f1cb53da780aeac22af6c3d6264f', 'width': 64, 'height': 36}, {'url': 'https://i.scdn.co/image/4b3673c2783a84793200bcfc75186a6f94b47284', 'width': 300, 'height': 169}, {'url': 'https://i.scdn.co/image/935182f3581b526209c3c7236987a6717865d362', 'width': 640, 'height': 360}]}, 'duration': {'totalMilliseconds': 211644}, 'releaseDate': {'isoString': '2018-09-27T02:06:00Z'}, 'podcast': {'coverArt': {'sources': [{'url': 'https://i.scdn.co/image/ab6765630000f68ddb2a35408057daf4df358e3e', 'width': 64, 'height': 64}, {'url': 'https://i.scdn.co/image/ab67656300005f1fdb2a35408057daf4df358e3e', 'width': 300, 'height': 300}, {'url': 'https://i.scdn.co/image/ab6765630000ba8adb2a35408057daf4df358e3e', 'width': 640, 'height': 640}]}}, 'description': 'This episode is spoken by Dr. Ken Friendly, Les Brown, Eric Thomas and Andy Frisella. You can see more of Dr. Ken Friendly at tr.im/DrKenFriendly, Les Brown at tr.im/LesBrown, Eric Thomas at tr.im/EricThomas and Andy Frisella at tr.im/AndyFrisella. The music is MK Ultra by Really Slow Motion. You can see more of Really Slow Motion at tr.im/ReallySlowMotion.', 'contentRating': {'label': 'NONE'}}}, {'data': {'uri': 'spotify:episode:67bA3jotrNLx8THQBC4CUi', 'name': 'REQUESTS ANNOUNCEMENT!!', 'coverArt': {'sources': [{'url': 'https://i.scdn.co/image/ab6765630000f68db7a912bb0b77cad90cb614a2', 'width': 64, 'height': 64}, {'url': 'https://i.scdn.co/image/ab67656300005f1fb7a912bb0b77cad90cb614a2', 'width': 300, 'height': 300}, {'url': 'https://i.scdn.co/image/ab6765630000ba8ab7a912bb0b77cad90cb614a2', 'width': 640, 'height': 640}]}, 'duration': {'totalMilliseconds': 59791}, 'releaseDate': {'isoString': '2022-09-24T17:57:00Z'}, 'podcast': {'coverArt': {'sources': [{'url': 'https://i.scdn.co/image/ab6765630000f68d5f77628b233a1b00417f1f87', 'width': 64, 'height': 64}, {'url': 'https://i.scdn.co/image/ab67656300005f1f5f77628b233a1b00417f1f87', 'width': 300, 'height': 300}, {'url': 'https://i.scdn.co/image/ab6765630000ba8a5f77628b233a1b00417f1f87', 'width': 640, 'height': 640}]}}, 'description': \"First of all don't watch the video it's just a black screen. Some of you guys seem to not know where your requests are. It is ALL over my podcast, even in the about this podcast section. I've said multiple times:  THE REQUESTS ARE IN **THIS** PODCAST HERE, IT'S A SEPARATE ONE!: https://open.spotify.com/show/4hUEcqDZyMk5pmCEKGUvjS?si=f3f00a2c543e4e02 PRESS THE LINK TO GET TO YOUR VIDEOS!!!! I'm not going to say it again!\", 'contentRating': {'label': 'NONE'}}}, {'data': {'uri': 'spotify:episode:5tqBEsMtlxqYUgVzfXdhz6', 'name': '201: How to Create a Wardrobe You Love (No Trends Required) With Jeannie Stith', 'coverArt': {'sources': [{'url': 'https://i.scdn.co/image/ab6765630000f68d2d0572670b5b2ce9f1b66b86', 'width': 64, 'height': 64}, {'url': 'https://i.scdn.co/image/ab67656300005f1f2d0572670b5b2ce9f1b66b86', 'width': 300, 'height': 300}, {'url': 'https://i.scdn.co/image/ab6765630000ba8a2d0572670b5b2ce9f1b66b86', 'width': 640, 'height': 640}]}, 'duration': {'totalMilliseconds': 2479438}, 'releaseDate': {'isoString': '2023-05-01T05:30:00Z'}, 'podcast': {'coverArt': {'sources': [{'url': 'https://i.scdn.co/image/ab6765630000f68dc0416c4632bb0eb3f2ecde32', 'width': 64, 'height': 64}, {'url': 'https://i.scdn.co/image/ab67656300005f1fc0416c4632bb0eb3f2ecde32', 'width': 300, 'height': 300}, {'url': 'https://i.scdn.co/image/ab6765630000ba8ac0416c4632bb0eb3f2ecde32', 'width': 640, 'height': 640}]}}, 'description': \"In today's episode you'll learn:  3 go-to solutions\\xa0to\\xa0not\\xa0falling prey to constantly changing trends and\\xa0wasting $$$$ find out if a capsule wardrobe\\xa0is right for you\\xa0(and common pitfalls of them) \\xa0the easiest\\xa0ways to declutter\\xa0your clothes and\\xa0create a simple wardrobe  I'm so excited to hear how this episode helps you simplify your wardrobe and makes getting dressed FUN again! Jeannie is running her\\xa0BIGGEST sale of the year\\xa0on ALL of her color packages starting TODAY to this Friday 5/5 at Midnight EST and you can\\xa0double up on coupons to get\\xa020% OFF!  \\xa0Step 1:\\xa0Her 10% coupon will be\\xa0automatically\\xa0deducted at checkout between 5/1 and 5/5 \\xa0Step 2:\\xa0Use my coupon: CLUTTERFREE\\xa0to get an\\xa0EXTRA 10%\\xa0off between 5/1 and 5/5  If you've been thinking about getting your colors...now is the time! ➡️ This is a\\xa0great\\xa0gift\\xa0for friends and family!⬅️\\xa0 (I've gifted this to EVERY family member of mine, even my sons!) FYI:\\xa0You can also add a makeup card to learn about your BEST makeup colors, too! (this was very helpful for me) GET YOUR BEST COLORS HERE! https://yourcolorguru.com/ \\xa0\", 'contentRating': {'label': 'NONE'}}}, {'data': {'uri': 'spotify:episode:0wUGozAIE8UbhsJHYoKQHR', 'name': 'this is fine... (REQUESTED) (markiplier)', 'coverArt': {'sources': [{'url': 'https://i.scdn.co/image/ab6765630000f68dc6064344383720a08c468b34', 'width': 64, 'height': 64}, {'url': 'https://i.scdn.co/image/ab67656300005f1fc6064344383720a08c468b34', 'width': 300, 'height': 300}, {'url': 'https://i.scdn.co/image/ab6765630000ba8ac6064344383720a08c468b34', 'width': 640, 'height': 640}]}, 'duration': {'totalMilliseconds': 2203202}, 'releaseDate': {'isoString': '2023-04-28T13:43:00Z'}, 'podcast': {'coverArt': {'sources': [{'url': 'https://i.scdn.co/image/ab6765630000f68dc6064344383720a08c468b34', 'width': 64, 'height': 64}, {'url': 'https://i.scdn.co/image/ab67656300005f1fc6064344383720a08c468b34', 'width': 300, 'height': 300}, {'url': 'https://i.scdn.co/image/ab6765630000ba8ac6064344383720a08c468b34', 'width': 640, 'height': 640}]}}, 'description': 'Requested by a whole lot of people credit goes to markiplier on youtube ', 'contentRating': {'label': 'NONE'}}}, {'data': {'uri': 'spotify:episode:7ApZigXnepkUslqMgFDrwC', 'name': 'r/Choosingbeggars JOB OPENING: PhD required. Pay: $0', 'coverArt': {'sources': [{'url': 'https://i.scdn.co/image/ab6765630000f68db61650a39d4da79f25948852', 'width': 64, 'height': 64}, {'url': 'https://i.scdn.co/image/ab67656300005f1fb61650a39d4da79f25948852', 'width': 300, 'height': 300}, {'url': 'https://i.scdn.co/image/ab6765630000ba8ab61650a39d4da79f25948852', 'width': 640, 'height': 640}]}, 'duration': {'totalMilliseconds': 954671}, 'releaseDate': {'isoString': '2021-02-05T14:07:00Z'}, 'podcast': {'coverArt': {'sources': [{'url': 'https://i.scdn.co/image/ab6765630000f68d5dbe4fc4391e315c64a80262', 'width': 64, 'height': 64}, {'url': 'https://i.scdn.co/image/ab67656300005f1f5dbe4fc4391e315c64a80262', 'width': 300, 'height': 300}, {'url': 'https://i.scdn.co/image/ab6765630000ba8a5dbe4fc4391e315c64a80262', 'width': 640, 'height': 640}]}}, 'description': \"r/Choosingbeggars Are you ready for an exciting new career with CHOOSING BEGGARS INCORPORATED?! We've got a great new job opening for a qualified candidate who has a PhD and 20 years of work experience. The pay is only $0 to start, but if you work here you will be rewarded with a sense of pride and accomplishment!  Learn more about your ad choices. Visit megaphone.fm/adchoices\", 'contentRating': {'label': 'NONE'}}}, {'data': {'uri': 'spotify:episode:6zK1aOaap9QN6XLAdqHBYO', 'name': 'We Ruined West Hunt (REQUESTED) (smii7y)', 'coverArt': {'sources': [{'url': 'https://i.scdn.co/image/ab6765630000f68d7c10974151642fc58cfa43e6', 'width': 64, 'height': 64}, {'url': 'https://i.scdn.co/image/ab67656300005f1f7c10974151642fc58cfa43e6', 'width': 300, 'height': 300}, {'url': 'https://i.scdn.co/image/ab6765630000ba8a7c10974151642fc58cfa43e6', 'width': 640, 'height': 640}]}, 'duration': {'totalMilliseconds': 1536208}, 'releaseDate': {'isoString': '2023-02-07T14:24:00Z'}, 'podcast': {'coverArt': {'sources': [{'url': 'https://i.scdn.co/image/ab6765630000f68dc6064344383720a08c468b34', 'width': 64, 'height': 64}, {'url': 'https://i.scdn.co/image/ab67656300005f1fc6064344383720a08c468b34', 'width': 300, 'height': 300}, {'url': 'https://i.scdn.co/image/ab6765630000ba8ac6064344383720a08c468b34', 'width': 640, 'height': 640}]}}, 'description': 'Requested By Toasted credit goes to smii7y on youtube', 'contentRating': {'label': 'EXPLICIT'}}}, {'data': {'uri': 'spotify:episode:67BRf4A2Lj802Qj49Hann1', 'name': 'I am REQUIRED TO GO | Preston Morrison | The Basement w- Tim Ross #029', 'coverArt': {'sources': [{'url': 'https://i.scdn.co/image/ab6765630000f68de194b5fa3edf7801dd16a6a2', 'width': 64, 'height': 64}, {'url': 'https://i.scdn.co/image/ab67656300005f1fe194b5fa3edf7801dd16a6a2', 'width': 300, 'height': 300}, {'url': 'https://i.scdn.co/image/ab6765630000ba8ae194b5fa3edf7801dd16a6a2', 'width': 640, 'height': 640}]}, 'duration': {'totalMilliseconds': 8091050}, 'releaseDate': {'isoString': '2023-01-11T03:00:00Z'}, 'podcast': {'coverArt': {'sources': [{'url': 'https://i.scdn.co/image/ab6765630000f68de194b5fa3edf7801dd16a6a2', 'width': 64, 'height': 64}, {'url': 'https://i.scdn.co/image/ab67656300005f1fe194b5fa3edf7801dd16a6a2', 'width': 300, 'height': 300}, {'url': 'https://i.scdn.co/image/ab6765630000ba8ae194b5fa3edf7801dd16a6a2', 'width': 640, 'height': 640}]}}, 'description': 'All my links:\\xa0 https://linktr.ee/timross \\xa0_________________________\\xa0 Want to give financially to the Basement? \\xa0 CASH APP: \\xa0https://cash.app/$UpsetTheWorldLLC  PAY PAL:\\xa0 https://www.paypal.com/paypalme/Upset...\\xa0  Start the year right: \\xa0http://TomeApp.com/NewYear ———————————\\xa0  Become a Member of the channel today:\\xa0 \\xa0https://www.youtube.com/channel/UCqzg... ___________________________________________ \\xa0  My producers:\\xa0 Sam:\\xa0 https://www.instagram.com/sam_byers/  Hector:\\xa0 https://www.instagram.com/hectoralexg... Show less', 'contentRating': {'label': 'NONE'}}}]}, 'genres': {'totalCount': 0, 'items': []}, 'playlists': {'totalCount': 16, 'items': [{'data': {'uri': 'spotify:playlist:3B2fWxsJHxygGh7toOS09u', 'name': 'Required Listening ----', 'description': 'For those enrolled in JR102 (Into to Jane Remover Part II) ---- Notebook and pen required. Will update monthly', 'images': {'items': [{'sources': [{'url': 'https://i.scdn.co/image/ab67706c0000da843e2692f97d695991ae52cf66', 'width': None, 'height': None}]}]}, 'owner': {'name': 'jane remover'}}}, {'data': {'uri': 'spotify:playlist:37i9dQZF1DZ06evO41bnuF', 'name': 'This Is Redeemed Quartet', 'description': 'This is Redeemed Quartet. The essential tracks, all in one playlist.', 'images': {'items': [{'sources': [{'url': 'https://thisis-images.scdn.co/37i9dQZF1DZ06evO41bnuF-default.jpg', 'width': None, 'height': None}]}]}, 'owner': {'name': 'Spotify'}}}, {'data': {'uri': 'spotify:playlist:4Je4L7rV8xRuiybokARidj', 'name': 'Audiophile’s Guide to Eargasms: Headphones Required 🎧', 'description': 'An eclectic mix of some of my favorite songs to listen to with headphones. Headphones Required for Eargasm Experience!', 'images': {'items': [{'sources': [{'url': 'https://i.scdn.co/image/ab67706c0000da848349d25e06538a01f545e4b4', 'width': None, 'height': None}]}]}, 'owner': {'name': 'Priscilla Bernstein'}}}, {'data': {'uri': 'spotify:playlist:37i9dQZF1DZ06evO34T0EG', 'name': 'This Is Requiem', 'description': 'This is Requiem. The essential tracks, all in one playlist.', 'images': {'items': [{'sources': [{'url': 'https://thisis-images.scdn.co/37i9dQZF1DZ06evO34T0EG-default.jpg', 'width': None, 'height': None}]}]}, 'owner': {'name': 'Spotify'}}}, {'data': {'uri': 'spotify:playlist:7pXOv8oT5o8udpqdi04G7P', 'name': 'MUSI 306.15 Required Listening pt.2', 'description': 'Listening requirements for Listening Exam 2', 'images': {'items': [{'sources': [{'url': 'https://mosaic.scdn.co/640/ab67616d00001e0234ef8f7d06cf2fc2146f420aab67616d00001e026aa9314b7ddfbd8f036ba3acab67616d00001e02c9adfbd773852e286faed040ab67616d00001e02d5ea1215e77c3f7a7c716370', 'width': 640, 'height': 640}, {'url': 'https://mosaic.scdn.co/300/ab67616d00001e0234ef8f7d06cf2fc2146f420aab67616d00001e026aa9314b7ddfbd8f036ba3acab67616d00001e02c9adfbd773852e286faed040ab67616d00001e02d5ea1215e77c3f7a7c716370', 'width': 300, 'height': 300}, {'url': 'https://mosaic.scdn.co/60/ab67616d00001e0234ef8f7d06cf2fc2146f420aab67616d00001e026aa9314b7ddfbd8f036ba3acab67616d00001e02c9adfbd773852e286faed040ab67616d00001e02d5ea1215e77c3f7a7c716370', 'width': 60, 'height': 60}]}]}, 'owner': {'name': 'rmaier'}}}, {'data': {'uri': 'spotify:playlist:37i9dQZF1DZ06evO1BM7qa', 'name': 'This Is Requiebros', 'description': 'This is Requiebros. The essential tracks, all in one playlist.', 'images': {'items': [{'sources': [{'url': 'https://thisis-images.scdn.co/37i9dQZF1DZ06evO1BM7qa-default.jpg', 'width': None, 'height': None}]}]}, 'owner': {'name': 'Spotify'}}}, {'data': {'uri': 'spotify:playlist:37i9dQZF1DZ06evO4aWl5F', 'name': 'This Is Requiem', 'description': 'This is Requiem. The essential tracks, all in one playlist.', 'images': {'items': [{'sources': [{'url': 'https://thisis-images.scdn.co/37i9dQZF1DZ06evO4aWl5F-default.jpg', 'width': None, 'height': None}]}]}, 'owner': {'name': 'Spotify'}}}, {'data': {'uri': 'spotify:playlist:37i9dQZF1DZ06evO2h4Xqo', 'name': 'This Is Requiem Project', 'description': 'This is Requiem Project. The essential tracks, all in one playlist.', 'images': {'items': [{'sources': [{'url': 'https://thisis-images.scdn.co/37i9dQZF1DZ06evO2h4Xqo-default.jpg', 'width': None, 'height': None}]}]}, 'owner': {'name': 'Spotify'}}}, {'data': {'uri': 'spotify:playlist:37i9dQZF1DZ06evO1VozjG', 'name': 'This Is Requiem', 'description': 'This is Requiem. The essential tracks, all in one playlist.', 'images': {'items': [{'sources': [{'url': 'https://thisis-images.scdn.co/37i9dQZF1DZ06evO1VozjG-default.jpg', 'width': None, 'height': None}]}]}, 'owner': {'name': 'Spotify'}}}, {'data': {'uri': 'spotify:playlist:37i9dQZF1DZ06evO4vu0yw', 'name': 'This Is Requiem', 'description': 'This is Requiem. The essential tracks, all in one playlist.', 'images': {'items': [{'sources': [{'url': 'https://thisis-images.scdn.co/37i9dQZF1DZ06evO4vu0yw-default.jpg', 'width': None, 'height': None}]}]}, 'owner': {'name': 'Spotify'}}}]}, 'podcasts': {'totalCount': 1000, 'items': [{'data': {'uri': 'spotify:show:2V20sO3i7d2E763sdnxF3G', 'name': 'REQUIEM METAL PODCAST', 'coverArt': {'sources': [{'url': 'https://i.scdn.co/image/ab6765630000f68de1c2d820d983f2a29d9ef66c', 'width': 64, 'height': 64}, {'url': 'https://i.scdn.co/image/ab67656300005f1fe1c2d820d983f2a29d9ef66c', 'width': 300, 'height': 300}, {'url': 'https://i.scdn.co/image/ab6765630000ba8ae1c2d820d983f2a29d9ef66c', 'width': 640, 'height': 640}]}, 'type': 'PODCAST', 'publisher': {'name': 'Requiem Metal'}, 'mediaType': 'AUDIO'}}, {'data': {'uri': 'spotify:show:7AOh7PxO5OxaychZyCoGLM', 'name': 'Required Reading', 'coverArt': {'sources': [{'url': 'https://i.scdn.co/image/ab6765630000f68dc6ec051103e325a91ad9b46d', 'width': 64, 'height': 64}, {'url': 'https://i.scdn.co/image/ab67656300005f1fc6ec051103e325a91ad9b46d', 'width': 300, 'height': 300}, {'url': 'https://i.scdn.co/image/ab6765630000ba8ac6ec051103e325a91ad9b46d', 'width': 640, 'height': 640}]}, 'type': 'PODCAST', 'publisher': {'name': 'Required Reading, Dr. Nic Hoffmann and Mike Burns.'}, 'mediaType': 'AUDIO'}}, {'data': {'uri': 'spotify:show:6zYlX5UGEPmNCWacYUJQGD', 'name': 'Marketplace', 'coverArt': {'sources': [{'url': 'https://i.scdn.co/image/1e891ea40115aa78d4391d5a337418ea7a38880f', 'width': 64, 'height': 64}, {'url': 'https://i.scdn.co/image/e5a6831ba6d364e04197c6ee89818a8d419d1b66', 'width': 300, 'height': 300}, {'url': 'https://i.scdn.co/image/7317fb8169fdafb9e8b2d05c66300d75cb82d39f', 'width': 640, 'height': 640}]}, 'type': 'PODCAST', 'publisher': {'name': 'Marketplace'}, 'mediaType': 'AUDIO'}}, {'data': {'uri': 'spotify:show:0f2wMk3J15CAPEC7yJXubv', 'name': 'Required Taste Podcast', 'coverArt': {'sources': [{'url': 'https://i.scdn.co/image/ab6765630000f68d7eeeb42312a2d1a9c12a130b', 'width': 64, 'height': 64}, {'url': 'https://i.scdn.co/image/ab67656300005f1f7eeeb42312a2d1a9c12a130b', 'width': 300, 'height': 300}, {'url': 'https://i.scdn.co/image/ab6765630000ba8a7eeeb42312a2d1a9c12a130b', 'width': 640, 'height': 640}]}, 'type': 'PODCAST', 'publisher': {'name': 'Required Taste Podcast'}, 'mediaType': 'AUDIO'}}, {'data': {'uri': 'spotify:show:5tU91EXt1eULD2JwNiEl9U', 'name': 'No Sanity Required', 'coverArt': {'sources': [{'url': 'https://i.scdn.co/image/ab6765630000f68dd546a6014060f3866e5c2fdf', 'width': 64, 'height': 64}, {'url': 'https://i.scdn.co/image/ab67656300005f1fd546a6014060f3866e5c2fdf', 'width': 300, 'height': 300}, {'url': 'https://i.scdn.co/image/ab6765630000ba8ad546a6014060f3866e5c2fdf', 'width': 640, 'height': 640}]}, 'type': 'PODCAST', 'publisher': {'name': 'Snowbird Wilderness Outfitters'}, 'mediaType': 'AUDIO'}}, {'data': {'uri': 'spotify:show:1dWfSS8FbnyIntsxwANPbJ', 'name': 'The Criterion Quest', 'coverArt': {'sources': [{'url': 'https://i.scdn.co/image/ab6765630000f68d479eae0fec099cc8590ad457', 'width': 64, 'height': 64}, {'url': 'https://i.scdn.co/image/ab67656300005f1f479eae0fec099cc8590ad457', 'width': 300, 'height': 300}, {'url': 'https://i.scdn.co/image/ab6765630000ba8a479eae0fec099cc8590ad457', 'width': 640, 'height': 640}]}, 'type': 'PODCAST', 'publisher': {'name': 'The Criterion Quest'}, 'mediaType': 'AUDIO'}}, {'data': {'uri': 'spotify:show:5IsXaYF471z5oXivrj61H1', 'name': '(un)qualified', 'coverArt': {'sources': [{'url': 'https://i.scdn.co/image/ab6765630000f68d97ea404223c141159c7b6e9c', 'width': 64, 'height': 64}, {'url': 'https://i.scdn.co/image/ab67656300005f1f97ea404223c141159c7b6e9c', 'width': 300, 'height': 300}, {'url': 'https://i.scdn.co/image/ab6765630000ba8a97ea404223c141159c7b6e9c', 'width': 640, 'height': 640}]}, 'type': 'PODCAST', 'publisher': {'name': 'Shya Everett, Dayana, Hadassah Jayde'}, 'mediaType': 'MIXED'}}, {'data': {'uri': 'spotify:show:5tNuNGArvdmrIUgVNtEGZk', 'name': 'Dialed In - Some Obsession Required', 'coverArt': {'sources': [{'url': 'https://i.scdn.co/image/9394661fffa13b355982b6224668c5037ace0d1b', 'width': 64, 'height': 64}, {'url': 'https://i.scdn.co/image/fd928d346257ea2ef9c120b9fd588e6ceeeda9fc', 'width': 300, 'height': 300}, {'url': 'https://i.scdn.co/image/0296990a1dbe2494c0eb94c04e24cb3ba7fc4c28', 'width': 640, 'height': 640}]}, 'type': 'PODCAST', 'publisher': {'name': 'Matt Moreman'}, 'mediaType': 'AUDIO'}}, {'data': {'uri': 'spotify:show:4sz0h8hq91An59WXE7E2Zw', 'name': 'Queries, Qualms, & Quirks', 'coverArt': {'sources': [{'url': 'https://i.scdn.co/image/ab6765630000f68dc061c53da4f537ace43b73e7', 'width': 64, 'height': 64}, {'url': 'https://i.scdn.co/image/ab67656300005f1fc061c53da4f537ace43b73e7', 'width': 300, 'height': 300}, {'url': 'https://i.scdn.co/image/ab6765630000ba8ac061c53da4f537ace43b73e7', 'width': 640, 'height': 640}]}, 'type': 'PODCAST', 'publisher': {'name': 'Sarah Nicolas'}, 'mediaType': 'AUDIO'}}, {'data': {'uri': 'spotify:show:49Vtig2jRSzFl6Ux4KJct2', 'name': 'Tennis Quick Tips | Fun, Fast and Easy Tennis - No Lessons Required', 'coverArt': {'sources': [{'url': 'https://i.scdn.co/image/ab6765630000f68df30558689278adcfd727bfbf', 'width': 64, 'height': 64}, {'url': 'https://i.scdn.co/image/ab67656300005f1ff30558689278adcfd727bfbf', 'width': 300, 'height': 300}, {'url': 'https://i.scdn.co/image/ab6765630000ba8af30558689278adcfd727bfbf', 'width': 640, 'height': 640}]}, 'type': 'PODCAST', 'publisher': {'name': 'Kim Selzman'}, 'mediaType': 'AUDIO'}}]}, 'topResults': {'items': [{'data': {'uri': 'spotify:artist:1g05P4Ua1FzC0cQxSlgmyu', 'profile': {'name': 'Required'}, 'visuals': {'avatarImage': {'sources': [{'url': 'https://i.scdn.co/image/ab6761610000e5ebb90e7421a4134ce495ff1a83', 'width': 640, 'height': 640}, {'url': 'https://i.scdn.co/image/ab6761610000f178b90e7421a4134ce495ff1a83', 'width': 160, 'height': 160}, {'url': 'https://i.scdn.co/image/ab67616100005174b90e7421a4134ce495ff1a83', 'width': 320, 'height': 320}]}}}}, {'data': {'uri': 'spotify:track:10UNa6qLnyJqCidBklPGm0', 'id': '10UNa6qLnyJqCidBklPGm0', 'name': 'Required', 'albumOfTrack': {'uri': 'spotify:album:2smT3A7MjmmfKNFwlDnEBd', 'name': 'Pre Heat', 'coverArt': {'sources': [{'url': 'https://i.scdn.co/image/ab67616d00001e020520ecfcc5dfbe14ef8cf183', 'width': 300, 'height': 300}, {'url': 'https://i.scdn.co/image/ab67616d000048510520ecfcc5dfbe14ef8cf183', 'width': 64, 'height': 64}, {'url': 'https://i.scdn.co/image/ab67616d0000b2730520ecfcc5dfbe14ef8cf183', 'width': 640, 'height': 640}]}, 'id': '2smT3A7MjmmfKNFwlDnEBd', 'sharingInfo': {'shareUrl': 'https://open.spotify.com/album/2smT3A7MjmmfKNFwlDnEBd?si=2fWer9OFROqZk1hwU9jWsg'}}, 'artists': {'items': [{'uri': 'spotify:artist:57fgfg6PTbTqtPegX6rXV5', 'profile': {'name': 'HEAVY CHEST'}}]}, 'contentRating': {'label': 'NONE'}, 'duration': {'totalMilliseconds': 167206}, 'playability': {'playable': True}}}, {'data': {'uri': 'spotify:playlist:3B2fWxsJHxygGh7toOS09u', 'name': 'Required Listening ----', 'description': 'For those enrolled in JR102 (Into to Jane Remover Part II) ---- Notebook and pen required. Will update monthly', 'images': {'items': [{'sources': [{'url': 'https://i.scdn.co/image/ab67706c0000da843e2692f97d695991ae52cf66', 'width': None, 'height': None}]}]}, 'owner': {'name': 'jane remover'}}}, {'data': {'uri': 'spotify:album:1rVhockt4RAiZFaK3M3zPB', 'name': 'No Jacket Required (2016 Remaster)', 'artists': {'items': [{'uri': 'spotify:artist:4lxfqrEsLX6N1N4OCSkILp', 'profile': {'name': 'Phil Collins'}}]}, 'coverArt': {'sources': [{'url': 'https://i.scdn.co/image/ab67616d00001e0279553c4dcec1846d3a5c49ab', 'width': 300, 'height': 300}, {'url': 'https://i.scdn.co/image/ab67616d0000485179553c4dcec1846d3a5c49ab', 'width': 64, 'height': 64}, {'url': 'https://i.scdn.co/image/ab67616d0000b27379553c4dcec1846d3a5c49ab', 'width': 640, 'height': 640}]}, 'date': {'year': 1985}}}, {'data': {'uri': 'spotify:show:2V20sO3i7d2E763sdnxF3G', 'name': 'REQUIEM METAL PODCAST', 'coverArt': {'sources': [{'url': 'https://i.scdn.co/image/ab6765630000f68de1c2d820d983f2a29d9ef66c', 'width': 64, 'height': 64}, {'url': 'https://i.scdn.co/image/ab67656300005f1fe1c2d820d983f2a29d9ef66c', 'width': 300, 'height': 300}, {'url': 'https://i.scdn.co/image/ab6765630000ba8ae1c2d820d983f2a29d9ef66c', 'width': 640, 'height': 640}]}, 'type': 'PODCAST', 'publisher': {'name': 'Requiem Metal'}, 'mediaType': 'AUDIO'}}], 'featured': []}, 'tracks': {'totalCount': 1000, 'items': [{'data': {'uri': 'spotify:track:10UNa6qLnyJqCidBklPGm0', 'id': '10UNa6qLnyJqCidBklPGm0', 'name': 'Required', 'albumOfTrack': {'uri': 'spotify:album:2smT3A7MjmmfKNFwlDnEBd', 'name': 'Pre Heat', 'coverArt': {'sources': [{'url': 'https://i.scdn.co/image/ab67616d00001e020520ecfcc5dfbe14ef8cf183', 'width': 300, 'height': 300}, {'url': 'https://i.scdn.co/image/ab67616d000048510520ecfcc5dfbe14ef8cf183', 'width': 64, 'height': 64}, {'url': 'https://i.scdn.co/image/ab67616d0000b2730520ecfcc5dfbe14ef8cf183', 'width': 640, 'height': 640}]}, 'id': '2smT3A7MjmmfKNFwlDnEBd', 'sharingInfo': {'shareUrl': 'https://open.spotify.com/album/2smT3A7MjmmfKNFwlDnEBd?si=Xty6ICwISnO8rL9YAAG2eA'}}, 'artists': {'items': [{'uri': 'spotify:artist:57fgfg6PTbTqtPegX6rXV5', 'profile': {'name': 'HEAVY CHEST'}}]}, 'contentRating': {'label': 'NONE'}, 'duration': {'totalMilliseconds': 167206}, 'playability': {'playable': True}}}, {'data': {'uri': 'spotify:track:0KEEzyspcgns3JEdJboguD', 'id': '0KEEzyspcgns3JEdJboguD', 'name': 'REQUIEM', 'albumOfTrack': {'uri': 'spotify:album:21Y2KDAvmbyaENzKIeO2Lj', 'name': 'REQUIEM', 'coverArt': {'sources': [{'url': 'https://i.scdn.co/image/ab67616d00001e0216b2f50434857bd68a37d7fd', 'width': 300, 'height': 300}, {'url': 'https://i.scdn.co/image/ab67616d0000485116b2f50434857bd68a37d7fd', 'width': 64, 'height': 64}, {'url': 'https://i.scdn.co/image/ab67616d0000b27316b2f50434857bd68a37d7fd', 'width': 640, 'height': 640}]}, 'id': '21Y2KDAvmbyaENzKIeO2Lj', 'sharingInfo': {'shareUrl': 'https://open.spotify.com/album/21Y2KDAvmbyaENzKIeO2Lj?si=liFSkD-aRi-2HKFilKm_4w'}}, 'artists': {'items': [{'uri': 'spotify:artist:3Z2tyxT1pjQnZtkwGQngi6', 'profile': {'name': 'ROMANTICA'}}]}, 'contentRating': {'label': 'NONE'}, 'duration': {'totalMilliseconds': 101538}, 'playability': {'playable': True}}}, {'data': {'uri': 'spotify:track:0AzjJdpWFNfl2Jfq8PiNwA', 'id': '0AzjJdpWFNfl2Jfq8PiNwA', 'name': 'Required', 'albumOfTrack': {'uri': 'spotify:album:0TCeHxWUMuwosZORJ6yBd9', 'name': 'God Works', 'coverArt': {'sources': [{'url': 'https://i.scdn.co/image/ab67616d00001e0285c561c798615f07db3b3642', 'width': 300, 'height': 300}, {'url': 'https://i.scdn.co/image/ab67616d0000485185c561c798615f07db3b3642', 'width': 64, 'height': 64}, {'url': 'https://i.scdn.co/image/ab67616d0000b27385c561c798615f07db3b3642', 'width': 640, 'height': 640}]}, 'id': '0TCeHxWUMuwosZORJ6yBd9', 'sharingInfo': {'shareUrl': 'https://open.spotify.com/album/0TCeHxWUMuwosZORJ6yBd9?si=BzCVpQDjT9eROjqJpAvnVw'}}, 'artists': {'items': [{'uri': 'spotify:artist:6aEn1FrJfuRVm9CXpxzLge', 'profile': {'name': 'Papy Jeico'}}]}, 'contentRating': {'label': 'NONE'}, 'duration': {'totalMilliseconds': 45375}, 'playability': {'playable': True}}}, {'data': {'uri': 'spotify:track:5nCi8rqUZ7rEBCWeLlzJtl', 'id': '5nCi8rqUZ7rEBCWeLlzJtl', 'name': 'REQUIEM', 'albumOfTrack': {'uri': 'spotify:album:3CwEaoHBwzhjWczWu7Mjpy', 'name': 'REQUIEM', 'coverArt': {'sources': [{'url': 'https://i.scdn.co/image/ab67616d00001e02d0ecedaba64e658cd9548395', 'width': 300, 'height': 300}, {'url': 'https://i.scdn.co/image/ab67616d00004851d0ecedaba64e658cd9548395', 'width': 64, 'height': 64}, {'url': 'https://i.scdn.co/image/ab67616d0000b273d0ecedaba64e658cd9548395', 'width': 640, 'height': 640}]}, 'id': '3CwEaoHBwzhjWczWu7Mjpy', 'sharingInfo': {'shareUrl': 'https://open.spotify.com/album/3CwEaoHBwzhjWczWu7Mjpy?si=IXJEbfOZQOCQwYzgDE3O8w'}}, 'artists': {'items': [{'uri': 'spotify:artist:5k3a4j15fF9gr4ZvCqMjDm', 'profile': {'name': 'HOSPICEMANE'}}]}, 'contentRating': {'label': 'EXPLICIT'}, 'duration': {'totalMilliseconds': 115210}, 'playability': {'playable': True}}}, {'data': {'uri': 'spotify:track:1cIfODqkOniMnWWl0EcRMc', 'id': '1cIfODqkOniMnWWl0EcRMc', 'name': 'Disassembly Required (Teaser Original Soundtrack)', 'albumOfTrack': {'uri': 'spotify:album:0BbeoTXqQv0qKki6CDcznI', 'name': 'Disassembly Required (Teaser Original Soundtrack)', 'coverArt': {'sources': [{'url': 'https://i.scdn.co/image/ab67616d00001e0226cf2e2751ee0aec2cf62479', 'width': 300, 'height': 300}, {'url': 'https://i.scdn.co/image/ab67616d0000485126cf2e2751ee0aec2cf62479', 'width': 64, 'height': 64}, {'url': 'https://i.scdn.co/image/ab67616d0000b27326cf2e2751ee0aec2cf62479', 'width': 640, 'height': 640}]}, 'id': '0BbeoTXqQv0qKki6CDcznI', 'sharingInfo': {'shareUrl': 'https://open.spotify.com/album/0BbeoTXqQv0qKki6CDcznI?si=2ZyJD0YuSKKtVVsbF4U76w'}}, 'artists': {'items': [{'uri': 'spotify:artist:0yXeAQirPMVzAlhxGvux1s', 'profile': {'name': 'Liam Vickers'}}]}, 'contentRating': {'label': 'NONE'}, 'duration': {'totalMilliseconds': 120000}, 'playability': {'playable': True}}}, {'data': {'uri': 'spotify:track:6D12YCcbjYJIDYU3kixJTE', 'id': '6D12YCcbjYJIDYU3kixJTE', 'name': 'REQUIEM', 'albumOfTrack': {'uri': 'spotify:album:7xq5hex2Zri3mIelZAWA15', 'name': 'REQUIEM', 'coverArt': {'sources': [{'url': 'https://i.scdn.co/image/ab67616d00001e02a9833bdee20a3fce33cf9958', 'width': 300, 'height': 300}, {'url': 'https://i.scdn.co/image/ab67616d00004851a9833bdee20a3fce33cf9958', 'width': 64, 'height': 64}, {'url': 'https://i.scdn.co/image/ab67616d0000b273a9833bdee20a3fce33cf9958', 'width': 640, 'height': 640}]}, 'id': '7xq5hex2Zri3mIelZAWA15', 'sharingInfo': {'shareUrl': 'https://open.spotify.com/album/7xq5hex2Zri3mIelZAWA15?si=cmiYEt8nQ-qNGQTKj2uOcw'}}, 'artists': {'items': [{'uri': 'spotify:artist:0jo4MaRxUP72Rou02fgmi7', 'profile': {'name': 'MVDNES'}}, {'uri': 'spotify:artist:4IBT5lUigLwZDQkeyxdgFp', 'profile': {'name': 'Dahako'}}]}, 'contentRating': {'label': 'NONE'}, 'duration': {'totalMilliseconds': 114000}, 'playability': {'playable': True}}}, {'data': {'uri': 'spotify:track:1xYiKitF9wBw1THoXHS5nT', 'id': '1xYiKitF9wBw1THoXHS5nT', 'name': 'REQUIRED', 'albumOfTrack': {'uri': 'spotify:album:2iDtE77T8wbiARPMD2dWpT', 'name': 'SACRIFICIALLY', 'coverArt': {'sources': [{'url': 'https://i.scdn.co/image/ab67616d00001e02cc33538d435c7b28a97ef1fd', 'width': 300, 'height': 300}, {'url': 'https://i.scdn.co/image/ab67616d00004851cc33538d435c7b28a97ef1fd', 'width': 64, 'height': 64}, {'url': 'https://i.scdn.co/image/ab67616d0000b273cc33538d435c7b28a97ef1fd', 'width': 640, 'height': 640}]}, 'id': '2iDtE77T8wbiARPMD2dWpT', 'sharingInfo': {'shareUrl': 'https://open.spotify.com/album/2iDtE77T8wbiARPMD2dWpT?si=cMOhcA4BSz2iaeC-aL3m3Q'}}, 'artists': {'items': [{'uri': 'spotify:artist:7lQxHeKGUgpquUrEabcBBC', 'profile': {'name': 'ANADALY'}}, {'uri': 'spotify:artist:0CxWoPrzqAHQBnqK3EGje6', 'profile': {'name': 'MASAMORA'}}, {'uri': 'spotify:artist:16rbrhoA0hn2HzAET8rz5L', 'profile': {'name': 'XDESTRAIGERX'}}]}, 'contentRating': {'label': 'NONE'}, 'duration': {'totalMilliseconds': 72851}, 'playability': {'playable': True}}}, {'data': {'uri': 'spotify:track:1ajf5SqxTcSxycZTdlwTN8', 'id': '1ajf5SqxTcSxycZTdlwTN8', 'name': 'REQUIEM OF SOULS', 'albumOfTrack': {'uri': 'spotify:album:5xuJKdYZKgAE1AoXgPiJOT', 'name': 'REQUIEM OF SOULS', 'coverArt': {'sources': [{'url': 'https://i.scdn.co/image/ab67616d00001e028da50804a921a6110d4c3b73', 'width': 300, 'height': 300}, {'url': 'https://i.scdn.co/image/ab67616d000048518da50804a921a6110d4c3b73', 'width': 64, 'height': 64}, {'url': 'https://i.scdn.co/image/ab67616d0000b2738da50804a921a6110d4c3b73', 'width': 640, 'height': 640}]}, 'id': '5xuJKdYZKgAE1AoXgPiJOT', 'sharingInfo': {'shareUrl': 'https://open.spotify.com/album/5xuJKdYZKgAE1AoXgPiJOT?si=uj-roEslR_iyFtLrv4CHsQ'}}, 'artists': {'items': [{'uri': 'spotify:artist:5hKGLu4Ik88FzWcTPhWNTN', 'profile': {'name': 'INTERWORLD'}}]}, 'contentRating': {'label': 'EXPLICIT'}, 'duration': {'totalMilliseconds': 93673}, 'playability': {'playable': True}}}, {'data': {'uri': 'spotify:track:3EPgGIwEdm77REkOPZMCFU', 'id': '3EPgGIwEdm77REkOPZMCFU', 'name': 'required', 'albumOfTrack': {'uri': 'spotify:album:4SaJ6in9B8ecRZQOlhVxn5', 'name': 'desktop', 'coverArt': {'sources': [{'url': 'https://i.scdn.co/image/ab67616d00001e02c076c5bc24e9d223717cf1aa', 'width': 300, 'height': 300}, {'url': 'https://i.scdn.co/image/ab67616d00004851c076c5bc24e9d223717cf1aa', 'width': 64, 'height': 64}, {'url': 'https://i.scdn.co/image/ab67616d0000b273c076c5bc24e9d223717cf1aa', 'width': 640, 'height': 640}]}, 'id': '4SaJ6in9B8ecRZQOlhVxn5', 'sharingInfo': {'shareUrl': 'https://open.spotify.com/album/4SaJ6in9B8ecRZQOlhVxn5?si=gi4uBv4TQVyRTfz6JXLtgw'}}, 'artists': {'items': [{'uri': 'spotify:artist:757oyVLql8wYqYzOEz7BIT', 'profile': {'name': 'dirtybirdie'}}]}, 'contentRating': {'label': 'NONE'}, 'duration': {'totalMilliseconds': 99750}, 'playability': {'playable': True}}}, {'data': {'uri': 'spotify:track:1M6m4ImAKIrdVEMyU6uz5a', 'id': '1M6m4ImAKIrdVEMyU6uz5a', 'name': 'Require', 'albumOfTrack': {'uri': 'spotify:album:4cf04M8XeGnBaEyfwmHG7Z', 'name': 'Require', 'coverArt': {'sources': [{'url': 'https://i.scdn.co/image/ab67616d00001e022adfc264db8341439efcc162', 'width': 300, 'height': 300}, {'url': 'https://i.scdn.co/image/ab67616d000048512adfc264db8341439efcc162', 'width': 64, 'height': 64}, {'url': 'https://i.scdn.co/image/ab67616d0000b2732adfc264db8341439efcc162', 'width': 640, 'height': 640}]}, 'id': '4cf04M8XeGnBaEyfwmHG7Z', 'sharingInfo': {'shareUrl': 'https://open.spotify.com/album/4cf04M8XeGnBaEyfwmHG7Z?si=x0AaR01CTA6vD1hUOgfGOg'}}, 'artists': {'items': [{'uri': 'spotify:artist:58asUtgzpItuWeDA2EvJ0F', 'profile': {'name': 'Rebella'}}]}, 'contentRating': {'label': 'NONE'}, 'duration': {'totalMilliseconds': 128757}, 'playability': {'playable': True}}}]}, 'users': {'totalCount': 1, 'items': [{'data': {'uri': 'spotify:user:jwbe7sw2exw0sswleoende557', 'id': 'jwbe7sw2exw0sswleoende557', 'displayName': 'no headphones required', 'username': 'jwbe7sw2exw0sswleoende557', 'image': {'smallImageUrl': 'https://i.scdn.co/image/ab67757000003b827365e3e82a12ae1089dd8fde', 'largeImageUrl': 'https://i.scdn.co/image/ab6775700000ee857365e3e82a12ae1089dd8fde'}}}]}}\n"
     ]
    }
   ],
   "source": [
    "import requests\n",
    "\n",
    "url = \"https://spotify23.p.rapidapi.com/search/\"\n",
    "\n",
    "querystring = {\"q\":\"<REQUIRED>\",\"type\":\"multi\",\"offset\":\"0\",\"limit\":\"10\",\"numberOfTopResults\":\"5\"}\n",
    "\n",
    "headers = {\n",
    "\t\"X-RapidAPI-Key\": \"56cf0d9c39msh90ab47fd56c02e6p1d2792jsn0f4dfaa46b90\",\n",
    "\t\"X-RapidAPI-Host\": \"spotify23.p.rapidapi.com\"\n",
    "}\n",
    "\n",
    "response = requests.get(url, headers=headers, params=querystring)\n",
    "\n",
    "print(response.json())"
   ]
  },
  {
   "attachments": {},
   "cell_type": "markdown",
   "metadata": {},
   "source": [
    "<script>\n",
    "    function getSongs(song) {\n",
    "        if (song == none) {\n",
    "            alert(\"Enter a city.\");\n",
    "            return;\n",
    "        }  \n",
    "        const resultContainer = document.getElementById(\"astronomy\");\n",
    "        resultContainer.innerHTML = \"\";\n",
    "        const url = \"https://weatherapi-com.p.rapidapi.com/astronomy.json?q=\" + city; \n",
    "        const headers = {\n",
    "            method: 'GET', \n",
    "            mode: 'cors', \n",
    "            cache: 'default', \n",
    "            credentials: 'omit', \n",
    "            headers: {\n",
    "                'Content-Type': 'application/json',\n",
    "                'X-RapidAPI-Key': '0b6ef107f7msh5606de624633ceap17521ejsn27566d20ff5b',\n",
    "                'X-RapidAPI-Host': 'weatherapi-com.p.rapidapi.com'\n",
    "            },\n",
    "        };\n",
    "        fetch(url, headers)\n",
    "        .then(response => {\n",
    "            if (response.status !== 200) {\n",
    "                const errorMsg = 'Database response error: ' + response.status;\n",
    "                console.log(errorMsg);\n",
    "                const tr = document.createElement(\"tr\");\n",
    "                const td = document.createElement(\"td\");\n",
    "                td.innerHTML = errorMsg;\n",
    "                tr.appendChild(td);\n",
    "                resultContainer.appendChild(tr);\n",
    "                return;\n",
    "            }\n",
    "            response.json().then(data => {\n",
    "                console.log(data);\n",
    "                console.log(data.location)\n",
    "                document.getElementById(\"name\").innerHTML = data.location.name;\n",
    "                document.getElementById(\"region\").innerHTML = data.location.region;\n",
    "                document.getElementById(\"country\").innerHTML = data.location.country;\n",
    "                document.getElementById(\"lat\").innerHTML = data.location.lat;\n",
    "                document.getElementById(\"lon\").innerHTML = data.location.lon;\n",
    "                document.getElementById(\"tz_id\").innerHTML = data.location.tz_id;\n",
    "                document.getElementById(\"localtime_epoch\").innerHTML = data.location.localtime_epoch;\n",
    "                document.getElementById(\"localtime\").innerHTML = data.location.localtime;\n",
    "                const tr = document.createElement(\"tr\");\n",
    "                const sunrise = document.createElement(\"td\");\n",
    "                const sunset = document.createElement(\"td\");\n",
    "                const moonrise = document.createElement(\"td\");\n",
    "                const moonset = document.createElement(\"td\");\n",
    "                const moon_phase = document.createElement(\"td\");\n",
    "                const moon_illumination = document.createElement(\"td\");\n",
    "                sunrise.innerHTML = data.astronomy.astro.sunrise;\n",
    "                sunset.innerHTML = data.astronomy.astro.sunset; \n",
    "                moonrise.innerHTML = data.astronomy.astro.moonrise; \n",
    "                moonset.innerHTML = data.astronomy.astro.moonset; \n",
    "                moon_phase.innerHTML = data.astronomy.astro.moon_phase; \n",
    "                moon_illumination.innerHTML = data.astronomy.astro.moon_illumination;\n",
    "                tr.appendChild(sunrise);\n",
    "                tr.appendChild(sunset);\n",
    "                tr.appendChild(moonrise);\n",
    "                tr.appendChild(moonset);\n",
    "                tr.appendChild(moon_phase);\n",
    "                tr.appendChild(moon_illumination);\n",
    "                resultContainer.appendChild(tr);\n",
    "            })\n",
    "        })\n",
    "    }\n",
    "\n",
    "\n",
    "</script>\n",
    "<body>\n",
    "<h1>API Information and Example</h1>\n",
    "\n",
    "<a href=\"#astronomybutton\"><button> Astronomy API </button></a>\n",
    "<div id=\"astronomybutton\">\n",
    "<label for=\"city\">Enter city name:</label>\n",
    "<input type=\"text\" id=\"city\" name=\"city\">&nbsp;&nbsp;<input type=\"button\" value=\"Get Location & Astronomy\" onclick=\"testButtonClick(document.getElementById('city').value)\">\n",
    "<br><br>\n",
    "<table>\n",
    "  <thead>Location Details\n",
    "  <tr>\n",
    "    <th>City</th>\n",
    "    <th>Region</th>\n",
    "    <th>Country</th>\n",
    "    <th>Latitude</th>\n",
    "    <th>Longitude</th>\n",
    "    <th>Time Zone</th>\n",
    "    <th>Local Time Epoch</th>\n",
    "    <th>Local Date and Time</th>\n",
    "  </tr>\n",
    "  </thead>\n",
    "  <tbody>\n",
    "    <td id=\"name\"></td>\n",
    "    <td id=\"region\"></td>\n",
    "    <td id=\"country\"></td>\n",
    "    <td id=\"lat\"></td>\n",
    "    <td id=\"lon\"></td>\n",
    "    <td id=\"tz_id\"></td>\n",
    "    <td id=\"localtime_epoch\"></td>\n",
    "    <td id=\"localtime\"></td>\n",
    "  </tbody>\n",
    "</table>\n",
    "\n",
    "\n",
    "\n",
    "\n",
    "\n",
    "\n",
    "<table>\n",
    "    <thead>Astronomy Details\n",
    "    <tr>\n",
    "        <th>Sunrise</th>\n",
    "        <th>Sunset</th>\n",
    "        <th>Moonrise</th>\n",
    "        <th>Moonset</th>\n",
    "        <th>Moon Phase</th>\n",
    "        <th>Moon Illumination</th>\n",
    "    </tr>\n",
    "    </thead>\n",
    "    <tbody id=\"astronomy\">\n",
    "    </tbody>\n",
    "</table>    "
   ]
  }
 ],
 "metadata": {
  "kernelspec": {
   "display_name": "base",
   "language": "python",
   "name": "python3"
  },
  "language_info": {
   "codemirror_mode": {
    "name": "ipython",
    "version": 3
   },
   "file_extension": ".py",
   "mimetype": "text/x-python",
   "name": "python",
   "nbconvert_exporter": "python",
   "pygments_lexer": "ipython3",
   "version": "3.9.12"
  }
 },
 "nbformat": 4,
 "nbformat_minor": 2
}
