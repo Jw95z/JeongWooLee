{
 "cells": [
  {
   "attachments": {},
   "cell_type": "markdown",
   "metadata": {},
   "source": [
    "# Section 3.16\n",
    "- toc: true\n",
    "- badges: true\n",
    "- categories: [Hacks_from_other_lesson]\n",
    "- tags: [Lesson_Project]"
   ]
  },
  {
   "attachments": {},
   "cell_type": "markdown",
   "metadata": {},
   "source": [
    "## Vocab\n",
    "- Simulation: an imitation of a situation or process\n",
    "- Ex)\n",
    "    - testing safety of a car\n",
    "    - games\n",
    "    - testing the efficiency of a parking lot\n",
    "    - testing a new train route\n",
    "- Experiment: procedure undertaken to make a discovery, test a hypothesis, or demonstrate a known fact"
   ]
  },
  {
   "attachments": {},
   "cell_type": "markdown",
   "metadata": {},
   "source": [
    "### Example\n",
    "- For example, suggesting to build snowman can be made by simulation. "
   ]
  },
  {
   "cell_type": "code",
   "execution_count": 2,
   "metadata": {},
   "outputs": [
    {
     "name": "stdout",
     "output_type": "stream",
     "text": [
      "Do you want to build the snowman?:\n",
      "Go Away\n"
     ]
    }
   ],
   "source": [
    "import time\n",
    "Elsa = False\n",
    "print(\"Do you want to build the snowman?:\")\n",
    "time.sleep(2)\n",
    "if Elsa == True:\n",
    "    b = 'Yes'\n",
    "elif Elsa == False:\n",
    "    b = \"Go Away\"\n",
    "print(b)\n",
    "\n"
   ]
  },
  {
   "attachments": {},
   "cell_type": "markdown",
   "metadata": {},
   "source": [
    "### Experiment\n",
    "![anna](https://media.tenor.com/6eNOkCEMXV8AAAAM/frozen-anna.gif)"
   ]
  },
  {
   "attachments": {},
   "cell_type": "markdown",
   "metadata": {},
   "source": [
    "![goAway](https://y.yarn.co/395938d5-2209-4ada-abb0-af401900d45d_text.gif)"
   ]
  },
  {
   "attachments": {},
   "cell_type": "markdown",
   "metadata": {},
   "source": [
    "## Notes\n",
    "- Advantage of simulation\n",
    "    - Can be safer\n",
    "    - More cost-effective\n",
    "    - More efficient \n",
    "    - More data in less time\n",
    "- Disadvantage of simulation\n",
    "    - Not as accurate as experiments\n",
    "    - outside factors not included (ex: in rolling dice simulation gravity and air resistance)\n",
    "- When do you not use a simulation?\n",
    "    - when a situation already has set results/data (won't change) \n",
    "    - examples: a score in a game, most purchased food, average yearly wage"
   ]
  },
  {
   "attachments": {},
   "cell_type": "markdown",
   "metadata": {},
   "source": [
    "## Hack 1\n",
    "### writing example of simulation\n",
    "The simulation I am trying to write is Russian Roulette. After putting only one bullet into a six-shot revolver, turning the cylinder, and turning each other, they put the gun to their head and pull the trigger. If there are 1, 2, 3, or 6 factors of 6 playing the game, the odds of dying are the same. With any other number, the number of 6 attempts cannot be divided evenly, so there will inevitably be a person with a high probability of dying. If the person in front succeeds, the probability that the person behind will die increases, but since the probability of the person in front dying first and the probability of not dying because I shoot are combined, the probability of dying at the start of the game is fair. If no one has died by the 5th, the 6th chamber will of course contain bullets. There is also a rule to rotate the cylinder for each shot. In this case, regardless of the number of people, there is an equal 1/6 chance of death each turn, but if you can run away without shooting when all opponents are dead, the later you shoot, the more advantageous it is.\n",
    "- Guided question\n",
    "    - What make it simulation? The random value of the bullet can make simulation. If the bullet was in the first round, the first person will die, but if the bullet is in the last round, the last person will die. \n",
    "    - What are it’s advantages and disadvantages? Running this simulation gives you an idea of ​​what might happen. However, the disadvantages of this simulation is that it's not useful in your life. Even if the number of cases is known, there is no way to use it, so it is very useless in real life.\n",
    "    - In your opinion, would an experiment be better in this situation? I think it is better to be an experiment, because we have to gather multiple people for doing this game.\n",
    "\n",
    "\n",
    "![Russian](https://encrypted-tbn0.gstatic.com/images?q=tbn:ANd9GcQQrRJYvDMDqlTHdMnT5ssmoYBCK3KZppTJXA&usqp=CAU)"
   ]
  },
  {
   "cell_type": "code",
   "execution_count": 4,
   "metadata": {},
   "outputs": [
    {
     "name": "stdout",
     "output_type": "stream",
     "text": [
      "alive\n",
      "death\n"
     ]
    }
   ],
   "source": [
    "import random\n",
    "def enter():\n",
    "    while True:\n",
    "        n = input(\"shoot\")\n",
    "        if n == \"\":\n",
    "            break\n",
    "if __name__ == \"__main__\":\n",
    "    bullet = [\"alive\", \"alive\", \"alive\", \"alive\", \"alive\", \"death\"]\n",
    "    i = 5\n",
    "    while True:\n",
    "        idx_bullet = random.randint(0, i)\n",
    "        enter()\n",
    "        a = bullet.pop(idx_bullet)\n",
    "        print(a)\n",
    "        if a == \"death\":\n",
    "            break\n",
    "        i = i - 1"
   ]
  },
  {
   "cell_type": "markdown",
   "metadata": {},
   "source": [
    "## Hack 2\n",
    "### Quiz"
   ]
  },
  {
   "cell_type": "code",
   "execution_count": 1,
   "metadata": {},
   "outputs": [
    {
     "name": "stdout",
     "output_type": "stream",
     "text": [
      "Welcome to the Simulations Quiz!\n",
      "\n",
      " True or False: Simulations will always have the same result. \n",
      " A: True, \n",
      " B: False\n",
      "You said:  B\n",
      "Correct!\n",
      "\n",
      " True or False: A simulation has results that are more accurate than an experiment \n",
      " A: True, \n",
      " B: False\n",
      "You said:  B\n",
      "Correct!\n",
      "\n",
      " True or False: A simulation can model real world events that are not practical for experiments \n",
      " A: True, \n",
      " B: False\n",
      "You said:  A\n",
      "Correct!\n",
      "\n",
      " Which one of these is FALSE regarding simulations \n",
      " A: Reduces Costs, \n",
      " B: Is safer than real life experiments, \n",
      " C: More Efficient, \n",
      " D: More accurate than real life experiments\n",
      "You said:  D\n",
      "Correct!\n",
      "\n",
      " Which of the following scenarios would be the LEAST beneficial to have as a simulation \n",
      " A: A retail company wants to identify the item which sold the most on their website, \n",
      " B: A restaurant wants to determine if the use of robots will increase efficiency, \n",
      " C: An insurance company wants to study the impact of rain on car accidents, \n",
      " D: A sports car company wants to study design changes to their new bike design \n",
      "You said:  A\n",
      "Correct!\n",
      "\n",
      " Which of the following is better to do as a simulation than as a calculation \n",
      " A: Keeping score at a basketball game, \n",
      " B: Keeping track of how many games a person has won, \n",
      " C: Determining the average grade for a group of tests, \n",
      " D: Studying the impact of carbon emissions on the environment\n",
      "You said:  D\n",
      "Correct!\n",
      "You scored:  6 /6\n"
     ]
    }
   ],
   "source": [
    "questions_number = 6\n",
    "answers_correct = 0\n",
    "questions = [\n",
    "    \"True or False: Simulations will always have the same result. \\n A: True, \\n B: False\",\n",
    "    \"True or False: A simulation has results that are more accurate than an experiment \\n A: True, \\n B: False\",\n",
    "    \"True or False: A simulation can model real world events that are not practical for experiments \\n A: True, \\n B: False\",\n",
    "    \"Which one of these is FALSE regarding simulations \\n A: Reduces Costs, \\n B: Is safer than real life experiments, \\n C: More Efficient, \\n D: More accurate than real life experiments\",\n",
    "    \"Which of the following scenarios would be the LEAST beneficial to have as a simulation \\n A: A retail company wants to identify the item which sold the most on their website, \\n B: A restaurant wants to determine if the use of robots will increase efficiency, \\n C: An insurance company wants to study the impact of rain on car accidents, \\n D: A sports car company wants to study design changes to their new bike design \",\n",
    "    \"Which of the following is better to do as a simulation than as a calculation \\n A: Keeping score at a basketball game, \\n B: Keeping track of how many games a person has won, \\n C: Determining the average grade for a group of tests, \\n D: Studying the impact of carbon emissions on the environment\"\n",
    "]\n",
    "question_answers = [\n",
    "    \"B\",\n",
    "    \"B\",\n",
    "    \"A\",\n",
    "    \"D\",\n",
    "    \"A\",\n",
    "    \"D\"\n",
    "]\n",
    "\n",
    "print(\"Welcome to the Simulations Quiz!\")\n",
    "\n",
    "def ask_question (question, answer):\n",
    "    print(\"\\n\", question)\n",
    "    user_answer = input(question)\n",
    "    print(\"You said: \", user_answer)\n",
    "\n",
    "    if user_answer == answer:\n",
    "        print(\"Correct!\")\n",
    "        global answers_correct\n",
    "        answers_correct = answers_correct + 1\n",
    "    else:\n",
    "        print(\"You are incorrect\")\n",
    "    \n",
    "for num in range(questions_number):\n",
    "    ask_question(questions[num], question_answers[num])\n",
    "\n",
    "print(\"You scored: \", answers_correct, \"/6\")"
   ]
  },
  {
   "attachments": {},
   "cell_type": "markdown",
   "metadata": {},
   "source": [
    "## Hack 3\n",
    "### Rolling Dices\n",
    "- pick a random number between 1 and 6. It is because the dice has six parts. If it is 14 - sided dice, you have to pick number in 1 to 14. \n",
    "- After picking the two numbers for a and b, compare a and b. There will be three results: a is bigger than b, a is equal to b, and a is smaller than b. \n",
    "- First, if a is bigger than b, print the word about the winning of A. Second, if a is equal to b, there will no winner in this game, so it has to be printed \"draw\". Third, if a is smaller than b, the b becomes a winner. Therefore, the end result will be \"B won\"."
   ]
  },
  {
   "cell_type": "code",
   "execution_count": 4,
   "metadata": {},
   "outputs": [
    {
     "name": "stdout",
     "output_type": "stream",
     "text": [
      "A's dice is 2. \n",
      "B's dice is 4. \n",
      "B won\n"
     ]
    }
   ],
   "source": [
    "import random\n",
    "\n",
    "start = input('Press Enter to Roll the dices : ')\n",
    "\n",
    "a = random.randrange(1,6)\n",
    "b = random.randrange(1,6)\n",
    "\n",
    "print(f\"A's dice is {a}. \")\n",
    "print(f\"B's dice is {b}. \")\n",
    "\n",
    "if a > b:\n",
    "    print('A won')\n",
    "    \n",
    "elif a == b:\n",
    "    print('draw')\n",
    "    \n",
    "else:\n",
    "    print('B won')"
   ]
  },
  {
   "attachments": {},
   "cell_type": "markdown",
   "metadata": {},
   "source": [
    "#### Guided Question\n",
    "- What makes it a simulation?\n",
    "    - We can say this is a simulation because we're not rolling the dices in real world and just writing the codes in our computer. \n",
    "- what are it’s advantages and disadvantages? \n",
    "    - Advantages we can get is that we don't have to prepare some dices to roll. We can just make sure to choose the random value from the computer. Disadvantages is that it is more easy to simulate in real world, but in computer world, we have to write the letters instead of rolling dices in the real world. It can be hard for someone who has slow typing skill.\n",
    "- In your opinion, would an experiment be better in this situation?\n",
    "    - I think rolling dice in real world is much better because it caused outside factors."
   ]
  },
  {
   "attachments": {},
   "cell_type": "markdown",
   "metadata": {},
   "source": [
    "## Hack 4\n",
    "### Making game of rolling dice\n",
    "- This is the code of game\n",
    "    - At first, two dices are given\n",
    "    - three people and one dealer are playing this game.\n",
    "    - Game starts with the order of User 1 to User2 and to User 3\n",
    "    - Player can only bet maximum 10000 dollars\n",
    "    - Players have to fight with the dealer and person who got bigger numbers of two dices will win\n",
    "    - when it happens to draw, the user will win\n",
    "    - If dealer wins the users lose their money, but if users win, they will get money.\n",
    "    - The conditionals to make game over is that two users have to lose all of their money. \n",
    "    - The only person who left in the end will be the winner."
   ]
  },
  {
   "cell_type": "code",
   "execution_count": 3,
   "metadata": {},
   "outputs": [
    {
     "name": "stdout",
     "output_type": "stream",
     "text": [
      "dealer(4, 5) win, User1(6, 1) lose, User1's money=5000\n",
      "\n",
      "dealer(2, 5) win, User2(3, 1) lose, User2's money=6000\n",
      "\n",
      "User3(3, 6) win, dealer(2, 4) lose, User3's money=13000\n",
      "\n",
      "User1(3, 3) win(x2), dealer(3, 4) lose, User1's money=10000\n",
      "\n",
      "User2(3, 2) win, dealer(3, 1) lose, User2's money=9000\n",
      "\n",
      "dealer(6, 2) win, User3(2, 3) lose, User3's money=9000\n",
      "\n",
      "User1(1, 4) win, dealer(1, 4) lose, User1's money=20000\n",
      "\n",
      "User2(1, 1) win(x2), dealer(5, 6) lose, User2's money=27000\n",
      "\n",
      "dealer(3, 5) win, User3(1, 3) lose, User3's money=0\n",
      "\n",
      "User1(2, 2) win(x2), dealer(5, 3) lose, User1's money=40000\n",
      "\n",
      "User2(6, 1) win, dealer(5, 1) lose, User2's money=37000\n",
      "\n",
      "dealer(3, 6) win, User1(4, 2) lose, User1's money=30000\n",
      "\n",
      "User2(2, 4) win, dealer(1, 2) lose, User2's money=47000\n",
      "\n",
      "dealer(1, 1) win(x2), User1(4, 1) lose, User1's money=10000\n",
      "\n",
      "dealer(2, 6) win, User2(1, 2) lose, User2's money=37000\n",
      "\n",
      "dealer(1, 1) win(x2), User1(4, 2) lose, User1's money=-10000\n",
      "\n",
      "Finally User2 win, money=37000\n"
     ]
    }
   ],
   "source": [
    "from random import randint\n",
    "\n",
    "SEEDMAX = 100000\n",
    "BETMAX = 10000\n",
    "\n",
    "\n",
    "def seed(name):\n",
    "    s = int(input(f\"{name} seed(1~{SEEDMAX}): \"))\n",
    "    return s if 1<=s<=SEEDMAX else seed(name)\n",
    "\n",
    "\n",
    "def bet(usr):\n",
    "    lmt = min(usr['money'], BETMAX)\n",
    "    b = int(input(f\"{usr['name']} bet(1~{lmt}): \"))\n",
    "    return b if 1<=b<=lmt else bet(usr)\n",
    "\n",
    "\n",
    "def roll():\n",
    "    return randint(1, 6), randint(1, 6)\n",
    "\n",
    "\n",
    "def dbl(d):\n",
    "    return d[0] == d[1]\n",
    "\n",
    "\n",
    "def score(d):\n",
    "    return d[0] + d[1] + dbl(d) * 10\n",
    "\n",
    "\n",
    "def play(usr, bet):\n",
    "    rd, ru = roll(), roll()\n",
    "    if score(ru) >= score(rd):\n",
    "        winner, loser = (usr['name'], ru), ('dealer', rd)\n",
    "    else:\n",
    "        winner, loser = ('dealer', rd), (usr['name'], ru)\n",
    "\n",
    "    return calc(usr, bet, winner, loser)\n",
    "\n",
    "\n",
    "def calc(usr, bet, winner, loser):\n",
    "    doubled = dbl(winner[1]) and not dbl(loser[1])\n",
    "    stake =  bet * (1 + doubled)\n",
    "    if usr['name'] in winner:\n",
    "        usr['money'] += stake\n",
    "    else:\n",
    "        usr['money'] -= stake\n",
    "\n",
    "    print(\"{}{} win{}, {}{} lose, {}'s money={}\".format(*winner, '(x2)'*doubled, *loser, *usr.values()))\n",
    "    return usr['money'] > 0\n",
    "\n",
    "\n",
    "usrs = [{'name':n, 'money':seed(n)} for n in ('User1', 'User2', 'User3')]\n",
    "while len(usrs) > 1:\n",
    "    usr = usrs.pop(0)\n",
    "    usrs += [usr] if play(usr, bet(usr)) else []\n",
    "    print()\n",
    "\n",
    "last_usr = max(usrs, key=lambda u: u['money'])\n",
    "print('Finally {} win, money={}'.format(*last_usr.values()))"
   ]
  },
  {
   "attachments": {},
   "cell_type": "markdown",
   "metadata": {},
   "source": [
    "#### Guided Question\n",
    "- What makes it a simulation?    \n",
    "    - This is the simulation of Gambling. People bet their money. Sometimes they lose it, but sometimes they earn more money. \n",
    "- What are it’s advantages and disadvantages? \n",
    "    - The advantages of this simulation is that we can enjoy gambling in our houses. It can make us feel excited when you're boring. The disadvantages of this simulation is that it's not perfect. It's just a simple game, so it will be not useful soon. And the excitement of gambling comes from the real money. Thrills and hope in the gambling makes people fun.\n",
    "- In your opinion, would an experiment be better in this situation?\n",
    "    - I think it is not good to be in experiment. We don't be happy when the fate money increased. We want to get money by winning in the gambling.\n"
   ]
  },
  {
   "attachments": {},
   "cell_type": "markdown",
   "metadata": {},
   "source": [
    "## Extra things\n",
    "- I did two of it. \n",
    "### First one is Bingo\n",
    "#### Description\n",
    "- This is the code of bingo game.\n",
    "- It is a same rule with the normal bingo.\n",
    "- we can choose the dimension. "
   ]
  },
  {
   "cell_type": "code",
   "execution_count": 6,
   "metadata": {},
   "outputs": [
    {
     "name": "stdout",
     "output_type": "stream",
     "text": [
      " _ _ _\n",
      "|_|_|_|\n",
      "|_|_|_|\n",
      "|_|_|_|\n",
      "<Play no.1>\n",
      "Currently player: 1\n",
      " _ _ _\n",
      "|O|_|_|\n",
      "|_|_|_|\n",
      "|_|_|_|\n",
      "<Play no.2>\n",
      "Currently player: 2\n",
      " _ _ _\n",
      "|O|_|_|\n",
      "|_|X|_|\n",
      "|_|_|_|\n",
      "<Play no.3>\n",
      "Currently player: 1\n",
      " _ _ _\n",
      "|O|_|O|\n",
      "|_|X|_|\n",
      "|_|_|_|\n",
      "<Play no.4>\n",
      "Currently player: 2\n",
      " _ _ _\n",
      "|O|_|O|\n",
      "|_|X|_|\n",
      "|_|_|X|\n",
      "<Play no.5>\n",
      "Currently player: 1\n",
      " _ _ _\n",
      "|O|O|O|\n",
      "|_|X|_|\n",
      "|_|_|X|\n",
      "Player 1 wins!\n",
      "Finish\n"
     ]
    }
   ],
   "source": [
    "def board(bingo, dimension):\n",
    "    for i in range(dimension):\n",
    "        print(' _', end = '')\n",
    "    for i in range(dimension):\n",
    "        print()\n",
    "        print('|', end = '')\n",
    "        for j in range(dimension):\n",
    "            print(bingo[i][j] + '|', end = '')\n",
    "    print()\n",
    "\n",
    "\n",
    "while True:\n",
    "    dimension = int(input(\"Please input the size of the game board(more than 2): \"))\n",
    "    if dimension <= 2 :\n",
    "        print('[Error] try again')\n",
    "    else:\n",
    "        break\n",
    "\n",
    "bingo = [['_']*dimension for i in range(dimension)]\n",
    "board(bingo, dimension)\n",
    "\n",
    "turn = 1\n",
    "play_count = 0\n",
    "while True:\n",
    "    print('<Play no.{}>'.format(play_count+1))\n",
    "    if turn == 1:\n",
    "        print('Currently player: 1')\n",
    "        row_1 = int(input('Which row?(start with 1)'))\n",
    "        column_1 = int(input('Which column?(start with 1)'))\n",
    "\n",
    "        if bingo[row_1-1][column_1-1] != '_':\n",
    "            print('Space is not empty. Try again')\n",
    "            turn = 1\n",
    "            continue\n",
    "        else:\n",
    "            bingo[row_1-1][column_1-1] = 'O'\n",
    "            board(bingo,dimension)\n",
    "            turn = 2\n",
    "\n",
    "    elif turn == 2:\n",
    "        print('Currently player: 2')\n",
    "        row_2 = int(input('Which row?(start with 1) '))\n",
    "        column_2 = int(input('Which column?(start with 1) '))\n",
    "\n",
    "        if bingo[row_2-1][column_2-1] != '_':\n",
    "            print('Space is not empty. Try again')\n",
    "            turn = 2\n",
    "            continue\n",
    "        else:\n",
    "            bingo[row_2-1][column_2-1] = 'X'\n",
    "            board(bingo,dimension)\n",
    "            turn = 1\n",
    "\n",
    "    check_diag = []\n",
    "    check_reverse = []\n",
    "    check_row = []\n",
    "    check_column =[]\n",
    "            \n",
    "    for i in range(dimension):\n",
    "        check_diag.append(bingo[i][i])\n",
    "        check_reverse.append(bingo[dimension-i-1][i])\n",
    "        \n",
    "\n",
    "        for j in range(dimension):\n",
    "            check_row.append(bingo[i][j])\n",
    "            check_column.append(bingo[j][i])\n",
    "        \n",
    "        if set(check_row) == {'O'}:\n",
    "            print('Player 1 wins!')\n",
    "            turn = 0\n",
    "        elif set(check_row) == {'X'}:\n",
    "            print('Player 2 wins!')\n",
    "            turn = 0\n",
    "\n",
    "        check_row = []\n",
    "\n",
    "        if set(check_column) == {'O'}:\n",
    "            print('Player 1 wins!')\n",
    "            turn = 0\n",
    "        elif set(check_column) == {'X'}:\n",
    "            print('Player 2 wins!')\n",
    "            turn = 0\n",
    "        check_column = []\n",
    "\n",
    "    check_diag = set(check_diag)\n",
    "    check_reverse = set(check_reverse)\n",
    "\n",
    "    if check_diag == {'O'} or check_reverse == {'O'}:\n",
    "        print('Player 1 wins!')\n",
    "        turn = 0\n",
    "        \n",
    "    elif check_diag == {'X'} or check_reverse == {'X'}:\n",
    "        print('Player 2 wins!')\n",
    "        turn = 0\n",
    "\n",
    "    play_count += 1\n",
    "\n",
    "\n",
    "    if turn == 0 or play_count == dimension**2:\n",
    "        print('Finish')\n",
    "        break"
   ]
  },
  {
   "attachments": {},
   "cell_type": "markdown",
   "metadata": {},
   "source": [
    "#### Guided Question\n",
    "- What makes it a simulation?\n",
    "    - It might be seemed to simulation because we are not doing Bingo on paper instead of writing many codes. \n",
    "- What are it’s advantages and disadvantages? \n",
    "    - Bingo can be played without paper. And disadvantages is that we can only play bingo with two people.\n",
    "- In your opinion, would an experiment be better in this situation?\n",
    "    - I think it is not a good way to be experiment. It will be funnier when we play bingo in the real life and 3D. "
   ]
  },
  {
   "attachments": {},
   "cell_type": "markdown",
   "metadata": {},
   "source": [
    "### Second one is Rock, Scissor, Paper\n",
    "#### Description\n",
    "- same rule with rock scissor paper\n",
    "- get the value by input\n",
    "- the value must be rock or scissor or paper\n",
    "- compare with the computer\n",
    "- if player wins, print \"player win\"\n",
    "- if computer wins, print \"computer win\"\n",
    "- if they are small, print \"draw\""
   ]
  },
  {
   "cell_type": "code",
   "execution_count": 5,
   "metadata": {},
   "outputs": [
    {
     "name": "stdout",
     "output_type": "stream",
     "text": [
      "\n",
      "-------------------------------------------\n",
      "player 1 ( rock vs scissor ) com\n",
      "win.\n",
      "-------------------------------------------\n",
      "\n"
     ]
    }
   ],
   "source": [
    "import random\n",
    "\n",
    "sel = ['scissor', 'rock', 'paper']\n",
    "result = {0: 'win.', 1: 'lose.', 2: 'draw.'}\n",
    "\n",
    "def checkWin(user, com):\n",
    "\n",
    "    if not user in sel:\n",
    "       print('you wrote wrong. type it again')\n",
    "       return False\n",
    "\n",
    "    print(f'player 1 ( {user} vs {com} ) com')\n",
    "    if user == com:\n",
    "        state = 2\n",
    "    elif user == 'scissor' and com == 'rock':\n",
    "        state = 1\n",
    "    elif user == 'rock' and com == 'paper':\n",
    "        state = 1\n",
    "    elif user == 'paper' and com == 'scissor':\n",
    "        state = 1\n",
    "    else:\n",
    "        state = 0\n",
    "    print(result[state])\n",
    "    return True\n",
    "\n",
    "\n",
    "print('\\n-------------------------------------------')\n",
    "while True:\n",
    "    user = input(\"rock, scissor, paper : \")\n",
    "    com = sel[random.randint(0, 2)]\n",
    "    if checkWin(user, com):\n",
    "        break\n",
    "print('-------------------------------------------\\n')"
   ]
  },
  {
   "attachments": {},
   "cell_type": "markdown",
   "metadata": {},
   "source": [
    "#### Guided question\n",
    "- What makes it a simulation?\n",
    "    - Doing rock scissor paper with not using hands can be the simulation. \n",
    "- What are it’s advantages and disadvantages? \n",
    "    - Advantage is that we can do it alone. Sometimes we are boring with something, playing these game will help you. It is not efficient because we can only do with computer\n",
    "- In your opinion, would an experiment be better in this situation?\n",
    "    - It will be beneficial when we do this with your friends, because rock scissor paper is a game which is played with many people."
   ]
  },
  {
   "attachments": {},
   "cell_type": "markdown",
   "metadata": {},
   "source": [
    "## Please Give me Perfect Score"
   ]
  }
 ],
 "metadata": {
  "kernelspec": {
   "display_name": "Python 3.9.12 ('base')",
   "language": "python",
   "name": "python3"
  },
  "language_info": {
   "codemirror_mode": {
    "name": "ipython",
    "version": 3
   },
   "file_extension": ".py",
   "mimetype": "text/x-python",
   "name": "python",
   "nbconvert_exporter": "python",
   "pygments_lexer": "ipython3",
   "version": "3.9.12"
  },
  "orig_nbformat": 4,
  "vscode": {
   "interpreter": {
    "hash": "c7f0eff47e976ffd278432ca58e86309fa0a3c18b8fa2d8345190506f8a63e10"
   }
  }
 },
 "nbformat": 4,
 "nbformat_minor": 2
}
