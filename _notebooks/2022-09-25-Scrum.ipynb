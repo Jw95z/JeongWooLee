{
 "cells": [
  {
   "cell_type": "markdown",
   "metadata": {},
   "source": [
    "# Agile Methodology Diagram\n",
    "- toc: true\n",
    "- badges: true\n",
    "- comments: true\n",
    "- categories: [markdown]"
   ]
  },
  {
   "cell_type": "markdown",
   "metadata": {},
   "source": [
    "![nn](Screen 2022-09-25 222844.png)\n",
    "./image/Screen 2022-09-25 222844.png\n",
    "## PBL vocabulary\n",
    "- Agile Methodology: a way to manage a project by breaking it up into several phases\n",
    "- Scrum board: a tool that helps Teams make Sprint Backlog items visible\n",
    "- Sprint: period of time that Team uses to plan work and execute work\n",
    "- DevOps: combination of cultural philosophies, practices, and tools that increases an team’s ability to deliver applications and services at high velocity\n",
    "- frontend developer: who creates websites and applications using web languages such as HTML, CSS, and JavaScript that allow users to access and interact with the site or app\n",
    "- backend developer: who builds and maintains the technology that powers those components which, together, enable the user-facing side of the website to even exist in the first place\n",
    "- \n",
    "\n",
    "## 12 principles\n",
    "1. Our highest priority is to satisfy the customer through early and continuous delivery of valuable software.\n",
    "2. Welcome changing requirements, even late in development. Agile processes harness change for the customer’s competitive advantage.\n",
    "3. Deliver working software frequently, from a couple of weeks to a couple of months, with a preference to the shorter timescale.\n",
    "4. Business people and developers must work together daily throughout the project.\n",
    "5. Build projects around motivated individuals. Give them the environment and support they need, and trust them to get the job done.\n",
    "6. The most efficient and effective method of conveying information to and within a development team is face-to-face conversation.\n",
    "7. Working software is the primary measure of progress.\n",
    "8. "
   ]
  }
 ],
 "metadata": {
  "kernelspec": {
   "display_name": "Python 3.9.12 ('base')",
   "language": "python",
   "name": "python3"
  },
  "language_info": {
   "name": "python",
   "version": "3.9.12"
  },
  "orig_nbformat": 4,
  "vscode": {
   "interpreter": {
    "hash": "c7f0eff47e976ffd278432ca58e86309fa0a3c18b8fa2d8345190506f8a63e10"
   }
  }
 },
 "nbformat": 4,
 "nbformat_minor": 2
}
