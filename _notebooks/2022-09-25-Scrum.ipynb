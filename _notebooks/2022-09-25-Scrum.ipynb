{
 "cells": [
  {
   "cell_type": "markdown",
   "metadata": {},
   "source": [
    "# Agile Methodology Diagram\n",
    "- toc: true\n",
    "- badges: true\n",
    "- comments: true\n",
    "- categories: [markdown]"
   ]
  },
  {
   "cell_type": "markdown",
   "metadata": {},
   "source": [
    "\n",
    "<img src=\"Agile Methodology Diagram2.png\" width=654 height=805 >\n",
    "\n",
    "## <font color='pink'>PBL vocabulary</font>\n",
    "- Agile Methodology: a way to manage a project by breaking it up into several phases\n",
    "- Scrum board: a tool that helps Teams make Sprint Backlog items visible\n",
    "- Sprint: period of time that Team uses to plan work and execute work\n",
    "- DevOps: combination of cultural philosophies, practices, and tools that increases an team’s ability to deliver applications and services at high velocity\n",
    "- frontend developer: who creates websites and applications using web languages such as HTML, CSS, and JavaScript that allow users to access and interact with the site or app\n",
    "- backend developer: who builds and maintains the technology that powers those components which, together, enable the user-facing side of the website to even exist in the first place\n",
    "\n",
    "## <font color='pink'>7 Important Transferable Skills</font>\n",
    "\n",
    "1. Creativity: Creativity in education and workplace, in many cases, presents itself in terms of how you approach tasks and solve problems\n",
    "- Conceptualize problems and solutions\n",
    "- Display foresight\n",
    "- Make connections\n",
    "- Make intelligent inferences\n",
    "- Synthesize ideas and data\n",
    "\n",
    "2. Critical thinking: critical thinking skills enable the discovery of deficiencies that could cause less than optimal results\n",
    "- take a step back and look at things more critically\n",
    "- head off problems before critical thinkers arise\n",
    "\n",
    "3. Communication: Effective communication is the crux of everything you do.\n",
    "- Verbal skills\n",
    "- Listening skills\n",
    "- Writing skills\n",
    "- Technological communication skills\n",
    "\n",
    "4. Collaboration through Leadership: Leadership skills generally encompass communication, problem-solving and managing conflict, relationship building and being able to get people on your team on board with a mission or project\n",
    "- Delegating responsibility\n",
    "- Demonstrating effective time management\n",
    "- Initiating new ideas\n",
    "- Major decision-making\n",
    "- Managing conflict\n",
    "- Managing groups\n",
    "- Multitasking\n",
    "- Teaching and mentoring\n",
    "\n",
    "5. Collaboration: Teamwork — a sense of community — elevates spirits and improves productivity\n",
    "- Accepting responsibility\n",
    "- Making and implementing decisions\n",
    "- Managing time wisely\n",
    "- Meeting both short- and long-term goals\n",
    "- Organizing\n",
    "- Setting and meeting deadlines\n",
    "\n",
    "6. Research: Research is a key part of the lifecycle: changing plans, fluctuating results, and roadblocks require research before anyone can take action\n",
    "- Analyzing information\n",
    "- Brainstorming solutions\n",
    "- Delineating needs and requirements\n",
    "- Extracting information from data\n",
    "- Gathering information\n",
    "- Forecasting possible roadblocks\n",
    "- Setting goals\n",
    "- Solving problems\n",
    "\n",
    "7. Technical: Try to stay current with the many technical advancements on your project\n",
    "- Being easy to work with\n",
    "- Quick to learn\n",
    "- Glad to learn\n",
    "- Failing and always willing to try new things\n",
    "- Willing to open new doors in case of a drastic oversight\n",
    "\n",
    "## 12 principles\n",
    "1. Our highest priority is to satisfy the customer through early and continuous delivery of valuable software.\n",
    "2. Welcome changing requirements, even late in development. Agile processes harness change for the customer’s competitive advantage.\n",
    "3. Deliver working software frequently, from a couple of weeks to a couple of months, with a preference to the shorter timescale.\n",
    "4. Business people and developers must work together daily throughout the project.\n",
    "5. Build projects around motivated individuals. Give them the environment and support they need, and trust them to get the job done.\n",
    "6. The most efficient and effective method of conveying information to and within a development team is face-to-face conversation.\n",
    "7. Working software is the primary measure of progress.\n",
    "8. Agile processes promote sustainable development. The sponsors, developers, and users should be able to maintain a constant pace indefinitely.\n",
    "9. Continuous attention to technical excellence and good design enhances agility.\n",
    "10. Simplicity–the art of maximizing the amount of work not done–is essential.\n",
    "11. The best architectures, requirements, and designs emerge from self-organizing teams.\n",
    "12. At regular intervals, the team reflects on how to become more effective, then tunes and adjusts its behavior accordingly."
   ]
  }
 ],
 "metadata": {
  "kernelspec": {
   "display_name": "Python 3.9.12 ('base')",
   "language": "python",
   "name": "python3"
  },
  "language_info": {
   "name": "python",
   "version": "3.9.12"
  },
  "orig_nbformat": 4,
  "vscode": {
   "interpreter": {
    "hash": "c7f0eff47e976ffd278432ca58e86309fa0a3c18b8fa2d8345190506f8a63e10"
   }
  }
 },
 "nbformat": 4,
 "nbformat_minor": 2
}
