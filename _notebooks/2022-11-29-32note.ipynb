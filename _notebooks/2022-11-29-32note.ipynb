{
 "cells": [
  {
   "cell_type": "markdown",
   "metadata": {},
   "source": [
    "# Tuesday Hack\n",
    "- toc : true\n",
    "- badges : true\n",
    "- categories: [Hacks]"
   ]
  },
  {
   "cell_type": "markdown",
   "metadata": {},
   "source": [
    "## Vocab\n",
    "Algorithm: a finite set of instruction that accomplish a task, it can be expressed by natural language, diagrams, and various other ways\n",
    "- Three parts of Algorithm: selection, sequence, and iteration\n",
    "    - Sequence: the order of how to do something to achieve a result, similarly to how you follow the instructions from a teacher"
   ]
  },
  {
   "cell_type": "code",
   "execution_count": 1,
   "metadata": {},
   "outputs": [
    {
     "name": "stdout",
     "output_type": "stream",
     "text": [
      "16.0\n"
     ]
    }
   ],
   "source": [
    "num1 = 5\n",
    "num2 = num1*6 - 20\n",
    "num3 = num1*num2 - 2*6\n",
    "\n",
    "result = num1* 6 + num2/2 - (num3/2)\n",
    "print(result)"
   ]
  },
  {
   "cell_type": "markdown",
   "metadata": {},
   "source": [
    "    - selection: it allows an algorithm to make a decision based on if a condition is met"
   ]
  },
  {
   "cell_type": "code",
   "execution_count": 3,
   "metadata": {},
   "outputs": [
    {
     "name": "stdout",
     "output_type": "stream",
     "text": [
      "3 is bigger than 2\n"
     ]
    }
   ],
   "source": [
    "x = 3\n",
    "y = 2\n",
    "if x > y:\n",
    "    print(\"{} is bigger than {}\".format(x,y))\n",
    "elif x < y:\n",
    "    print(\"{} is smaller than {}\".format(x,y))\n",
    "else: \n",
    "    print(\"{} and {} are same\".format(x,y))"
   ]
  },
  {
   "cell_type": "markdown",
   "metadata": {},
   "source": [
    "    - Iteration: loop and doing something again until a condition is met"
   ]
  },
  {
   "cell_type": "code",
   "execution_count": 5,
   "metadata": {},
   "outputs": [
    {
     "name": "stdout",
     "output_type": "stream",
     "text": [
      "0\n",
      "1\n",
      "3\n",
      "6\n",
      "10\n"
     ]
    }
   ],
   "source": [
    "x = 0\n",
    "a = 0\n",
    "while x < 5:\n",
    "    a += x\n",
    "    print(a)\n",
    "    x +=1"
   ]
  },
  {
   "cell_type": "markdown",
   "metadata": {},
   "source": [
    "1. Addition: a + b\n",
    "2. Subtraction: a - b\n",
    "3. Multiplication: a * b\n",
    "4. Division: a/b"
   ]
  },
  {
   "cell_type": "code",
   "execution_count": 6,
   "metadata": {},
   "outputs": [
    {
     "name": "stdout",
     "output_type": "stream",
     "text": [
      "5 -1 196836 64.0\n"
     ]
    }
   ],
   "source": [
    "ad = 3 + 2\n",
    "s = 6 - 7\n",
    "m = 564*349\n",
    "d = 1024/ 16\n",
    "print(ad, s, m, d)"
   ]
  },
  {
   "cell_type": "markdown",
   "metadata": {},
   "source": [
    "## Note\n",
    "- Algorithms are a finite set of instructions that accomplish a task. it has three parts, sequence, selection, and iteration\n",
    "- A sequence is the order of how to do something to achieve a result, similarly to how you follow the instructions from a teacher.\n",
    "- A selection allows an algorithm to make a decision based on if a condition is met, an example of this is when your car is out of fuel, you go to the gas station to fill your car, but if your car is full you wouldn't go to the gas station.\n",
    "- An iteration is a loop and doing something again until a condition is met, like you put away your computer when you are finished with your work.\n",
    "- Arithmetic uses addition, subtraction, division, multiplication, and modulus operator\n",
    "- Addition: a+b\n",
    "- Subtraction: a-b\n",
    "- Multiplication: a*b\n",
    "- Division: a/b\n",
    "- Modulus: a MOD b\n",
    "- (a and b can be string or number)\n",
    "- A string concatenation connects two or more string end-to-end to make a new string\n",
    "- Len() gives the character number\n",
    "- strings are variables and can be joined together through the print() command to make a statement"
   ]
  },
  {
   "cell_type": "markdown",
   "metadata": {},
   "source": [
    "## Hack 1\n",
    "- Set time to number to search for: sequence\n",
    "- Get next number in the list: sequence\n",
    "- If number = item, display \"item found\": selection\n",
    "- If there are more numbers in the list, go back to step 2: iteration, selection\n",
    "- Display \"item no found\": sequence"
   ]
  },
  {
   "cell_type": "markdown",
   "metadata": {},
   "source": [
    "## Hack 2"
   ]
  },
  {
   "cell_type": "code",
   "execution_count": 2,
   "metadata": {},
   "outputs": [],
   "source": [
    "num1 = 5\n",
    "num2 = num1 * 3\n",
    "num3 = num2 / num1 * (9 % 2) * 4\n",
    "result = (num3 % num1 + num2) % num3 * 3 / 5"
   ]
  },
  {
   "cell_type": "markdown",
   "metadata": {},
   "source": [
    "### the result will be...\n",
    "num2 = 5 * 3 = 15   \n",
    "num3 = (15 / 5) * (9 % 2) * 4 = 3 * 1 * 4 = 12   \n",
    "result = (12 % 3 + 15) % 12 * 3 / 5 = (2 + 15) % 12 * 3 / 5 = 17 % 12 * 3 / 5 = 5 * 3 / 5 = 3"
   ]
  },
  {
   "cell_type": "markdown",
   "metadata": {},
   "source": [
    "![crossword](../images/cw.png)\n",
    "1. Iteration\n",
    "2. Selection\n",
    "3. Sequence"
   ]
  },
  {
   "cell_type": "markdown",
   "metadata": {},
   "source": [
    "![screenshot](../images/hacek2.png)"
   ]
  }
 ],
 "metadata": {
  "kernelspec": {
   "display_name": "Python 3.9.12 ('base')",
   "language": "python",
   "name": "python3"
  },
  "language_info": {
   "codemirror_mode": {
    "name": "ipython",
    "version": 3
   },
   "file_extension": ".py",
   "mimetype": "text/x-python",
   "name": "python",
   "nbconvert_exporter": "python",
   "pygments_lexer": "ipython3",
   "version": "3.9.12"
  },
  "orig_nbformat": 4,
  "vscode": {
   "interpreter": {
    "hash": "c7f0eff47e976ffd278432ca58e86309fa0a3c18b8fa2d8345190506f8a63e10"
   }
  }
 },
 "nbformat": 4,
 "nbformat_minor": 2
}
