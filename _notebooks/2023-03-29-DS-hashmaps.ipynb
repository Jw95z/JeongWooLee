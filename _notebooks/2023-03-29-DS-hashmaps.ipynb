{
 "cells": [
  {
   "attachments": {},
   "cell_type": "markdown",
   "metadata": {},
   "source": [
    "#  Data Structures- Hashmaps, Sets, Hash Tables, Hashing and Collisions\n",
    "> Observing hashmaps with python dictionaries\n",
    "- toc: true\n",
    "- image: /images/python.png\n",
    "- categories: []\n",
    "- type: pbl\n",
    "- week: 28"
   ]
  },
  {
   "cell_type": "code",
   "execution_count": 62,
   "metadata": {},
   "outputs": [
    {
     "data": {
      "text/plain": [
       "True"
      ]
     },
     "execution_count": 62,
     "metadata": {},
     "output_type": "execute_result"
    }
   ],
   "source": [
    "import webbrowser\n",
    "\n",
    "def search_song():\n",
    "    song_title = input(\"enter the song's title\")\n",
    "    query = song_title.replace(\" \", \"+\")\n",
    "    url = f\"https://www.youtube.com/results?search_query={query}\"\n",
    "    return url\n",
    "\n",
    "song_url = search_song()\n",
    "# a = [\"0\", webbrowser.open(song_url)]\n",
    "# i = input(\"play\")\n",
    "# a[i]\n",
    "webbrowser.open(song_url)"
   ]
  },
  {
   "attachments": {},
   "cell_type": "markdown",
   "metadata": {},
   "source": [
    "## What is a Hashtable/Hashmap?\n",
    "\n",
    "> A hashtable is a data structure that with a collection of key-value pairs, where each key maps to a value, and the keys must be unique and hashable.\n",
    "\n",
    "- In Python there is a built in hashtable known as a dictionaries.\n",
    "\n",
    "> The primary purpose of a hashtable is to provide efficient lookup, insertion, and deletion operations. When an element is to be inserted into the hashtable, a hash function is used to map the key to a specific index in the underlying array that is used to store the key-value pairs. The value is then stored at that index. When searching for a value, the hash function is used again to find the index where the value is stored.\n",
    "\n",
    "> The key advantage of a hashtable over other data structures like arrays and linked lists is its average-case time complexity for lookup, insertion, and deletion operations.\n",
    "\n",
    "- The typical time complexity of a hashtable is one. \n"
   ]
  },
  {
   "attachments": {},
   "cell_type": "markdown",
   "metadata": {},
   "source": [
    "## What is Hashing and Collision?\n",
    "\n",
    "> Hashing is the process of mapping a given key to a value in a hash table or hashmap, using a hash function. The hash function takes the key as input and produces a hash value or hash code, which is then used to determine the index in the underlying array where the value is stored. The purpose of hashing is to provide a quick and efficient way to access data, by eliminating the need to search through an entire data structure to find a value.\n",
    "\n",
    "> However, it is possible for two different keys to map to the same hash value, resulting in a collision. When a collision occurs, there are different ways to resolve it, depending on the collision resolution strategy used.\n",
    "\n",
    "> Python's dictionary implementation is optimized to handle collisions efficiently, and the performance of the dictionary is generally very good, even in the presence of collisions. However, if the number of collisions is very high, the performance of the dictionary can degrade, so it is important to choose a good hash function that minimizes collisions when designing a Python dictionary.\n",
    "\n",
    "## What is a Set?"
   ]
  },
  {
   "cell_type": "code",
   "execution_count": 63,
   "metadata": {},
   "outputs": [
    {
     "name": "stdout",
     "output_type": "stream",
     "text": [
      "{1, 2, 3}\n"
     ]
    }
   ],
   "source": [
    "# Creating a set using set() function\n",
    "my_set = set([1, 2, 3, 2, 1])\n",
    "print(my_set)  \n",
    "\n",
    "# What do you notice in the output?\n",
    "# it didn't print the values that are repeated\n",
    "# it print as dictionary\n",
    "\n",
    "# Why do you think Sets are in the same tech talk as Hashmaps/Hashtables?\n",
    "# don't cannot have collision\n",
    "# doesn't not print duplicate answer"
   ]
  },
  {
   "attachments": {},
   "cell_type": "markdown",
   "metadata": {},
   "source": [
    "## Dictionary Example\n",
    "\n",
    "Below are just some basic features of a dictionary. As always, documentation is always the main source for all the full capablilties. "
   ]
  },
  {
   "cell_type": "code",
   "execution_count": 80,
   "metadata": {},
   "outputs": [
    {
     "name": "stdout",
     "output_type": "stream",
     "text": [
      "{'title': 'csp', 'artist': 'James', 'year': 2016, 'genre': ['csp', 'python', 'Electronic', 'Electricity'], 'tracks': {1: 'variable', 2: 'dict', 3: 'function', 4: 'binary', 5: 'cpu', 6: 'ram', 7: 'math', 8: 'science', 9: 'finished', 10: 'tech talks'}}\n"
     ]
    }
   ],
   "source": [
    "# Creating a dictionary with information about the album \"Lover\"\n",
    "lover_album = {\n",
    "    \"title\": \"csp\",\n",
    "    \"artist\": \"James\",\n",
    "    \"year\": 2016,\n",
    "    \"genre\": [\"csp\", \"python\", \"Electronic\", \"Electricity\"],\n",
    "    \"tracks\": {\n",
    "        1: \"variable\",\n",
    "        2: \"dict\",\n",
    "        3: \"function\",\n",
    "        4: \"binary\",\n",
    "        5: \"cpu\",\n",
    "        6: \"ram\",\n",
    "        7: \"math\",\n",
    "        8: \"science\",\n",
    "        9: \"finished\",\n",
    "        10: \"tech talks\",\n",
    "\n",
    "    }\n",
    "}\n",
    "\n",
    "# What data structures do you see?\n",
    "# Dictionaries \n",
    "# But inside the dictionaries, I can see some lists and dictionaries\n",
    "\n",
    "# Printing the dictionary\n",
    "print(lover_album)"
   ]
  },
  {
   "cell_type": "code",
   "execution_count": 73,
   "metadata": {},
   "outputs": [
    {
     "name": "stdout",
     "output_type": "stream",
     "text": [
      "{1: 'variable', 2: 'dict', 3: 'function', 4: 'binary', 5: 'cpu', 6: 'ram', 7: 'math', 8: 'science', 9: 'finished', 10: 'tech talks'}\n",
      "{1: 'variable', 2: 'dict', 3: 'function', 4: 'binary', 5: 'cpu', 6: 'ram', 7: 'math', 8: 'science', 9: 'finished', 10: 'tech talks'}\n"
     ]
    }
   ],
   "source": [
    "# Retrieve value from dictionary with key\n",
    "print(lover_album.get('tracks'))\n",
    "# or\n",
    "print(lover_album['tracks'])"
   ]
  },
  {
   "cell_type": "code",
   "execution_count": 74,
   "metadata": {},
   "outputs": [
    {
     "name": "stdout",
     "output_type": "stream",
     "text": [
      "binary\n",
      "binary\n"
     ]
    }
   ],
   "source": [
    "# Retrieve value from a dictionary inside a dictionary\n",
    "print(lover_album.get('tracks')[4])\n",
    "# or\n",
    "print(lover_album['tracks'][4])"
   ]
  },
  {
   "cell_type": "code",
   "execution_count": 76,
   "metadata": {},
   "outputs": [
    {
     "name": "stdout",
     "output_type": "stream",
     "text": [
      "{'title': 'csp', 'artist': 'James', 'year': 2016, 'genre': ['csp', 'python', 'Electronic', 'Electricity'], 'tracks': {1: 'variable', 2: 'dict', 3: 'function', 4: 'binary', 5: 'cpu', 6: 'ram', 7: 'math', 8: 'science', 9: 'finished', 10: 'tech talks', 11: 'SEEDPOINTS'}, 'producer': {'Louis Bell', 'Taylor Swift', 'Jack Antonoff', 'Frank Dukes', 'Joel Little'}}\n"
     ]
    }
   ],
   "source": [
    "# Adding a an key-value pair to an existing key \n",
    "lover_album[\"tracks\"].update({11: \"SEEDPOINTS\"})\n",
    "\n",
    "# How would add an additional genre to the dictionary, like electropop? \n",
    "# do the update()\n",
    "# so it changes the value of the tracks\n",
    "\n",
    "print(lover_album)"
   ]
  },
  {
   "cell_type": "code",
   "execution_count": 77,
   "metadata": {},
   "outputs": [
    {
     "name": "stdout",
     "output_type": "stream",
     "text": [
      "title: csp\n",
      "artist: James\n",
      "year: 2016\n",
      "genre:  csp python Electronic Electricity \n",
      "1: variable\n",
      "2: dict\n",
      "3: function\n",
      "4: binary\n",
      "5: cpu\n",
      "6: ram\n",
      "7: math\n",
      "8: science\n",
      "9: finished\n",
      "10: tech talks\n",
      "11: SEEDPOINTS\n"
     ]
    }
   ],
   "source": [
    "\n",
    "genre =  \"\"\n",
    "types = ['title', 'artist', 'year']\n",
    "for h in types:\n",
    "    print(str(h) + \": \" + str(lover_album[h]))\n",
    "for i in lover_album['genre']: # iterate using a for loop for key and value\n",
    "    genre  += i +\" \"\n",
    "\n",
    "print(\"genre: \", genre)\n",
    "for track_number, track_name in lover_album[\"tracks\"].items():\n",
    "    print(f\"{track_number}: {track_name}\")\n",
    "# Write your own code to print tracks in readable format\n",
    "# Ok\n",
    "# I got it"
   ]
  },
  {
   "cell_type": "code",
   "execution_count": 79,
   "metadata": {},
   "outputs": [
    {
     "name": "stdout",
     "output_type": "stream",
     "text": [
      "tracks\n",
      "1: variable\n",
      "2: dict\n",
      "3: function\n",
      "4: binary\n",
      "5: cpu\n",
      "6: ram\n",
      "7: math\n",
      "8: science\n",
      "9: finished\n",
      "10: tech talks\n",
      "11: SEEDPOINTS\n"
     ]
    }
   ],
   "source": [
    "# Using conditionals to retrieve a random song\n",
    "def search():\n",
    "    \n",
    "    search = input(\"What would you like to know about the album?\")\n",
    "    print(search)\n",
    "    if lover_album.get(search.lower()) == None:\n",
    "        print(\"Invalid Search\")\n",
    "    if isinstance(lover_album.get(search.lower()), list):\n",
    "        for i in range(len(lover_album.get(search.lower()))):\n",
    "            print(lover_album.get(search.lower())[i])\n",
    "    if isinstance(lover_album.get(search.lower()), dict):\n",
    "        for track_number, track_name in lover_album[\"tracks\"].items():\n",
    "            print(f\"{track_number}: {track_name}\")\n",
    "    else:\n",
    "        print(lover_album.get(search.lower()))\n",
    "\n",
    "search()\n",
    "\n",
    "# This is a very basic code segment, how can you improve upon this code?\n",
    "# We can search for other columns such as tracks ad title\n",
    "# "
   ]
  },
  {
   "attachments": {},
   "cell_type": "markdown",
   "metadata": {},
   "source": [
    "## Hacks\n",
    "\n",
    "- Answer *ALL* questions in the code segments\n",
    "- Create a venn diagram or other compare and contrast tool related to hashmaps.\n",
    "    - What are the pro and cons of using this data structure? \n",
    "    - Dictionary vs List    \n",
    "- Expand upon the code given to you, possible improvements in comments\n",
    "- Build your own album showing features of a python dictionary\n",
    "\n",
    "- For Mr. Yeung's class: Justify your favorite Taylor Swift song, answer may effect seed"
   ]
  }
 ],
 "metadata": {
  "kernelspec": {
   "display_name": "base",
   "language": "python",
   "name": "python3"
  },
  "language_info": {
   "codemirror_mode": {
    "name": "ipython",
    "version": 3
   },
   "file_extension": ".py",
   "mimetype": "text/x-python",
   "name": "python",
   "nbconvert_exporter": "python",
   "pygments_lexer": "ipython3",
   "version": "3.9.12"
  },
  "orig_nbformat": 4
 },
 "nbformat": 4,
 "nbformat_minor": 2
}
