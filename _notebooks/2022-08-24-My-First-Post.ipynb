{
 "cells": [
  {
   "cell_type": "markdown",
   "metadata": {},
   "source": [
    "# Quiz\n",
    "\n",
    "- toc: true\n",
    "- badges: true\n",
    "- comments: true\n",
    "- categories: [jupyter, week1]\n",
    "- image: images/chart-preview.png"
   ]
  },
  {
   "cell_type": "code",
   "execution_count": 18,
   "metadata": {
    "vscode": {
     "languageId": "shellscript"
    }
   },
   "outputs": [
    {
     "name": "stdout",
     "output_type": "stream",
     "text": [
      "Hello, james running /bin/python3\n",
      "You will be asked 3 questions.\n",
      "question: Are you ready to take the test[y/n]? \n",
      "Answer: y\n",
      "question: 1 + 1 = ? \n",
      "I goy number : 2\n",
      "2 is correct\n",
      "question: 2 + 3 = ? \n",
      "I goy number : 5\n",
      "5 is correct\n",
      "question: 3 + 5 = ? \n",
      "I goy number : 8\n",
      "8 is correct\n",
      "100.0%\n"
     ]
    }
   ],
   "source": [
    "import getpass, sys\n",
    "\n",
    "correct = 0\n",
    "\n",
    "def questionAnswer(prompt):\n",
    "    print(\"question: \" + prompt)\n",
    "    ans = input()\n",
    "    print(\"Answer: \" + ans)\n",
    "    return ans\n",
    "\n",
    "def questionRespone(prompt):\n",
    "    print(\"question: \" + prompt)\n",
    "    ans = input()\n",
    "    print(\"I got a number :\",ans)\n",
    "    return ans\n",
    "    \n",
    "def questi():\n",
    "    global correct\n",
    "    res = questionRespone(\"1 + 1 = ? \")\n",
    "    if res == \"2\":\n",
    "        print(res + \" is correct\")\n",
    "        correct += 1\n",
    "    else:\n",
    "        print(res + \" is incorrect\")\n",
    "\n",
    "    rep = questionRespone(\"2 + 3 = ? \")\n",
    "    if rep == \"5\":\n",
    "        print(rep + \" is correct\")\n",
    "        correct += 1\n",
    "    else:\n",
    "        print(rep + \" is incorrect\")\n",
    "\n",
    "    reg = questionRespone(\"3 + 5 = ? \")\n",
    "    if reg == \"8\":\n",
    "        print(reg + \" is correct\")\n",
    "        correct += 1\n",
    "    else:\n",
    "        print(reg + \" is incorrect\")\n",
    "    print((str)((float)(correct/quest*100)) + \"%\")\n",
    "\n",
    "quest = 3\n",
    "\n",
    "\n",
    "print('Hello, ' + getpass.getuser() + \" running \" + sys.executable)\n",
    "print(\"You will be asked \" + str(quest) + \" questions.\")\n",
    "a = questionAnswer(\"Are you ready to take the test[y/n]? \")\n",
    "if a == \"y\":\n",
    "    questi()\n",
    "else:\n",
    "    print(\"......\")\n",
    "\n",
    "  \n",
    "\n"
   ]
  }
 ],
 "metadata": {
  "kernelspec": {
   "display_name": "Bash",
   "language": "bash",
   "name": "bash"
  },
  "language_info": {
   "codemirror_mode": {
    "name": "ipython",
    "version": 3
   },
   "file_extension": ".py",
   "mimetype": "text/x-python",
   "name": "bash",
   "nbconvert_exporter": "python",
   "pygments_lexer": "ipython3",
   "version": "3.8.10"
  },
  "orig_nbformat": 4,
  "vscode": {
   "interpreter": {
    "hash": "916dbcbb3f70747c44a77c7bcd40155683ae19c65e1c03b4aa3499c5328201f1"
   }
  }
 },
 "nbformat": 4,
 "nbformat_minor": 2
}
