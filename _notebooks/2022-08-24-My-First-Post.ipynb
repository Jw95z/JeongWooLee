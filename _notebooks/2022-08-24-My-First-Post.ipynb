{
 "cells": [
  {
   "cell_type": "markdown",
   "metadata": {},
   "source": [
    "# Jupyter Blog Post\n",
    "> A Post for Hacks of Jupyter notebooks.\n",
    "\n",
    "- toc: true\n",
    "- badges: true\n",
    "- comments: true\n",
    "- catergories: [jupyter]\n",
    "- image: images/chart-preview.png"
   ]
  },
  {
   "cell_type": "code",
   "execution_count": 16,
   "metadata": {},
   "outputs": [
    {
     "name": "stdout",
     "output_type": "stream",
     "text": [
      "Hello, james running /bin/python3\n",
      "You will be asked 3 questions.\n",
      "question: Are you ready to take the test[y/n]? \n",
      "Answer: y\n",
      "question: 1 + 1 = ? \n",
      "I goy number : 2\n",
      "2 is correct\n",
      "question: 2 + 3 = ? \n",
      "I goy number : 5\n",
      "5 is correct\n",
      "question: 3 + 5 = ? \n",
      "I goy number : 8\n",
      "8 is correct\n"
     ]
    },
    {
     "ename": "TypeError",
     "evalue": "unsupported operand type(s) for +: 'float' and 'str'",
     "output_type": "error",
     "traceback": [
      "\u001b[0;31m---------------------------------------------------------------------------\u001b[0m",
      "\u001b[0;31mTypeError\u001b[0m                                 Traceback (most recent call last)",
      "\u001b[1;32m/home/james/vscode/JeongWooLee/_notebooks/2022-08-24-My-First-Post.ipynb Cell 2\u001b[0m in \u001b[0;36m<cell line: 46>\u001b[0;34m()\u001b[0m\n\u001b[1;32m     <a href='vscode-notebook-cell://wsl%2Bubuntu/home/james/vscode/JeongWooLee/_notebooks/2022-08-24-My-First-Post.ipynb#W1sdnNjb2RlLXJlbW90ZQ%3D%3D?line=44'>45</a>\u001b[0m a \u001b[39m=\u001b[39m questionAnswer(\u001b[39m\"\u001b[39m\u001b[39mAre you ready to take the test[y/n]? \u001b[39m\u001b[39m\"\u001b[39m)\n\u001b[1;32m     <a href='vscode-notebook-cell://wsl%2Bubuntu/home/james/vscode/JeongWooLee/_notebooks/2022-08-24-My-First-Post.ipynb#W1sdnNjb2RlLXJlbW90ZQ%3D%3D?line=45'>46</a>\u001b[0m \u001b[39mif\u001b[39;00m a \u001b[39m==\u001b[39m \u001b[39m\"\u001b[39m\u001b[39my\u001b[39m\u001b[39m\"\u001b[39m:\n\u001b[0;32m---> <a href='vscode-notebook-cell://wsl%2Bubuntu/home/james/vscode/JeongWooLee/_notebooks/2022-08-24-My-First-Post.ipynb#W1sdnNjb2RlLXJlbW90ZQ%3D%3D?line=46'>47</a>\u001b[0m     questi()\n\u001b[1;32m     <a href='vscode-notebook-cell://wsl%2Bubuntu/home/james/vscode/JeongWooLee/_notebooks/2022-08-24-My-First-Post.ipynb#W1sdnNjb2RlLXJlbW90ZQ%3D%3D?line=47'>48</a>\u001b[0m \u001b[39melse\u001b[39;00m:\n\u001b[1;32m     <a href='vscode-notebook-cell://wsl%2Bubuntu/home/james/vscode/JeongWooLee/_notebooks/2022-08-24-My-First-Post.ipynb#W1sdnNjb2RlLXJlbW90ZQ%3D%3D?line=48'>49</a>\u001b[0m     \u001b[39mprint\u001b[39m(\u001b[39m\"\u001b[39m\u001b[39m......\u001b[39m\u001b[39m\"\u001b[39m)\n",
      "\u001b[1;32m/home/james/vscode/JeongWooLee/_notebooks/2022-08-24-My-First-Post.ipynb Cell 2\u001b[0m in \u001b[0;36mquesti\u001b[0;34m()\u001b[0m\n\u001b[1;32m     <a href='vscode-notebook-cell://wsl%2Bubuntu/home/james/vscode/JeongWooLee/_notebooks/2022-08-24-My-First-Post.ipynb#W1sdnNjb2RlLXJlbW90ZQ%3D%3D?line=36'>37</a>\u001b[0m \u001b[39melse\u001b[39;00m:\n\u001b[1;32m     <a href='vscode-notebook-cell://wsl%2Bubuntu/home/james/vscode/JeongWooLee/_notebooks/2022-08-24-My-First-Post.ipynb#W1sdnNjb2RlLXJlbW90ZQ%3D%3D?line=37'>38</a>\u001b[0m     \u001b[39mprint\u001b[39m(reg \u001b[39m+\u001b[39m \u001b[39m\"\u001b[39m\u001b[39m is incorrect\u001b[39m\u001b[39m\"\u001b[39m)\n\u001b[0;32m---> <a href='vscode-notebook-cell://wsl%2Bubuntu/home/james/vscode/JeongWooLee/_notebooks/2022-08-24-My-First-Post.ipynb#W1sdnNjb2RlLXJlbW90ZQ%3D%3D?line=38'>39</a>\u001b[0m \u001b[39mprint\u001b[39m((\u001b[39mfloat\u001b[39;49m)(correct\u001b[39m/\u001b[39;49mquest\u001b[39m*\u001b[39;49m\u001b[39m100\u001b[39;49m) \u001b[39m+\u001b[39;49m \u001b[39m\"\u001b[39;49m\u001b[39m%\u001b[39;49m\u001b[39m\"\u001b[39;49m)\n",
      "\u001b[0;31mTypeError\u001b[0m: unsupported operand type(s) for +: 'float' and 'str'"
     ]
    }
   ],
   "source": [
    "import getpass, sys\n",
    "\n",
    "correct = 0\n",
    "\n",
    "def questionAnswer(prompt):\n",
    "    print(\"question: \" + prompt)\n",
    "    ans = input()\n",
    "    print(\"Answer: \" + ans)\n",
    "    return ans\n",
    "\n",
    "def questionRespone(prompt):\n",
    "    print(\"question: \" + prompt)\n",
    "    ans = input()\n",
    "    print(\"I goy number :\",ans)\n",
    "    return ans\n",
    "    \n",
    "def questi():\n",
    "    global correct\n",
    "    res = questionRespone(\"1 + 1 = ? \")\n",
    "    if res == \"2\":\n",
    "        print(res + \" is correct\")\n",
    "        correct += 1\n",
    "    else:\n",
    "        print(res + \" is incorrect\")\n",
    "\n",
    "    rep = questionRespone(\"2 + 3 = ? \")\n",
    "    if rep == \"5\":\n",
    "        print(rep + \" is correct\")\n",
    "        correct += 1\n",
    "    else:\n",
    "        print(rep + \" is incorrect\")\n",
    "\n",
    "    reg = questionRespone(\"3 + 5 = ? \")\n",
    "    if reg == \"8\":\n",
    "        print(reg + \" is correct\")\n",
    "        correct += 1\n",
    "    else:\n",
    "        print(reg + \" is incorrect\")\n",
    "    print((str)((float)(correct/quest*100)) + \"%\")\n",
    "\n",
    "quest = 3\n",
    "\n",
    "print('Hello, ' + getpass.getuser() + \" running \" + sys.executable)\n",
    "print(\"You will be asked \" + str(quest) + \" questions.\")\n",
    "a = questionAnswer(\"Are you ready to take the test[y/n]? \")\n",
    "if a == \"y\":\n",
    "    questi()\n",
    "else:\n",
    "    print(\"......\")\n",
    "\n",
    "  \n",
    "\n"
   ]
  }
 ],
 "metadata": {
  "kernelspec": {
   "display_name": "Python 3.8.10 64-bit",
   "language": "python",
   "name": "python3"
  },
  "language_info": {
   "codemirror_mode": {
    "name": "ipython",
    "version": 3
   },
   "file_extension": ".py",
   "mimetype": "text/x-python",
   "name": "python",
   "nbconvert_exporter": "python",
   "pygments_lexer": "ipython3",
   "version": "3.8.10"
  },
  "orig_nbformat": 4,
  "vscode": {
   "interpreter": {
    "hash": "916dbcbb3f70747c44a77c7bcd40155683ae19c65e1c03b4aa3499c5328201f1"
   }
  }
 },
 "nbformat": 4,
 "nbformat_minor": 2
}
