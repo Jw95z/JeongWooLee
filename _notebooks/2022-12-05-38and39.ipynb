{
 "cells": [
  {
   "cell_type": "markdown",
   "metadata": {},
   "source": [
    "# 8 and 10\n",
    "- toc: true\n",
    "- badges: true"
   ]
  },
  {
   "cell_type": "markdown",
   "metadata": {},
   "source": [
    "## Notes\n",
    "### Iteration\n",
    "Iteration is a repeating portion of an algorithm\n",
    "It repeats until the given conditionals is met.\n",
    "Iteration Statements: change the sequential flow of control by repeating a set of statements zero or more times, until a stopping condition is met\n",
    "Repeat Until: if the condition evaluates to true initially, the loop body is not executed at all, due to the condition being checked before the loop\n",
    "\n",
    "when using "
   ]
  },
  {
   "cell_type": "markdown",
   "metadata": {},
   "source": [
    "## Hack 1\n",
    "### Define the Iteration\n",
    "- Iteration is like a loop. It can make the function to repeat endlessly or can stop when the condition is met. \n",
    "\n",
    "### Making example"
   ]
  },
  {
   "cell_type": "code",
   "execution_count": 6,
   "metadata": {},
   "outputs": [
    {
     "name": "stdout",
     "output_type": "stream",
     "text": [
      "guess the number between 1 to 100\n",
      "Low\n",
      "Low\n",
      "Low\n",
      "Low\n",
      "Low\n",
      "Low\n",
      "High\n",
      "Low\n",
      "Low\n",
      "Low\n",
      "High\n",
      "High\n",
      "Low\n",
      "Congraculation you tries 15\n"
     ]
    }
   ],
   "source": [
    "import random\n",
    "tries = 0\n",
    "guess = 0\n",
    "answer = random.randint(1,100)\n",
    "print(\"guess the number between 1 to 100\")\n",
    "guess = int(input(\"enter the number\"))\n",
    "while True:\n",
    "    tries = tries + 1\n",
    "    if guess < answer:\n",
    "        print(\"Low\")\n",
    "    elif guess > answer: \n",
    "        print(\"High\")\n",
    "    elif guess == answer:\n",
    "        print(\"Congratulation you tries\", tries +1, \"times\")\n",
    "        break\n",
    "    elif tries > 10: \n",
    "        print(\"Answer is \", answer)\n",
    "    guess = int(input(\"enter the number\"))"
   ]
  },
  {
   "cell_type": "markdown",
   "metadata": {},
   "source": [
    "### Simple Iteration"
   ]
  },
  {
   "cell_type": "code",
   "execution_count": 5,
   "metadata": {},
   "outputs": [
    {
     "name": "stdout",
     "output_type": "stream",
     "text": [
      "             *\n",
      "            ***\n",
      "           *****\n",
      "          *******\n",
      "         *********\n",
      "        ***********\n",
      "       *************\n",
      "      ***************\n",
      "     *****************\n",
      "    *******************\n",
      "   *********************\n",
      "  ***********************\n",
      " *************************\n",
      "***************************\n",
      "\n"
     ]
    }
   ],
   "source": [
    "output = \"\"\n",
    "\n",
    "for i in range(1, 15):\n",
    "    for j in range(14, i, -1):\n",
    "        output += ' '\n",
    "    for j in range(0,2*i-1):\n",
    "        output += '*'\n",
    "    output += '\\n'\n",
    "\n",
    "print(output)"
   ]
  },
  {
   "cell_type": "markdown",
   "metadata": {},
   "source": [
    "## Hack 2\n",
    "### Define Iteration statement\n",
    "- Iteration statement: Command that controls the repetition of the same command a certain number of times within a program. Most of the code processed by the program is repetitive.\n",
    "### Creating list by using loop"
   ]
  },
  {
   "cell_type": "code",
   "execution_count": 7,
   "metadata": {},
   "outputs": [
    {
     "name": "stdout",
     "output_type": "stream",
     "text": [
      "[100, 81, 64, 49, 36, 25, 16, 9, 4, 1]\n"
     ]
    }
   ],
   "source": [
    "a = []\n",
    "for i in range(10,0,-1):\n",
    "    a.append(i*i)\n",
    "print(a)"
   ]
  },
  {
   "cell_type": "markdown",
   "metadata": {},
   "source": [
    "### making loop which will form given numbers"
   ]
  },
  {
   "cell_type": "code",
   "execution_count": 17,
   "metadata": {},
   "outputs": [
    {
     "name": "stdout",
     "output_type": "stream",
     "text": [
      "3,16,29,42,55,68,81\n"
     ]
    }
   ],
   "source": [
    "a = []\n",
    "let = \"\"\n",
    "for i in range(7):\n",
    "    b = 13*i + 3\n",
    "    a.append(b)\n",
    "for j in range(7):\n",
    "    let += str(a[j])\n",
    "    if j == 6:\n",
    "        break\n",
    "    else:\n",
    "        let += \",\"\n",
    "print(let)"
   ]
  },
  {
   "cell_type": "markdown",
   "metadata": {},
   "source": [
    "## Hack 3\n",
    "### Making the list"
   ]
  },
  {
   "cell_type": "code",
   "execution_count": 5,
   "metadata": {},
   "outputs": [
    {
     "name": "stdout",
     "output_type": "stream",
     "text": [
      "15\n"
     ]
    }
   ],
   "source": [
    "nums = [\"10\", \"15\", \"20\", \"25\", \"30\", \"35\"]\n",
    "smallest = int(nums[0])\n",
    "for i in range(1,len(nums)):\n",
    "    if int(nums[i]) < smallest:\n",
    "        smallest = int(nums[i])\n",
    "\n",
    "print(smallest)"
   ]
  },
  {
   "cell_type": "code",
   "execution_count": 3,
   "metadata": {},
   "outputs": [
    {
     "name": "stdout",
     "output_type": "stream",
     "text": [
      "What allows a value to be added at the end of a list?\n",
      "append()\n",
      "Correct!\n",
      "What returns the number of elements currently in a specific list?\n",
      "length()\n",
      "Correct!\n",
      "What allows an element at index i to be deleted from a list?\n",
      "remove()\n",
      "Correct!\n",
      "What allows a value to be inserted into a list at index i?\n",
      "insert()\n",
      "Wrong\n",
      "75.00%\n",
      "Your total score is:  3 out of 4. Its alright, better luck next time!\n"
     ]
    }
   ],
   "source": [
    "import getpass, sys\n",
    "import random\n",
    "\n",
    "def ask_question (question, answer):\n",
    "\n",
    "    print(question)\n",
    "    ans = input(question)\n",
    "    print(ans)\n",
    "   \n",
    "    if ans == answer:\n",
    "        print(\"Correct!\")\n",
    "        return 1\n",
    "\n",
    "    else:\n",
    "        print(\"Wrong\")\n",
    "        return 0\n",
    "\n",
    "question_list = [\"What allows a value to be inserted into a list at index i?\" , \"What allows an element at index i to be deleted from a list?\" , \"What returns the number of elements currently in a specific list?\" , \"What allows a value to be added at the end of a list?\"]\n",
    "answer_list = [\"index()\", \"remove()\", \"length()\" , \"append()\"]\n",
    "\n",
    "# Set points to 0 at the start of the quiz\n",
    "points = 0\n",
    "\n",
    "# If the length of the quiz is greater than 0, then random questions will be chosen from the \"question_list\" set\n",
    "while len(question_list) > 0:\n",
    "    index = random.randint(0, len(question_list) - 1)\n",
    "    \n",
    "# The points system where a point is rewarded for each correct answer    \n",
    "    points = points + ask_question(question_list[index], answer_list[index])\n",
    "    \n",
    "# If a question or answer has already been used, then it shall be deleted    \n",
    "    del question_list[index]\n",
    "    del answer_list[index]\n",
    "\n",
    "# Calculating score using the points system and dividing it by the total number of questions (6)\n",
    "score = (points / 4)\n",
    "\n",
    "# Calculating the percentage of correct answers by multiplying the score by 100\n",
    "percent = (score * 100)\n",
    "\n",
    "# Printing the percentage, and formatting the percentage in a way where two decimals can be shown (through \"{:.2f}\")\n",
    "print(\"{:.2f}\".format(percent) + \"%\")\n",
    "\n",
    "# Adding final remarks based upon the users given scores\n",
    "if points >= 5:\n",
    "         print(\"Your total score is: \", points, \"out of 4. Amazing job!\")\n",
    "\n",
    "elif points == 4:\n",
    "         print(\"Your total score is: \", points, \"out of 4. Not too bad, keep on studying! \" )\n",
    "\n",
    "else:\n",
    "         print(\"Your total score is: \", points, \"out of 4. Its alright, better luck next time!\")"
   ]
  }
 ],
 "metadata": {
  "kernelspec": {
   "display_name": "Python 3.9.12 ('base')",
   "language": "python",
   "name": "python3"
  },
  "language_info": {
   "codemirror_mode": {
    "name": "ipython",
    "version": 3
   },
   "file_extension": ".py",
   "mimetype": "text/x-python",
   "name": "python",
   "nbconvert_exporter": "python",
   "pygments_lexer": "ipython3",
   "version": "3.9.12"
  },
  "orig_nbformat": 4,
  "vscode": {
   "interpreter": {
    "hash": "c7f0eff47e976ffd278432ca58e86309fa0a3c18b8fa2d8345190506f8a63e10"
   }
  }
 },
 "nbformat": 4,
 "nbformat_minor": 2
}
