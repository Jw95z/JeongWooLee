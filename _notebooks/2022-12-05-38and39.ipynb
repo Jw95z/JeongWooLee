{
 "cells": [
  {
   "cell_type": "markdown",
   "metadata": {},
   "source": [
    "# Section 3.8 and 3.10\n",
    "- toc: true\n",
    "- badges: true\n",
    "- categories: [Hacks_from_other_lesson]\n",
    "- tags: [Lesson_Project]"
   ]
  },
  {
   "cell_type": "markdown",
   "metadata": {},
   "source": [
    "## vocab\n",
    "- Iteration: a repeating portion of an algorithm, repeats a specified number of times or until a given condition is met\n",
    "![loop](../images/loop.gif)"
   ]
  },
  {
   "cell_type": "code",
   "execution_count": 3,
   "metadata": {},
   "outputs": [
    {
     "name": "stdout",
     "output_type": "stream",
     "text": [
      "Hi\n",
      "Hi\n",
      "Hi\n",
      "Hi\n",
      "Hi\n"
     ]
    }
   ],
   "source": [
    "i = 0\n",
    "while (i < 5):\n",
    "    print(\"Hi\")\n",
    "    i += 1"
   ]
  },
  {
   "cell_type": "markdown",
   "metadata": {},
   "source": [
    "- Iteration Statement: cause statements to be executed zero or more times, subject to some loop-termination criteria\n",
    "- - we can use range(a,b) so that the i can start a and end with b-1"
   ]
  },
  {
   "cell_type": "code",
   "execution_count": 2,
   "metadata": {},
   "outputs": [
    {
     "name": "stdout",
     "output_type": "stream",
     "text": [
      "0 1 2 3 4 5 \n",
      "1 2 3 4 5 \n"
     ]
    }
   ],
   "source": [
    "a = \"\"\n",
    "b = \"\"\n",
    "for i in range(6):\n",
    "    a += str(i)\n",
    "    a += \" \"\n",
    "for j in range(1,6):\n",
    "    b += str(j)\n",
    "    b += \" \"\n",
    "print(a)\n",
    "print(b)"
   ]
  },
  {
   "cell_type": "markdown",
   "metadata": {},
   "source": [
    "- We can use the command \"break\" to stop the loop. By using this, when the conditionals that make the loop to stop are met, codes can escape from the loop function"
   ]
  },
  {
   "cell_type": "code",
   "execution_count": 4,
   "metadata": {},
   "outputs": [
    {
     "name": "stdout",
     "output_type": "stream",
     "text": [
      "0\n",
      "1\n",
      "2\n",
      "3\n",
      "4\n",
      "5\n",
      "6\n",
      "7\n",
      "8\n",
      "9\n",
      "10\n"
     ]
    }
   ],
   "source": [
    "num = 0\n",
    "while 1:\n",
    "    print(num)\n",
    "    if num == 10:\n",
    "            break\n",
    "    num += 1"
   ]
  },
  {
   "cell_type": "markdown",
   "metadata": {},
   "source": [
    "\n",
    "- Traversing a list: the process of visiting each element in a list in a sequential order\n",
    "    - Complete Traversal: All elements in a list are assessed \n",
    "\n",
    "    - Partial Traversal: Only a given portion of elements are assessed\n",
    "\n",
    "    - Iterative Traversal: When loops are used to iterate through a list and to access each single element at a time.\n",
    "- insert( ): allows a value to be inserted into a list at index i\n",
    "- append( ): allows a value to be added at the end of a list \n",
    "- remove( ): allows an element at index i to be deleted from a list\n",
    "- length( ): returns the number of elements currently in a specific list\n",
    "- We can also use the value of list by putting [index] in back of list name\n",
    "    - ex) list[index]"
   ]
  },
  {
   "cell_type": "code",
   "execution_count": 8,
   "metadata": {},
   "outputs": [
    {
     "name": "stdout",
     "output_type": "stream",
     "text": [
      "4\n",
      "[[10, 5], 4, 5, 2]\n"
     ]
    }
   ],
   "source": [
    "list = [3,4,5]\n",
    "list.append(2)\n",
    "list.remove(3)\n",
    "list.insert(0,[10, 5])\n",
    "print(len(list))\n",
    "print(list)"
   ]
  },
  {
   "cell_type": "markdown",
   "metadata": {},
   "source": [
    "## Notes\n",
    "### Iteration\n",
    "- Iteration is a repeating portion of an algorithm. It repeats until the given conditionals is met.\n",
    "- Iteration Statements: change the sequential flow of control by repeating a set of statements zero or more times, until a stopping condition is met\n",
    "- Repeat Until: The programmer sets the condition to stop the loop, and when the condition is met, the function can be escaped from being repeated. If the condition is not met, the function continues to repeat.\n",
    "- Complete Traversal: All elements in a list are assessed\n",
    "- Partial Traversal: Only a given portion of elements are assessed    \n",
    "### List\n",
    "- A list in Python is a data type in which elements are stored consecutively. At this time, the stored elements do not all have to be of the same data type. A list is represented by enclosing it in square brackets ([, ]), and zero or more elements can be stored inside.\n",
    "- insert( ): allows a value to be inserted into a list at index i\n",
    "- append( ): allows a value to be added at the end of a list\n",
    "- remove( ): allows an element at index i to be deleted from a list\n",
    "- length( ): returns the number of elements currently in a specific list"
   ]
  },
  {
   "cell_type": "markdown",
   "metadata": {},
   "source": [
    "## Hack 1\n",
    "### Define the Iteration\n",
    "- Iteration is like a loop. It can make the function to repeat endlessly or can stop when the condition is met. \n",
    "\n",
    "### Making flow charts"
   ]
  },
  {
   "cell_type": "markdown",
   "metadata": {},
   "source": [
    "![flowchart](../images/charts.png)"
   ]
  },
  {
   "cell_type": "markdown",
   "metadata": {},
   "source": [
    "### Simple Iteration"
   ]
  },
  {
   "cell_type": "code",
   "execution_count": 16,
   "metadata": {},
   "outputs": [
    {
     "name": "stdout",
     "output_type": "stream",
     "text": [
      "guess the number between 1 to 100\n",
      "Low\n",
      "Low\n",
      "Low\n",
      "Low\n",
      "Low\n",
      "Low\n",
      "Low\n",
      "Low\n",
      "Low\n",
      "Low\n",
      "Answer is  35\n"
     ]
    }
   ],
   "source": [
    "import random\n",
    "tries = 0\n",
    "guess = 0\n",
    "answer = random.randint(1,100)\n",
    "print(\"guess the number between 1 to 100\")\n",
    "guess = int(input(\"enter the number\"))\n",
    "while True:\n",
    "    tries = int(tries + 1)\n",
    "    if tries > 10: \n",
    "        print(\"Answer is \", answer)\n",
    "        break\n",
    "    elif guess < answer:\n",
    "        print(\"Low\")\n",
    "    elif guess > answer: \n",
    "        print(\"High\")\n",
    "    elif guess == answer:\n",
    "        print(\"Congratulation you tries\", tries +1, \"times\")\n",
    "        break\n",
    "    guess = int(input(\"enter the number\"))"
   ]
  },
  {
   "cell_type": "markdown",
   "metadata": {},
   "source": [
    "### Another example"
   ]
  },
  {
   "cell_type": "code",
   "execution_count": 18,
   "metadata": {},
   "outputs": [
    {
     "name": "stdout",
     "output_type": "stream",
     "text": [
      "             *\n",
      "            ***\n",
      "           *****\n",
      "          *******\n",
      "         *********\n",
      "        ***********\n",
      "       *************\n",
      "      ***************\n",
      "     *****************\n",
      "    *******************\n",
      "   *********************\n",
      "  ***********************\n",
      " *************************\n",
      "***************************\n",
      "\n"
     ]
    }
   ],
   "source": [
    "output = \"\"\n",
    "\n",
    "for i in range(1, 15):\n",
    "    for j in range(14, i, -1):\n",
    "        output += ' '\n",
    "    for j in range(0,2*i-1):\n",
    "        output += '*'\n",
    "    output += '\\n'\n",
    "\n",
    "print(output)"
   ]
  },
  {
   "cell_type": "markdown",
   "metadata": {},
   "source": [
    "## Hack 2\n",
    "### Define Iteration statement\n",
    "- Iteration statement: Command that controls the repetition of the same command a certain number of times within a program. Most of the code processed by the program is repetitive.\n",
    "### Creating list by using loop"
   ]
  },
  {
   "cell_type": "code",
   "execution_count": 17,
   "metadata": {},
   "outputs": [
    {
     "name": "stdout",
     "output_type": "stream",
     "text": [
      "[100, 81, 64, 49, 36, 25, 16, 9, 4, 1]\n"
     ]
    }
   ],
   "source": [
    "a = []\n",
    "for i in range(10,0,-1):\n",
    "    a.append(i*i)\n",
    "print(a)"
   ]
  },
  {
   "cell_type": "markdown",
   "metadata": {},
   "source": [
    "### making loop which will form given numbers"
   ]
  },
  {
   "cell_type": "code",
   "execution_count": 17,
   "metadata": {},
   "outputs": [
    {
     "name": "stdout",
     "output_type": "stream",
     "text": [
      "3,16,29,42,55,68,81\n"
     ]
    }
   ],
   "source": [
    "a = []\n",
    "let = \"\"\n",
    "for i in range(7):\n",
    "    b = 13*i + 3\n",
    "    a.append(b)\n",
    "for j in range(7):\n",
    "    let += str(a[j])\n",
    "    if j == 6:\n",
    "        break\n",
    "    else:\n",
    "        let += \",\"\n",
    "print(let)"
   ]
  },
  {
   "cell_type": "markdown",
   "metadata": {},
   "source": [
    "## Hack 3\n",
    "### Making the list"
   ]
  },
  {
   "cell_type": "code",
   "execution_count": 6,
   "metadata": {},
   "outputs": [
    {
     "name": "stdout",
     "output_type": "stream",
     "text": [
      "10\n"
     ]
    }
   ],
   "source": [
    "nums = [\"10\", \"15\", \"20\", \"25\", \"30\", \"35\"]\n",
    "smallest = int(nums[0])\n",
    "for i in range(1,len(nums)):\n",
    "    if int(nums[i]) < smallest:\n",
    "        smallest = int(nums[i])\n",
    "\n",
    "print(smallest)"
   ]
  },
  {
   "cell_type": "markdown",
   "metadata": {},
   "source": [
    "### Another way to find the smallest"
   ]
  },
  {
   "cell_type": "code",
   "execution_count": 31,
   "metadata": {},
   "outputs": [
    {
     "name": "stdout",
     "output_type": "stream",
     "text": [
      "1\n",
      "2\n",
      "3\n",
      "4\n",
      "5\n"
     ]
    }
   ],
   "source": [
    "for i in range(1,6):\n",
    "    print(i)"
   ]
  },
  {
   "cell_type": "code",
   "execution_count": 33,
   "metadata": {},
   "outputs": [
    {
     "name": "stdout",
     "output_type": "stream",
     "text": [
      "10\n"
     ]
    }
   ],
   "source": [
    "nums = [\"10\", \"15\", \"20\", \"25\", \"30\", \"35\"]\n",
    "k = 0\n",
    "for i in range(6):\n",
    "    for j in range(1,6):\n",
    "        if nums[i] < nums[(j+i)%6]:\n",
    "            k += 1\n",
    "            if k == 5:\n",
    "                print(nums[i])\n",
    "                break\n",
    "    k = 0"
   ]
  },
  {
   "cell_type": "code",
   "execution_count": 9,
   "metadata": {},
   "outputs": [
    {
     "name": "stdout",
     "output_type": "stream",
     "text": [
      "What allows a value to be inserted into a list at index i?\n",
      "index()\n",
      "Correct!\n",
      "What allows an element at index i to be deleted from a list?\n",
      "remove()\n",
      "Correct!\n",
      "What allows a value to be added at the end of a list?\n",
      "append()\n",
      "Correct!\n",
      "What returns the number of elements currently in a specific list?\n",
      "length()\n",
      "Correct!\n",
      "100.00%\n",
      "Your total score is:  4 out of 4. Not too bad, keep on studying! \n"
     ]
    }
   ],
   "source": [
    "import getpass, sys\n",
    "import random\n",
    "\n",
    "def ask_question (question, answer):\n",
    "\n",
    "    print(question)\n",
    "    ans = input(question)\n",
    "    print(ans)\n",
    "   \n",
    "    if ans == answer:\n",
    "        print(\"Correct!\")\n",
    "        return 1\n",
    "\n",
    "    else:\n",
    "        print(\"Wrong\")\n",
    "        return 0\n",
    "\n",
    "question_list = [\"What allows a value to be inserted into a list at index i?\" , \"What allows an element at index i to be deleted from a list?\" , \"What returns the number of elements currently in a specific list?\" , \"What allows a value to be added at the end of a list?\"]\n",
    "answer_list = [\"index()\", \"remove()\", \"length()\" , \"append()\"]\n",
    "\n",
    "# Set points to 0 at the start of the quiz\n",
    "points = 0\n",
    "\n",
    "# If the length of the quiz is greater than 0, then random questions will be chosen from the \"question_list\" set\n",
    "while len(question_list) > 0:\n",
    "    index = random.randint(0, len(question_list) - 1)\n",
    "    \n",
    "# The points system where a point is rewarded for each correct answer    \n",
    "    points = points + ask_question(question_list[index], answer_list[index])\n",
    "    \n",
    "# If a question or answer has already been used, then it shall be deleted    \n",
    "    del question_list[index]\n",
    "    del answer_list[index]\n",
    "\n",
    "# Calculating score using the points system and dividing it by the total number of questions (6)\n",
    "score = (points / 4)\n",
    "\n",
    "# Calculating the percentage of correct answers by multiplying the score by 100\n",
    "percent = (score * 100)\n",
    "\n",
    "# Printing the percentage, and formatting the percentage in a way where two decimals can be shown (through \"{:.2f}\")\n",
    "print(\"{:.2f}\".format(percent) + \"%\")\n",
    "\n",
    "# Adding final remarks based upon the users given scores\n",
    "if points >= 5:\n",
    "         print(\"Your total score is: \", points, \"out of 4. Amazing job!\")\n",
    "\n",
    "elif points == 4:\n",
    "         print(\"Your total score is: \", points, \"out of 4. Not too bad, keep on studying! \" )\n",
    "\n",
    "else:\n",
    "         print(\"Your total score is: \", points, \"out of 4. Its alright, better luck next time!\")"
   ]
  },
  {
   "cell_type": "markdown",
   "metadata": {},
   "source": [
    "## Extra credit\n",
    "- I made a bingo game with the Iteration statement"
   ]
  },
  {
   "cell_type": "code",
   "execution_count": 10,
   "metadata": {},
   "outputs": [
    {
     "name": "stdout",
     "output_type": "stream",
     "text": [
      " _ _ _\n",
      "|_|_|_|\n",
      "|_|_|_|\n",
      "|_|_|_|\n",
      "<Play no.1>\n",
      "Currently player: 1\n",
      " _ _ _\n",
      "|O|_|_|\n",
      "|_|_|_|\n",
      "|_|_|_|\n",
      "<Play no.2>\n",
      "Currently player: 2\n",
      " _ _ _\n",
      "|O|_|_|\n",
      "|_|X|_|\n",
      "|_|_|_|\n",
      "<Play no.3>\n",
      "Currently player: 1\n",
      " _ _ _\n",
      "|O|O|_|\n",
      "|_|X|_|\n",
      "|_|_|_|\n",
      "<Play no.4>\n",
      "Currently player: 2\n",
      " _ _ _\n",
      "|O|O|_|\n",
      "|_|X|_|\n",
      "|_|_|X|\n",
      "<Play no.5>\n",
      "Currently player: 1\n",
      " _ _ _\n",
      "|O|O|O|\n",
      "|_|X|_|\n",
      "|_|_|X|\n",
      "Player 1 wins!\n",
      "Finish\n"
     ]
    }
   ],
   "source": [
    "def board(bingo, dimension):\n",
    "    for i in range(dimension):\n",
    "        print(' _', end = '')\n",
    "    for i in range(dimension):\n",
    "        print()\n",
    "        print('|', end = '')\n",
    "        for j in range(dimension):\n",
    "            print(bingo[i][j] + '|', end = '')\n",
    "    print()\n",
    "\n",
    "\n",
    "while True:\n",
    "    dimension = int(input(\"Please input the size of the game board(more than 2): \"))\n",
    "    if dimension <= 2 :\n",
    "        print('[Error] try again')\n",
    "    else:\n",
    "        break\n",
    "\n",
    "bingo = [['_']*dimension for i in range(dimension)]\n",
    "board(bingo, dimension)\n",
    "\n",
    "turn = 1\n",
    "play_count = 0\n",
    "while True:\n",
    "    print('<Play no.{}>'.format(play_count+1))\n",
    "    if turn == 1:\n",
    "        print('Currently player: 1')\n",
    "        row_1 = int(input('Which row?(start with 1)'))\n",
    "        column_1 = int(input('Which column?(start with 1)'))\n",
    "\n",
    "        if bingo[row_1-1][column_1-1] != '_':\n",
    "            print('Space is not empty. Try again')\n",
    "            turn = 1\n",
    "            continue\n",
    "        else:\n",
    "            bingo[row_1-1][column_1-1] = 'O'\n",
    "            board(bingo,dimension)\n",
    "            turn = 2\n",
    "\n",
    "    elif turn == 2:\n",
    "        print('Currently player: 2')\n",
    "        row_2 = int(input('Which row?(start with 1) '))\n",
    "        column_2 = int(input('Which column?(start with 1) '))\n",
    "\n",
    "        if bingo[row_2-1][column_2-1] != '_':\n",
    "            print('Space is not empty. Try again')\n",
    "            turn = 2\n",
    "            continue\n",
    "        else:\n",
    "            bingo[row_2-1][column_2-1] = 'X'\n",
    "            board(bingo,dimension)\n",
    "            turn = 1\n",
    "\n",
    "    check_diag = []\n",
    "    check_reverse = []\n",
    "    check_row = []\n",
    "    check_column =[]\n",
    "            \n",
    "    for i in range(dimension):\n",
    "        check_diag.append(bingo[i][i])\n",
    "        check_reverse.append(bingo[dimension-i-1][i])\n",
    "        \n",
    "\n",
    "        for j in range(dimension):\n",
    "            check_row.append(bingo[i][j])\n",
    "            check_column.append(bingo[j][i])\n",
    "        \n",
    "        if set(check_row) == {'O'}:\n",
    "            print('Player 1 wins!')\n",
    "            turn = 0\n",
    "        elif set(check_row) == {'X'}:\n",
    "            print('Player 2 wins!')\n",
    "            turn = 0\n",
    "\n",
    "        check_row = []\n",
    "\n",
    "        if set(check_column) == {'O'}:\n",
    "            print('Player 1 wins!')\n",
    "            turn = 0\n",
    "        elif set(check_column) == {'X'}:\n",
    "            print('Player 2 wins!')\n",
    "            turn = 0\n",
    "        check_column = []\n",
    "\n",
    "    check_diag = set(check_diag)\n",
    "    check_reverse = set(check_reverse)\n",
    "\n",
    "    if check_diag == {'O'} or check_reverse == {'O'}:\n",
    "        print('Player 1 wins!')\n",
    "        turn = 0\n",
    "        \n",
    "    elif check_diag == {'X'} or check_reverse == {'X'}:\n",
    "        print('Player 2 wins!')\n",
    "        turn = 0\n",
    "\n",
    "    play_count += 1\n",
    "\n",
    "\n",
    "    if turn == 0 or play_count == dimension**2:\n",
    "        print('Finish')\n",
    "        break"
   ]
  },
  {
   "cell_type": "markdown",
   "metadata": {},
   "source": [
    "## Please give perfect score\n",
    "Please give me 1. I'm so sad now. If you give me a perfect, I will appreciate to you."
   ]
  }
 ],
 "metadata": {
  "kernelspec": {
   "display_name": "Python 3.9.12 ('base')",
   "language": "python",
   "name": "python3"
  },
  "language_info": {
   "codemirror_mode": {
    "name": "ipython",
    "version": 3
   },
   "file_extension": ".py",
   "mimetype": "text/x-python",
   "name": "python",
   "nbconvert_exporter": "python",
   "pygments_lexer": "ipython3",
   "version": "3.9.12"
  },
  "orig_nbformat": 4,
  "vscode": {
   "interpreter": {
    "hash": "c7f0eff47e976ffd278432ca58e86309fa0a3c18b8fa2d8345190506f8a63e10"
   }
  }
 },
 "nbformat": 4,
 "nbformat_minor": 2
}
