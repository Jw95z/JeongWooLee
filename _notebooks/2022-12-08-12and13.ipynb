{
 "cells": [
  {
   "cell_type": "markdown",
   "metadata": {},
   "source": [
    "# Section 3.12 ~ 3.13\n",
    "- toc: true\n",
    "- badges: true\n",
    "- categories: [Hacks_from_other_lesson]\n",
    "- tags: [Lesson_Project]\n"
   ]
  },
  {
   "cell_type": "markdown",
   "metadata": {},
   "source": [
    "## Vocab\n",
    "- A procedure is a named set of instructions that can take in parameters and return values.\n",
    "    - May be called \"method\" or \"function\" in different programming languages.\n",
    "- Parameters are independent variables used in the procedure to produce a result. It allows a procedure to execute without initially knowing specific input values.\n",
    "- Modularity - the practice of breaking a complex program into smaller, independent parts or modules that can be used and reused in different parts of the program\n",
    "- Abstraction - the practice of hiding the details of how a particular code or system works and exposing only the essential features or functions that are necessary for other parts of the program to use\n",
    "- Duplication - having multiple duplicate code blocks, often decreasing readability and efficiency\n",
    "- Logic - the sequence of steps and operations that a computer follows to execute a program, including the specific instructions and decision-making processes built into the code\n",
    "- Procedure Name - the name that is given to a function/procedure\n",
    "- Arguments - a way to provide information to a function, usually defined outside a function and then imported into a function with parameters"
   ]
  },
  {
   "cell_type": "code",
   "execution_count": null,
   "metadata": {},
   "outputs": [],
   "source": [
    "def add(a, b): # procedure and a,b is parameter\n",
    "    print(a)\n",
    "    print(b)\n",
    "add(2, 3)\n",
    "\n"
   ]
  },
  {
   "cell_type": "markdown",
   "metadata": {},
   "source": [
    "## Notes\n",
    "### Calling Procedures\n",
    "- To call a procedure you would write the name of the procedure followed by the parentheses with the parameters of the procedure\n",
    "- Procedures do not require parameters, but the parentheses must be there\n",
    "#### Ex: \n",
    "- procedureName(parameter1, parameter2, ...)\n",
    "- How would you call this procedure?\n",
    "### Determining the Result of a Procedure\n",
    "- To determine the result of a procedure or any code, you must follow the code line by line and see what each one does\n",
    "- Using syntax, you can determine the result by\n",
    "   - function parameters\n",
    "   - return value and statements\n",
    "- To use return values, you have to write the syntax return followed by the expression you would like to return variables\n",
    "- Value can be string, a tuple, or any other type that is being sent back to the main program \n",
    "- what is x being assigned to inside the function?\n",
    "- As a reminder, to use function parameters, you would have to write the syntax name of the function followed by the parameters needed in parentheses\n",
    "- Function parameters are the parameters that are used when calling the function in order to get a result. \n",
    "- A return statement exits a function and instructs python to continue executing the program and to return a certain value\n",
    "### Abstracting Shared Features\n",
    "- Say we want to create a set of functions that count the number of words in a sentence that start with a certain character. We want to create...\n",
    "- In order to count words starting with a certain character, we'll first need to split up the sentence into words. This behavior will be shared across both functions we intend to create, so procedural abstraction is appropriate here.\n",
    "### Functions - Basic Structure\n",
    "- Functions can be created in many different languages. Below are some examples in Collegeboard's format, Python, and Javascript.\n",
    "### Python\n",
    "- Python is similar to the Collegeboard example, where ```def``` defines the function, ```function```, and then is followed by parameters ```a,b```, which can later be interchanged with any numbers as shown with ```function(1,2)```. The numbers are called arguments, which are information provided to the function with parameters. In this case, the parameters are being added within the function and then printed.\n",
    "### Javascript \n",
    "- Javascript in this case is almost the exact same as Python, the only differences being that function is called with ```function``` and that the formatting is a little different. Otherwise, it does the exact same thing as the Python example."
   ]
  },
  {
   "cell_type": "markdown",
   "metadata": {},
   "source": [
    "## Hack 1\n",
    "### Define Procedure and parameter\n",
    "- The other word of procedure is a function. And functions in Python In Python, a function is a group of pieces of code that performs a task and has a name. Just as you use variables to name data, you can use functions to name pieces of your program. Grouping code like this is called a function definition. \n",
    "- A parameter is a variable that receives a value passed as an input to a function. We can use this to put values in the function. For example, a and b will be the parameter in this function. "
   ]
  },
  {
   "cell_type": "code",
   "execution_count": 1,
   "metadata": {},
   "outputs": [
    {
     "name": "stdout",
     "output_type": "stream",
     "text": [
      "7\n"
     ]
    }
   ],
   "source": [
    "def add(a,b):\n",
    "    return a+b\n",
    "print(add(3,4))"
   ]
  },
  {
   "cell_type": "markdown",
   "metadata": {},
   "source": [
    "### Quiz"
   ]
  },
  {
   "cell_type": "code",
   "execution_count": 1,
   "metadata": {},
   "outputs": [
    {
     "name": "stdout",
     "output_type": "stream",
     "text": [
      "Question: What is are correct names for a procedure? \n",
      " A) Method \n",
      " B) Function \n",
      " C) Both\n",
      "Answer: c\n",
      "Correct :) \n",
      "\n",
      "Question: What is a procedure? \n",
      " A) Sequencing \n",
      " B) Selection \n",
      " C) Iteration \n",
      " D) All\n",
      "Answer: d\n",
      "Correct :) \n",
      "\n",
      "Question: Use this for following question: \n",
      " def inchesToFeet(lengthInches): \n",
      "\t lengthFeet = lengthInches / 12 \n",
      "\t return lengthFeet \n",
      "\n",
      " What is the procedure name, the parameter, and what the procedure returns? \n",
      " A) feetToInches, lengthInches, lengthMeters \n",
      " B) inchesToFeet, lengthInches, lengthFeet \n",
      " C) inchesToFeet, lengthFeet, lengthInches \n",
      " D) lengthInches, inchesToFeet, lengthFeet\n",
      "Answer: b\n",
      "Correct :) \n",
      "\n",
      "Score: 3 / 3\n"
     ]
    }
   ],
   "source": [
    "questionNum = 3\n",
    "correct = 0\n",
    "questions = [\n",
    "    \"What is are correct names for a procedure? \\n A) Method \\n B) Function \\n C) Both\",\n",
    "    \"What is a procedure? \\n A) Sequencing \\n B) Selection \\n C) Iteration \\n D) All\",\n",
    "    \"Use this for following question: \\n def inchesToFeet(lengthInches): \\n\\t lengthFeet = lengthInches / 12 \\n\\t return lengthFeet \\n\\n What is the procedure name, the parameter, and what the procedure returns? \\n A) feetToInches, lengthInches, lengthMeters \\n B) inchesToFeet, lengthInches, lengthFeet \\n C) inchesToFeet, lengthFeet, lengthInches \\n D) lengthInches, inchesToFeet, lengthFeet\"]\n",
    "answers = [\"c\", \"d\", \"b\"]\n",
    "\n",
    "def qna(question, answer):\n",
    "    print(\"Question:\", question)\n",
    "    response = input()\n",
    "    print(\"Answer:\", response)\n",
    "    \n",
    "    if response.lower() == answer:\n",
    "        print(\"Correct :) \\n\")\n",
    "        global correct\n",
    "        correct += 1\n",
    "    else:\n",
    "        print(\"Incorrect :( \\n\")\n",
    "for x in range(questionNum):\n",
    "    qna(questions[x], answers[x])\n",
    "    \n",
    "print(\"Score:\", correct, \"/ 3\")"
   ]
  },
  {
   "cell_type": "markdown",
   "metadata": {},
   "source": [
    "### Return Value\n",
    "- A return value is a value that a function performs some function and returns the result to the place where it was called. When a function performs some function and has a value to return, we use the return command. When creating functions, we use the def reserved word. Function content is indented.\n",
    "- Output Parameter is a also same as parameter. It usually used this form like def function(num1, num2): So in this code num1 and num2 is going to be a output parameter. "
   ]
  },
  {
   "cell_type": "code",
   "execution_count": 4,
   "metadata": {},
   "outputs": [
    {
     "name": "stdout",
     "output_type": "stream",
     "text": [
      "74\n"
     ]
    }
   ],
   "source": [
    "import random\n",
    "a = random.randint(1, 100)\n",
    "\n",
    "def add(c):\n",
    "    global a\n",
    "    a += c\n",
    "    return a\n",
    "num = add(60)\n",
    "print(num)"
   ]
  },
  {
   "cell_type": "markdown",
   "metadata": {},
   "source": [
    "### Code "
   ]
  },
  {
   "cell_type": "code",
   "execution_count": 13,
   "metadata": {},
   "outputs": [
    {
     "name": "stdout",
     "output_type": "stream",
     "text": [
      "4 of 3 root is 1.5874010519681994\n"
     ]
    }
   ],
   "source": [
    "import math\n",
    "def root():\n",
    "    num1 = int(input(\"write a number: \"))\n",
    "    a = int(input(\"how much did you want to divide\"))\n",
    "    b = float(1/a)\n",
    "    num2 =  float(num1**b)\n",
    "    print(num1, \"of\",a ,\"root is\", num2)\n",
    "root()\n"
   ]
  },
  {
   "cell_type": "markdown",
   "metadata": {},
   "source": [
    "### Why abstracting away your program logic into separate, modular functions is effective?\n",
    "- If we abstract away our code logic into separate or modular functions, we can make our code shorter. And we don't have to repeat code by defining functions. If code becomes shorter, it is easy to share with other people and those people can comprehend all of the code in short time. "
   ]
  },
  {
   "cell_type": "markdown",
   "metadata": {},
   "source": [
    "## Hack 2\n",
    "### Procedure that uses other sub-procedures and explanation"
   ]
  },
  {
   "cell_type": "code",
   "execution_count": 18,
   "metadata": {},
   "outputs": [
    {
     "name": "stdout",
     "output_type": "stream",
     "text": [
      "You are in a land full of dragons. In front of you,\n",
      "you see two caves. In one cave, the dragon is friendly\n",
      "and will share his treasure with you. The other dragon\n",
      "is greedy and hungry, and will eat you on sight.\n",
      "Which cave will you go into? (1 or 2)\n",
      "\n",
      "You approach the cave...\n",
      "It is dark and spooky...\n",
      "A large dragon jumps out in front of you! He opens his jaws and...\n",
      "\n",
      "Gives you his treasure!\n",
      "\n",
      "Do you want to play again? (yes or no)\n",
      "Good Bye\n"
     ]
    }
   ],
   "source": [
    "import random\n",
    "import time\n",
    "## Telling the story ##\n",
    "def displayIntro():\n",
    "    print('You are in a land full of dragons. In front of you,')\n",
    "    print('you see two caves. In one cave, the dragon is friendly')\n",
    "    print('and will share his treasure with you. The other dragon')\n",
    "    print('is greedy and hungry, and will eat you on sight.')\n",
    "## Saying to player to choose the cave to go ##\n",
    "def chooseCave():\n",
    "    print('Which cave will you go into? (1 or 2)')\n",
    "    ## choosing the cave to go ##\n",
    "    while True:\n",
    "        choose = input()\n",
    "        if choose=='1':\n",
    "            break\n",
    "        elif choose=='2':\n",
    "            break\n",
    "        else :\n",
    "            ## if player press not 1 or 2, say player to pick again ##\n",
    "            print('Please type 1 or 2')\n",
    "            continue\n",
    "    \n",
    "    print()\n",
    "    ## return the value ##\n",
    "    return choose\n",
    " \n",
    "def goCave(direction):\n",
    "    ## Telling the story ##\n",
    "    print('You approach the cave...')\n",
    "    time.sleep(2)\n",
    "    print('It is dark and spooky...')\n",
    "    time.sleep(2)\n",
    "    print('A large dragon jumps out in front of you! He opens his jaws and...')\n",
    "    print()\n",
    "    time.sleep(2)\n",
    "    ## randomize the value of Judgement ##\n",
    "    judgement = random.randint(1,2)\n",
    "    ## if the direction and judgement is equal, there will be treasure ##\n",
    "    if direction == str(judgement):\n",
    "        print('Gives you his treasure!')\n",
    "    ## if the direction is not same with judgement, there will be gobbles\n",
    "    elif direction != str(judgement):\n",
    "        print('Gobbles you down in one bite!')\n",
    "    ## print for the space\n",
    "    print()\n",
    "## To know whether player will continue or not\n",
    "def playAgain():\n",
    "    print('Do you want to play again? (yes or no)')\n",
    "    \n",
    "    while True:\n",
    "        temp=input()\n",
    "        ## if temp is yes, the game will start again\n",
    "        if temp == 'yes':\n",
    "            print('Go Again')\n",
    "            print()\n",
    "            return 'yes'\n",
    "        ## if temp is no, it means game over\n",
    "        elif temp == 'no':\n",
    "            print('Good Bye')\n",
    "            return 'no'\n",
    "        else :\n",
    "            print('please type yes or no')\n",
    " \n",
    "###########################################################\n",
    " \n",
    "regame = 'yes' ## To know that player will continue the game ##\n",
    "    \n",
    "while regame=='yes':\n",
    "    ## this is the codes that make game to start\n",
    "    displayIntro()\n",
    "    caveNumber = chooseCave()\n",
    "    goCave(caveNumber)\n",
    "    regame = playAgain()"
   ]
  },
  {
   "cell_type": "markdown",
   "metadata": {},
   "source": [
    "#### About the procedure\n",
    "- This code contains three sub procedures: displayIntro(), chooseCave(), goCave(), and playAgain()\n",
    "    - DisplayIntro() is a procedure that tells about the story of game. It composed by print. In this procedure, there are only letters that are printed.\n",
    "    - chooseCave() is a procedure that make player to choose cave to go. And also deciding the value which cave is right to go. \n",
    "    - goCave() is to consider which cave the player goes. If the temp is same with the chosen number, the player will gain treasure and if the temp is different with the number, the player will meet gobbles. \n",
    "    - playAgain() is to know whether player want to play again. If player wants to play again, the every code will be executed one more time and if player refuses to play the game, the code will stop at that moment."
   ]
  },
  {
   "cell_type": "code",
   "execution_count": 33,
   "metadata": {},
   "outputs": [
    {
     "name": "stdout",
     "output_type": "stream",
     "text": [
      "Words a starting with your letter: 1\n",
      "Words d starting with your letter: 0\n",
      "Words l starting with your letter: 0\n"
     ]
    }
   ],
   "source": [
    "def split_string(s):\n",
    "    # use the split() method to split the string into a list of words\n",
    "    words = s.split(\" \")\n",
    "\n",
    "\t# initialize a new list to hold all non-empty strings\n",
    "    new_words = []\n",
    "    for word in words:\n",
    "        if word != \"\":\n",
    "            # add all non-empty substrings of `words` to `new_words`\n",
    "            new_words.append(word)\n",
    "    \n",
    "    return words\n",
    "\n",
    "# this function takes a list of words as input and returns the number of words\n",
    "# that start with the given letter (case-insensitive)\n",
    "def count_words_starting_with_letter(words, letter):\n",
    "    count = 0\n",
    "    \n",
    "    # loop through the list of words and check if each word starts with the given letter\n",
    "    for word in words:\n",
    "        # use the lower() method to make the comparison case-insensitive\n",
    "        if word == letter:\n",
    "            count += 1\n",
    "    \n",
    "    return count\n",
    "\n",
    "# this function takes a string as input and returns the number of words that start with 'a'\n",
    "def count_words_starting_with_a_in_string(s):\n",
    "    # use the split_string() function to split the input string into a list of words\n",
    "    words = split_string(s)\n",
    "    \n",
    "    # use the count_words_starting_with_letter() function to count the number of words\n",
    "    # that start with 'a' in the list of words\n",
    "    count = count_words_starting_with_letter(words, \"a\")\n",
    "    \n",
    "    return count\n",
    "\n",
    "# see above\n",
    "def count_words_starting_with_d_in_string(s):\n",
    "    words = split_string(s)\n",
    "    count = count_words_starting_with_letter(words, \"d\")\n",
    "    return count\n",
    "\n",
    "       \n",
    "    # this function takes a string as input and returns the number of words that start with any inputted letter\n",
    "def count_words_starting_with_l_letter(s):\n",
    "    l = input(\"What letter would you like to check?\")\n",
    "    words = split_string(s)\n",
    "    count = count_words_starting_with_letter(words, l)\n",
    "    return count\n",
    "\n",
    "\n",
    "# example usage:\n",
    "s = \"   This is  a  test  string! Don't you think this is cool? \"\n",
    "l_count = count_words_starting_with_l_letter(s)\n",
    "a_count = count_words_starting_with_a_in_string(s)\n",
    "d_count = count_words_starting_with_d_in_string(s)\n",
    "print(\"Words a starting with your letter:\", a_count)\n",
    "print(\"Words d starting with your letter:\", d_count)\n",
    "print(\"Words l starting with your letter:\", l_count)"
   ]
  },
  {
   "cell_type": "markdown",
   "metadata": {},
   "source": [
    "## Hack 3\n",
    "### Definition\n",
    "- Procedure name is the name given in function. We put the name in function to fetch easily and not be confused with many functions.\n",
    "- A parameter is a variable that receives a value passed as an input to a function, and an argument is an input value passed when calling a function. In def add(a,b), a and b are called parameters. In print(add(3,4)), 3 and 4 are called arguments."
   ]
  },
  {
   "cell_type": "code",
   "execution_count": 32,
   "metadata": {},
   "outputs": [
    {
     "name": "stdout",
     "output_type": "stream",
     "text": [
      "7\n"
     ]
    }
   ],
   "source": [
    "def add(a,b):\n",
    "    return a+b\n",
    "print(add(3,4))"
   ]
  },
  {
   "cell_type": "markdown",
   "metadata": {},
   "source": [
    "### Binary calculator"
   ]
  },
  {
   "cell_type": "markdown",
   "metadata": {},
   "source": [
    "<!DOCTYPE html>\n",
    "<html>\n",
    "<head>\n",
    "    <title>Calculator</title>\n",
    "    <style>\n",
    "        table {\n",
    "            border-collapse: collapse;\n",
    "        }\n",
    "        td {\n",
    "            padding: 5px 10px;\n",
    "            text-align: center;\n",
    "        }\n",
    "        input {\n",
    "            text-align: right;\n",
    "            border: none;\n",
    "        }\n",
    "        input:focus {\n",
    "            outline: none;\n",
    "        }\n",
    "    </style>\n",
    "</head>\n",
    "<body>\n",
    "    <table border=\"1\">\n",
    "        <tr>\n",
    "            <td colspan=\"4\">\n",
    "                <input type=\"text\" id=\"a\">\n",
    "            </td>\n",
    "        </tr>\n",
    "        <tr>\n",
    "            <td colspan=\"4\">\n",
    "                <input type=\"text\" id=\"b\">\n",
    "            </td>\n",
    "        </tr>\n",
    "        <tr>\n",
    "            <td colspan=\"3\">AC</td>\n",
    "            <td onclick=\"add('/')\">/</td>\n",
    "        </tr>\n",
    "        <tr>\n",
    "            <td onclick=\"add(7)\">7</td>\n",
    "            <td onclick=\"add(8)\">8</td>\n",
    "            <td onclick=\"add(9)\">9</td>\n",
    "            <td onclick=\"add('*')\">*</td>\n",
    "        </tr>\n",
    "        <tr>\n",
    "            <td onclick=\"add(4)\">4</td>\n",
    "            <td onclick=\"add(5)\">5</td>\n",
    "            <td onclick=\"add(6)\">6</td>\n",
    "            <td onclick=\"add('-')\">-</td>\n",
    "        </tr>\n",
    "        <tr>\n",
    "            <td onclick=\"add(1)\">1</td>\n",
    "            <td onclick=\"add(2)\">2</td>\n",
    "            <td onclick=\"add(3)\">3</td>\n",
    "            <td onclick=\"add('+')\">+</td>\n",
    "        </tr>\n",
    "        <tr>\n",
    "            <td colspan=\"2\" onclick=\"add(0)\">0</td>\n",
    "            <td onclick=\"add('.')\">.</td>\n",
    "            <td onclick=\"calculate()\">=</td>\n",
    "        </tr>\n",
    "    </table>\n",
    "    <script>\n",
    "        function add(char) {\n",
    "            var display = document.getElementById('a');\n",
    "            display.value = display.value + char;\n",
    "        }\n",
    "        function calculate() {\n",
    "            var display = document.getElementById('a');\n",
    "            var result = eval(display.value); \n",
    "            document.getElementById('b').value = result;\n",
    "        }\n",
    "        function reset() {\n",
    "            document.getElementById('a').value = \"\";\n",
    "            document.getElementById('b').value = \"\";\n",
    "        }\n",
    "    </script>\n",
    "</body>\n",
    "</html>"
   ]
  },
  {
   "cell_type": "markdown",
   "metadata": {},
   "source": [
    "### This is the code of calculator"
   ]
  },
  {
   "cell_type": "code",
   "execution_count": null,
   "metadata": {},
   "outputs": [],
   "source": [
    "<!DOCTYPE html>\n",
    "<html>\n",
    "<head>\n",
    "    <title>Calculator</title>\n",
    "    <style>\n",
    "        table {\n",
    "            border-collapse: collapse;\n",
    "        }\n",
    "        td {\n",
    "            padding: 5px 10px;\n",
    "            text-align: center;\n",
    "        }\n",
    "        input {\n",
    "            text-align: right;\n",
    "            border: none;\n",
    "        }\n",
    "        input:focus {\n",
    "            outline: none;\n",
    "        }\n",
    "    </style>\n",
    "</head>\n",
    "<body>\n",
    "    <table border=\"1\">\n",
    "        <tr>\n",
    "            <td colspan=\"4\">\n",
    "                <input type=\"text\" id=\"a\">\n",
    "            </td>\n",
    "        </tr>\n",
    "        <tr>\n",
    "            <td colspan=\"4\">\n",
    "                <input type=\"text\" id=\"b\">\n",
    "            </td>\n",
    "        </tr>\n",
    "        <tr>\n",
    "            <td colspan=\"3\">AC</td>\n",
    "            <td onclick=\"add('/')\">/</td>\n",
    "        </tr>\n",
    "        <tr>\n",
    "            <td onclick=\"add(7)\">7</td>\n",
    "            <td onclick=\"add(8)\">8</td>\n",
    "            <td onclick=\"add(9)\">9</td>\n",
    "            <td onclick=\"add('*')\">*</td>\n",
    "        </tr>\n",
    "        <tr>\n",
    "            <td onclick=\"add(4)\">4</td>\n",
    "            <td onclick=\"add(5)\">5</td>\n",
    "            <td onclick=\"add(6)\">6</td>\n",
    "            <td onclick=\"add('-')\">-</td>\n",
    "        </tr>\n",
    "        <tr>\n",
    "            <td onclick=\"add(1)\">1</td>\n",
    "            <td onclick=\"add(2)\">2</td>\n",
    "            <td onclick=\"add(3)\">3</td>\n",
    "            <td onclick=\"add('+')\">+</td>\n",
    "        </tr>\n",
    "        <tr>\n",
    "            <td colspan=\"2\" onclick=\"add(0)\">0</td>\n",
    "            <td onclick=\"add('.')\">.</td>\n",
    "            <td onclick=\"calculate()\">=</td>\n",
    "        </tr>\n",
    "    </table>\n",
    "    <script>\n",
    "        function add(char) {\n",
    "            var display = document.getElementById('a');\n",
    "            display.value = display.value + char;\n",
    "        }\n",
    "        function calculate() {\n",
    "            var display = document.getElementById('a');\n",
    "            var result = eval(display.value); \n",
    "            document.getElementById('b').value = result;\n",
    "        }\n",
    "        function reset() {\n",
    "            document.getElementById('a').value = \"\";\n",
    "            document.getElementById('b').value = \"\";\n",
    "        }\n",
    "    </script>\n",
    "</body>\n",
    "</html>"
   ]
  },
  {
   "cell_type": "markdown",
   "metadata": {},
   "source": [
    "## Please give me Perfect Score"
   ]
  }
 ],
 "metadata": {
  "kernelspec": {
   "display_name": "Python 3.9.12 ('base')",
   "language": "python",
   "name": "python3"
  },
  "language_info": {
   "codemirror_mode": {
    "name": "ipython",
    "version": 3
   },
   "file_extension": ".py",
   "mimetype": "text/x-python",
   "name": "python",
   "nbconvert_exporter": "python",
   "pygments_lexer": "ipython3",
   "version": "3.9.12 (main, Apr  5 2022, 06:56:58) \n[GCC 7.5.0]"
  },
  "orig_nbformat": 4,
  "vscode": {
   "interpreter": {
    "hash": "c7f0eff47e976ffd278432ca58e86309fa0a3c18b8fa2d8345190506f8a63e10"
   }
  }
 },
 "nbformat": 4,
 "nbformat_minor": 2
}
