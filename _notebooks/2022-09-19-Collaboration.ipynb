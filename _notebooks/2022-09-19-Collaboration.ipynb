{
 "cells": [
  {
   "cell_type": "markdown",
   "metadata": {},
   "source": [
    "# Collaboration 1.1\n",
    "- toc: true\n",
    "- badges: true\n",
    "- comments: true\n",
    "- categories: [markdown]\n",
    "\n",
    "\n"
   ]
  },
  {
   "cell_type": "markdown",
   "metadata": {},
   "source": [
    "## Benefit of collaborating\n",
    "- Effective collaboration suppresses communication, consensus building, conflict resolution, and negotiation skills\n",
    "- Effective collaboration produces a computing innovation that reflects the diversity of talents and perspective of those who designed it.\n",
    "- We are humans, and when we code, we're not perfect and we have to think things through.\n",
    "\n",
    "## Interpersonal skills\n",
    "* Communication\n",
    "* Consensus Building\n",
    "* Conflict Resolution\n",
    "* Negotiation\n",
    "\n",
    "## How to collaborate in class\n",
    "Pair Programming: Two programmers work together as a pair. One(the driver) writes program code, while the other(the observer, pointer, or navigator) reviews each line of program code as it is typed in.\n",
    "Think pair share: Students think through a problem alone, pair with a partner to share ideas and then share results with the class\n",
    "\n",
    "## Leave comments\n",
    "* Communicate to your partner(s)\n",
    "* Communicate to yourself\n",
    "* Acknowledge code segments used from other sources\n",
    "* Acknowledge media used from other sources\n",
    "* Differentiate what you and your partner(s) did\n",
    "* Clarify the functionality of your code\n",
    "\n",
    "### Online tools\n",
    "+ repl.it - multiplayer\n",
    "+ Github - collaboration and repository\n",
    "\n",
    "#### shared document or folder\n",
    "#### Ask friends and family to test drive your program and give you feedback"
   ]
  }
 ],
 "metadata": {
  "kernelspec": {
   "display_name": "Python 3.8.10 64-bit",
   "language": "python",
   "name": "python3"
  },
  "language_info": {
   "name": "python",
   "version": "3.8.10"
  },
  "orig_nbformat": 4,
  "vscode": {
   "interpreter": {
    "hash": "916dbcbb3f70747c44a77c7bcd40155683ae19c65e1c03b4aa3499c5328201f1"
   }
  }
 },
 "nbformat": 4,
 "nbformat_minor": 2
}
