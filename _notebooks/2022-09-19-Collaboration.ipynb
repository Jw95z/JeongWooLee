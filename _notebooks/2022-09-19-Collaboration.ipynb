{
 "cells": [
  {
   "attachments": {},
   "cell_type": "markdown",
   "metadata": {},
   "source": [
    "# Collaboration 1.1\n",
    "- toc: true\n",
    "- badges: true\n",
    "- comments: true\n",
    "- categories: [Notes_from_video]\n",
    "\n",
    "\n"
   ]
  },
  {
   "cell_type": "markdown",
   "metadata": {},
   "source": [
    "\n",
    "## <font color='pink'>Benefit of collaborating</font>\n",
    "- Effective collaboration suppresses communication, consensus building, conflict resolution, and negotiation skills\n",
    "- Effective collaboration produces a computing innovation that reflects the diversity of talents and perspective of those who designed it.\n",
    "- We are humans, and when we code, we're not perfect and we have to think things through.\n",
    "\n",
    "## <font color='pink'>Interpersonal skills</font>\n",
    "* Communication\n",
    "* Consensus Building\n",
    "* Conflict Resolution\n",
    "* Negotiation\n",
    "\n",
    "## <font color='pink'>How to collaborate in class</font>\n",
    "Pair Programming: Two programmers work together as a pair. One(the driver) writes program code, while the other(the observer, pointer, or navigator) reviews each line of program code as it is typed in.\n",
    "Think pair share: Students think through a problem alone, pair with a partner to share ideas and then share results with the class\n",
    "\n",
    "## <font color='pink'>Leave comments</font>\n",
    "* Communicate to your partner(s)\n",
    "* Communicate to yourself\n",
    "* Acknowledge code segments used from other sources\n",
    "* Acknowledge media used from other sources\n",
    "* Differentiate what you and your partner(s) did\n",
    "* Clarify the functionality of your code\n",
    "\n",
    "### <font color='pink'>Online tools</font>\n",
    "+ repl.it - multiplayer\n",
    "+ Github - collaboration and repository\n",
    "\n",
    "\n",
    "#### <font color='pink'>shared document or folder</font>\n",
    "#### <font color='pink'>Ask friends and family to test drive your program and give you feedback</font>"
   ]
  }
 ],
 "metadata": {
  "kernelspec": {
   "display_name": "Python 3.9.12 ('base')",
   "language": "python",
   "name": "python3"
  },
  "language_info": {
   "name": "python",
   "version": "3.8.10"
  },
  "orig_nbformat": 4,
  "vscode": {
   "interpreter": {
    "hash": "c7f0eff47e976ffd278432ca58e86309fa0a3c18b8fa2d8345190506f8a63e10"
   }
  }
 },
 "nbformat": 4,
 "nbformat_minor": 2
}
