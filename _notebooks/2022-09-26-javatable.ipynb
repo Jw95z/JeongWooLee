{
 "cells": [
  {
   "cell_type": "markdown",
   "metadata": {},
   "source": [
    "# Table\n",
    "- toc: true\n",
    "- comments: true\n",
    "- badges: true\n",
    "- categories: [week5]"
   ]
  },
  {
   "cell_type": "markdown",
   "metadata": {},
   "source": [
    "<!DOCTYPE html>\n",
    "<html>\n",
    "    <head>\n",
    "        <style>\n",
    "            table {\n",
    "                border-collapse: collapse;\n",
    "                border-spacing: 0;\n",
    "            }\n",
    "            th, td {\n",
    "                padding: 10px 20px;\n",
    "                border: 1px solid #000;\n",
    "            }\n",
    "        </style>\n",
    "    </head>\n",
    "    <body>\n",
    "        <h1>Minecraft Resources<h1>\n",
    "        <table>\n",
    "            <tr>\n",
    "                <th>Resources</th>\n",
    "                <th>Description</th>\n",
    "                <th> Images</th>\n",
    "            </tr>\n",
    "            <tr>\n",
    "                <td style = \"color:skyblue;\"><font size= \"5\">Diamond</td>\n",
    "                <td style=\"font-size: 50%;\">A rare mineral obtained from diamond ore or loot chests</td>\n",
    "                <td align=center><img src=\"dia1.png\" width = 50 height = 50></td>\n",
    "            </tr>\n",
    "            <tr>\n",
    "                <td style = \"color:gold;\"><font size= \"5\">Gold</td>\n",
    "                <td style=\"font-size: 50%;\">A material found in both the overworld and the Nether</td>\n",
    "                <td align=center><img src=\"gold1.png\" width = 50 height = 50></td>\n",
    "            </tr>\n",
    "            <tr>\n",
    "                <td style = \"color:silver;\"><font size= \"5\">Iron</td>\n",
    "                <td style = \"font-size: 50%;\">The product of the naturally occuring Silver Ore that is located underground</td>\n",
    "                <td align=center><img src=\"download5.png\" width = 50 height = 50></td>\n",
    "            </tr>\n",
    "            <tr>\n",
    "                <td style = \"color:green;\"><font size= \"5\">Emerald</td>\n",
    "                <td style = \"font-size: 50%;\">Rare minerals that are used primarily as the currency for trading with villagers and wandering traders</td>\n",
    "                <td align=center><img src=\"download6.png\" width = 50 height = 50></td>\n",
    "            </tr>\n",
    "            <tr>\n",
    "                <td style = \"color:brown\"><font size= \"5\">Netherite</td>\n",
    "                <td style = \"font-size: 50%;\">A material from the Nether, used primarily to upgrade diamond gear</td>\n",
    "                <td align=center><img src=\"ne1.png\" width = 50 height = 50></td>\n",
    "            </tr>\n",
    "        </table>\n",
    "    </body>\n",
    "</html>\n",
    "\n",
    "        "
   ]
  }
 ],
 "metadata": {
  "kernelspec": {
   "display_name": "JavaScript (Node.js)",
   "language": "javascript",
   "name": "javascript"
  },
  "language_info": {
   "name": "javascript",
   "version": "3.9.12"
  },
  "orig_nbformat": 4,
  "vscode": {
   "interpreter": {
    "hash": "c7f0eff47e976ffd278432ca58e86309fa0a3c18b8fa2d8345190506f8a63e10"
   }
  }
 },
 "nbformat": 4,
 "nbformat_minor": 2
}
