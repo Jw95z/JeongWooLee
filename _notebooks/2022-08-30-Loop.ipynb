{
 "cells": [
  {
   "cell_type": "code",
   "execution_count": 21,
   "metadata": {},
   "outputs": [
    {
     "name": "stdout",
     "output_type": "stream",
     "text": [
      "While loop output\n",
      "\n",
      "James Lee\n",
      "\t Residence: San Diego\n",
      "\t Birth Day: Sempember 5\n",
      "\t Email: michaelmichael6909@gmail.com\n",
      "\t Owns_sisters: Chole, Rayna\n"
     ]
    }
   ],
   "source": [
    "InfoDb = []\n",
    "InfoDb.append({\n",
    "    \"FirstName\": \"James\",\n",
    "    \"LastName\": \"Lee\",\n",
    "    \"DOB\": \"Sempember 5\",\n",
    "    \"Residence\": \"San Diego\",\n",
    "    \"Email\": \"michaelmichael6909@gmail.com\",\n",
    "    \"Owns_sisters\": [\"Chole\", \"Rayna\"]\n",
    "})\n",
    "def print_data(d_rec):\n",
    "    print(d_rec[\"FirstName\"], d_rec[\"LastName\"]) \n",
    "    print(\"\\t\", \"Residence:\", d_rec[\"Residence\"]) \n",
    "    print(\"\\t\", \"Birth Day:\", d_rec[\"DOB\"])\n",
    "    print(\"\\t\", \"Email:\", d_rec[\"Email\"])\n",
    "    print(\"\\t\", \"Owns_sisters:\", \", \".join(d_rec[\"Owns_sisters\"]) ) \n",
    "    \n",
    "    \n",
    "def while_loop():\n",
    "    print(\"While loop output\\n\")\n",
    "    i = 0\n",
    "    for i in range(0, len(InfoDb)):\n",
    "        record = InfoDb[i]\n",
    "        print_data(record)\n",
    "        \n",
    "    return\n",
    "\n",
    "while_loop()"
   ]
  },
  {
   "cell_type": "markdown",
   "metadata": {},
   "source": [
    "#List\n",
    "- toc: true\n",
    "- badges: true\n",
    "- comments: true\n",
    "- catergories: [jupyter]"
   ]
  }
 ],
 "metadata": {
  "kernelspec": {
   "display_name": "Python 3.8.10 64-bit",
   "language": "python",
   "name": "python3"
  },
  "language_info": {
   "codemirror_mode": {
    "name": "ipython",
    "version": 3
   },
   "file_extension": ".py",
   "mimetype": "text/x-python",
   "name": "python",
   "nbconvert_exporter": "python",
   "pygments_lexer": "ipython3",
   "version": "3.8.10"
  },
  "orig_nbformat": 4,
  "vscode": {
   "interpreter": {
    "hash": "916dbcbb3f70747c44a77c7bcd40155683ae19c65e1c03b4aa3499c5328201f1"
   }
  }
 },
 "nbformat": 4,
 "nbformat_minor": 2
}
